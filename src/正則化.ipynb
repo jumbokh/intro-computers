{
  "nbformat": 4,
  "nbformat_minor": 0,
  "metadata": {
    "colab": {
      "name": "正則化.ipynb",
      "provenance": [],
      "collapsed_sections": []
    },
    "kernelspec": {
      "name": "python3",
      "display_name": "Python 3"
    },
    "accelerator": "GPU"
  },
  "cells": [
    {
      "cell_type": "markdown",
      "metadata": {
        "id": "zCZTed0kb4e5",
        "colab_type": "text"
      },
      "source": [
        "### [Python數據科學：正則化方法！](https://kknews.cc/zh-tw/news/g3xllxm.html)\n",
        "## [github](https://github.com/cylcc06/classpy.git)"
      ]
    },
    {
      "cell_type": "markdown",
      "metadata": {
        "id": "CmEgKwzecIGw",
        "colab_type": "text"
      },
      "source": [
        "<pre>\n",
        "Python數據科學：正則化方法！\n",
        "一、嶺回歸\n",
        "\n",
        "嶺回歸通過人為加入的懲罰項(約束項)，對回歸係數進行估計，為有偏估計。\n",
        "\n",
        "有偏估計，允許估計有不大的偏度，以換取估計的誤差顯著減小，並在其殘差平方和為最小的原則下估計回歸係數。\n",
        "通常嶺回歸方程中的R²會稍低於線性回歸分析，但回歸係數的顯著性往往明顯高於普通線性回歸。\n",
        "</pre>"
      ]
    },
    {
      "cell_type": "code",
      "metadata": {
        "id": "VCvI4rYocD5t",
        "colab_type": "code",
        "colab": {}
      },
      "source": [
        "import numpy as np \n",
        "import pandas as pd \n",
        "import matplotlib.pyplot as plt \n",
        "from sklearn.linear_model import Ridge \n",
        "from sklearn.linear_model import RidgeCV \n",
        "from sklearn.preprocessing import StandardScaler"
      ],
      "execution_count": 0,
      "outputs": []
    },
    {
      "cell_type": "code",
      "metadata": {
        "id": "kq531FhzclSu",
        "colab_type": "code",
        "outputId": "964f8512-1b67-4da4-af92-b5ed43980c72",
        "colab": {
          "base_uri": "https://localhost:8080/",
          "height": 123
        }
      },
      "source": [
        "from google.colab import drive\n",
        "drive.mount('/content/drive', force_remount=True)"
      ],
      "execution_count": 0,
      "outputs": [
        {
          "output_type": "stream",
          "text": [
            "Go to this URL in a browser: https://accounts.google.com/o/oauth2/auth?client_id=947318989803-6bn6qk8qdgf4n4g3pfee6491hc0brc4i.apps.googleusercontent.com&redirect_uri=urn%3aietf%3awg%3aoauth%3a2.0%3aoob&response_type=code&scope=email%20https%3a%2f%2fwww.googleapis.com%2fauth%2fdocs.test%20https%3a%2f%2fwww.googleapis.com%2fauth%2fdrive%20https%3a%2f%2fwww.googleapis.com%2fauth%2fdrive.photos.readonly%20https%3a%2f%2fwww.googleapis.com%2fauth%2fpeopleapi.readonly\n",
            "\n",
            "Enter your authorization code:\n",
            "··········\n",
            "Mounted at /content/drive\n"
          ],
          "name": "stdout"
        }
      ]
    },
    {
      "cell_type": "code",
      "metadata": {
        "id": "rehra-V5f8cs",
        "colab_type": "code",
        "colab": {}
      },
      "source": [
        "! ln -fs /content/drive/\"My Drive\"/\"Colab Notebooks\"/Datascience /app"
      ],
      "execution_count": 0,
      "outputs": []
    },
    {
      "cell_type": "code",
      "metadata": {
        "id": "dRPKpqf-gPEx",
        "colab_type": "code",
        "outputId": "7a21c495-7a9a-422f-9ee3-5d617c23e688",
        "colab": {
          "base_uri": "https://localhost:8080/",
          "height": 242
        }
      },
      "source": [
        "!tar -xzvf /app/cuDNN/cudnn-10.0-linux-x64-v7.5.0.56.tgz -C /usr/local/\n",
        "!chmod a+r /usr/local/cuda/include/cudnn.h\n",
        "\n",
        "# Check if install CUDA Driver\n",
        "!cat /usr/local/cuda/include/cudnn.h | grep CUDNN_MAJOR -A 2"
      ],
      "execution_count": 0,
      "outputs": [
        {
          "output_type": "stream",
          "text": [
            "cuda/include/cudnn.h\n",
            "cuda/NVIDIA_SLA_cuDNN_Support.txt\n",
            "cuda/lib64/libcudnn.so\n",
            "cuda/lib64/libcudnn.so.7\n",
            "cuda/lib64/libcudnn.so.7.5.0\n",
            "cuda/lib64/libcudnn_static.a\n",
            "#define CUDNN_MAJOR 7\n",
            "#define CUDNN_MINOR 5\n",
            "#define CUDNN_PATCHLEVEL 0\n",
            "--\n",
            "#define CUDNN_VERSION (CUDNN_MAJOR * 1000 + CUDNN_MINOR * 100 + CUDNN_PATCHLEVEL)\n",
            "\n",
            "#include \"driver_types.h\"\n"
          ],
          "name": "stdout"
        }
      ]
    },
    {
      "cell_type": "code",
      "metadata": {
        "id": "kTSQy6GvgTTQ",
        "colab_type": "code",
        "outputId": "1158f888-01cc-4e60-fdb4-ada94045f811",
        "colab": {
          "base_uri": "https://localhost:8080/",
          "height": 34
        }
      },
      "source": [
        "%cd /app/classpy"
      ],
      "execution_count": 0,
      "outputs": [
        {
          "output_type": "stream",
          "text": [
            "/content/drive/My Drive/Colab Notebooks/Datascience/classpy\n"
          ],
          "name": "stdout"
        }
      ]
    },
    {
      "cell_type": "code",
      "metadata": {
        "id": "OVuLn-URgahQ",
        "colab_type": "code",
        "colab": {}
      },
      "source": [
        "# 消除pandas輸出省略號情況及換行情況 \n",
        "pd.set_option('display.max_columns', 500) \n",
        "pd.set_option('display.width', 1000) \n",
        "# 讀取數據,skipinitialspace:忽略分隔符後的空白 \n",
        "df = pd.read_csv('creditcard_exp.csv', skipinitialspace=True) \n",
        "# 獲取信用卡有支出的行數據 \n",
        "exp = df[df['avg_exp'].notnull()].copy().iloc[:, 2:].drop('age2', axis=1) \n",
        "# 獲取信用卡無支出的行數據,NaN \n",
        "exp_new = df[df['avg_exp'].isnull()].copy().iloc[:, 2:].drop('age2', axis=1)"
      ],
      "execution_count": 0,
      "outputs": []
    },
    {
      "cell_type": "code",
      "metadata": {
        "id": "2kTy2EYQgz_5",
        "colab_type": "code",
        "colab": {}
      },
      "source": [
        "# 選擇4個連續變量,分別是年齡 收入 當地小區價格 當地人均收入 \n",
        "continuous_xcols = ['Age', 'Income', 'dist_home_val', 'dist_avg_income'] \n",
        "# 標準化 \n",
        "scaler = StandardScaler() \n",
        "# 解釋變量,二維數組 \n",
        "X = scaler.fit_transform(exp[continuous_xcols]) \n",
        "# 被解釋變量,一維數組 \n",
        "y = exp['avg_exp_ln']"
      ],
      "execution_count": 0,
      "outputs": []
    },
    {
      "cell_type": "code",
      "metadata": {
        "id": "w96BXptzhEqN",
        "colab_type": "code",
        "outputId": "3d47f08e-376e-48ba-b635-c98ac641a2bc",
        "colab": {
          "base_uri": "https://localhost:8080/",
          "height": 51
        }
      },
      "source": [
        "# 生成正則化係數 \n",
        "alphas = np.logspace(-2, 3, 100, base=10) \n",
        "# 使用不同的正則化係數對模型進行交叉驗證 \n",
        "rcv = RidgeCV(alphas=alphas, store_cv_values=True) \n",
        "# 使用數據集訓練(fit) \n",
        "rcv.fit(X, y) \n",
        "# 輸出最優參數,正則化係數及相應模型R² \n",
        "print('The best alpha is {}'.format(rcv.alpha_)) \n",
        "print('The r-square is {}'.format(rcv.score(X, y)))"
      ],
      "execution_count": 0,
      "outputs": [
        {
          "output_type": "stream",
          "text": [
            "The best alpha is 0.2915053062825176\n",
            "The r-square is 0.4756826777019506\n"
          ],
          "name": "stdout"
        }
      ]
    },
    {
      "cell_type": "code",
      "metadata": {
        "id": "fGTBILnXhVos",
        "colab_type": "code",
        "outputId": "5a2ef9c0-8016-4241-d0da-90ccbf4ce94c",
        "colab": {
          "base_uri": "https://localhost:8080/",
          "height": 34
        }
      },
      "source": [
        "# 訓練好後使用transform進行數據轉換 \n",
        "X_new = scaler.transform(exp_new[continuous_xcols]) \n",
        "# 使用模型對數據做預測 \n",
        "print(np.exp(rcv.predict(X_new)[:5]))"
      ],
      "execution_count": 0,
      "outputs": [
        {
          "output_type": "stream",
          "text": [
            "[759.67677561 606.74024213 661.20654568 681.888929   641.06967182]\n"
          ],
          "name": "stdout"
        }
      ]
    },
    {
      "cell_type": "markdown",
      "metadata": {
        "id": "N6QZm8hphu5Q",
        "colab_type": "text"
      },
      "source": [
        "<pre>\n",
        "最優正則化係數為0.29，模型R²為0.475。\n",
        "\n",
        "並使用最優正則化係數下的嶺回歸模型預測數據。\n",
        "\n",
        "對不同正則化係數下模型的均方誤差進行可視化。\n",
        "\n",
        "</pre>"
      ]
    },
    {
      "cell_type": "code",
      "metadata": {
        "id": "wcXy2XRwhdyS",
        "colab_type": "code",
        "outputId": "1d388cd9-ecb2-4be0-a2fe-28c6ad3bbcda",
        "colab": {
          "base_uri": "https://localhost:8080/",
          "height": 287
        }
      },
      "source": [
        "# 正則化係數搜索空間當中每輪交叉驗證的結果,模型的均方誤差 \n",
        "cv_values = rcv.cv_values_ \n",
        "n_fold, n_alphas = cv_values.shape \n",
        "# 模型均方誤差上下波動值 \n",
        "cv_mean = cv_values.mean(axis=0) \n",
        "cv_std = cv_values.std(axis=0) \n",
        "ub = cv_mean + cv_std / np.sqrt(n_fold) \n",
        "lb = cv_mean - cv_std / np.sqrt(n_fold) \n",
        "# 繪製折線圖,x軸是指數型形式 \n",
        "plt.semilogx(alphas, cv_mean, label='mean_score') \n",
        "# y1(lb)和y2(ub)之間進行填充 \n",
        "plt.fill_between(alphas, lb, ub, alpha=0.2) \n",
        "plt.xlabel('$\\\\alpha$') \n",
        "plt.ylabel('mean squared errors') \n",
        "plt.legend(loc='best') \n",
        "plt.show()"
      ],
      "execution_count": 0,
      "outputs": [
        {
          "output_type": "display_data",
          "data": {
            "image/png": "[encoded data removed]",
            "text/plain": [
              "<Figure size 432x288 with 1 Axes>"
            ]
          },
          "metadata": {
            "tags": []
          }
        }
      ]
    },
    {
      "cell_type": "markdown",
      "metadata": {
        "id": "3Z3U-IIAlZpD",
        "colab_type": "text"
      },
      "source": [
        "<pre>\n",
        "發現正則化係數在40或50以下時，模型的均方誤差相差不大。\n",
        "\n",
        "當係數超過該閾值時，均方誤差則快速上升。\n",
        "\n",
        "所以正則化係數只要小於40或50，模型的擬合效果應該都不錯。\n",
        "\n",
        "正則化係數越小則模型擬合越好，但過擬合情況也越容易發生。\n",
        "正則化係數越大，則越不容易過擬合，但模型的偏差越大。\n",
        "RidgeCV通過交叉驗證，可以快速返回「最優」的正則化係數。\n",
        "\n",
        "當這只是基於數值計算的，可能最終結果並不符合業務邏輯。\n",
        "\n",
        "比如本次模型的變量係數。\n",
        "\n",
        "</pre>"
      ]
    },
    {
      "cell_type": "code",
      "metadata": {
        "id": "VbK2SVr1lLEb",
        "colab_type": "code",
        "outputId": "5602d74e-50ca-4344-8935-5d58706ed11b",
        "colab": {
          "base_uri": "https://localhost:8080/",
          "height": 34
        }
      },
      "source": [
        "# 輸出模型的變量係數 \n",
        "print(rcv.coef_)"
      ],
      "execution_count": 0,
      "outputs": [
        {
          "output_type": "stream",
          "text": [
            "[ 0.03321449 -0.30956185  0.05551208  0.59067449]\n"
          ],
          "name": "stdout"
        }
      ]
    },
    {
      "cell_type": "markdown",
      "metadata": {
        "id": "LbbaD4Xyl3T9",
        "colab_type": "text"
      },
      "source": [
        "發現收入的係數為負值，這肯定是不合理的。\n",
        "\n",
        "下面通過嶺跡圖進行進一步分析。\n",
        "\n",
        "嶺跡圖是在不同正則化係數下變量係數的軌跡。\n"
      ]
    },
    {
      "cell_type": "code",
      "metadata": {
        "id": "oNMH6MbilwK2",
        "colab_type": "code",
        "colab": {}
      },
      "source": [
        "ridge = Ridge() \n",
        "coefs = [] \n",
        "# 不同正則化係數下的變量係數 \n",
        "for alpha in alphas: \n",
        "  ridge.set_params(alpha=alpha) \n",
        "  ridge.fit(X, y) \n",
        "  coefs.append(ridge.coef_)"
      ],
      "execution_count": 0,
      "outputs": []
    },
    {
      "cell_type": "code",
      "metadata": {
        "id": "eTD1uN1EmODm",
        "colab_type": "code",
        "outputId": "f276f0b3-14b4-4d30-81b2-f4dd35dc246b",
        "colab": {
          "base_uri": "https://localhost:8080/",
          "height": 299
        }
      },
      "source": [
        "# 繪製變量係數隨正則化係數變化的軌跡 \n",
        "ax = plt.gca() \n",
        "ax.plot(alphas, coefs) \n",
        "ax.set_xscale('log') \n",
        "plt.xlabel('alpha') \n",
        "plt.ylabel('weights') \n",
        "plt.title('Ridge coefficients as a function of the regularization') \n",
        "plt.axis('tight') \n",
        "plt.show()"
      ],
      "execution_count": 0,
      "outputs": [
        {
          "output_type": "display_data",
          "data": {
            "image/png": "[encoded data removed]",
            "text/plain": [
              "<Figure size 432x288 with 1 Axes>"
            ]
          },
          "metadata": {
            "tags": []
          }
        }
      ]
    },
    {
      "cell_type": "markdown",
      "metadata": {
        "id": "rtaTvfrVmxBD",
        "colab_type": "text"
      },
      "source": [
        "<pre>\n",
        "①有兩個變量的係數在不同的正則化係數下都很接近於0，那麼可以選擇刪除。\n",
        "②正則化係數越大，對變量係數的懲罰越大，所有變量的係數都趨近於0。\n",
        "③有一個變量的係數變化非常大(有正有負)，說明該係數的方差大，存在共線性的情況。\n",
        "綜合模型均方誤差和嶺跡圖的情況，選取正則化係數為40。\n",
        "\n",
        "如果大於40，則模型均方誤差增大，模型擬合效果變差。\n",
        "如果小於40，則變量係數不穩定，共線性沒有得到抑制。\n",
        "\n",
        "</pre>"
      ]
    },
    {
      "cell_type": "code",
      "metadata": {
        "id": "dXAg2fXVmfut",
        "colab_type": "code",
        "outputId": "0dfdf004-6af0-405b-c33f-dbfee52e92e4",
        "colab": {
          "base_uri": "https://localhost:8080/",
          "height": 69
        }
      },
      "source": [
        "ridge.set_params(alpha=40) \n",
        "ridge.fit(X, y) \n",
        "# 輸出變量係數 \n",
        "print(ridge.coef_) \n",
        "# 輸出模型R² \n",
        "print(ridge.score(X, y)) \n",
        "# 預測數據 \n",
        "print(np.exp(ridge.predict(X_new)[:5]))"
      ],
      "execution_count": 0,
      "outputs": [
        {
          "output_type": "stream",
          "text": [
            "[0.03293109 0.09907747 0.04976305 0.12101456]\n",
            "0.4255673043353688\n",
            "[934.79025945 727.11042209 703.88143602 759.04342764 709.54172995]\n"
          ],
          "name": "stdout"
        }
      ]
    },
    {
      "cell_type": "code",
      "metadata": {
        "id": "IVXTp2fp6Th4",
        "colab_type": "code",
        "colab": {}
      },
      "source": [
        ""
      ],
      "execution_count": 0,
      "outputs": []
    },
    {
      "cell_type": "markdown",
      "metadata": {
        "id": "fLXpmZNDoMyT",
        "colab_type": "text"
      },
      "source": [
        "發現變量係數都為正值，符合業務直覺。\n",
        "\n",
        "收入和當地人均收入這兩個變量可以保留，另外兩個刪除。"
      ]
    },
    {
      "cell_type": "markdown",
      "metadata": {
        "id": "ONNcpjjV67U2",
        "colab_type": "text"
      },
      "source": [
        "### [Deep Learning for Predicting Stock Prices](https://medium.com/@aditya.gogoi.30aug/deep-learning-for-predicting-stock-prices-1088534c683f)"
      ]
    },
    {
      "cell_type": "code",
      "metadata": {
        "id": "j6eDTTgq6Vhu",
        "colab_type": "code",
        "colab": {}
      },
      "source": [
        "import numpy as np\n",
        "import matplotlib.pyplot as plt\n",
        "import pandas as pd\n",
        "training_set = pd.read_csv('Google_Stock_Price_Train.csv')"
      ],
      "execution_count": 0,
      "outputs": []
    },
    {
      "cell_type": "code",
      "metadata": {
        "id": "PaEw35_K6enV",
        "colab_type": "code",
        "colab": {}
      },
      "source": [
        "training_set = training_set.iloc[:,1:2].values # OPEN, [HIGH, LOW]"
      ],
      "execution_count": 0,
      "outputs": []
    },
    {
      "cell_type": "code",
      "metadata": {
        "id": "TnY5i_AFnIZN",
        "colab_type": "code",
        "colab": {}
      },
      "source": [
        "from sklearn.preprocessing import MinMaxScaler\n",
        "sc = MinMaxScaler()\n",
        "training_set = sc.fit_transform(training_set)"
      ],
      "execution_count": 0,
      "outputs": []
    },
    {
      "cell_type": "code",
      "metadata": {
        "id": "SVsH2f_Y6qjl",
        "colab_type": "code",
        "colab": {}
      },
      "source": [
        "X_train = training_set[0:1257]\n",
        "y_train = training_set[1:1258]"
      ],
      "execution_count": 0,
      "outputs": []
    },
    {
      "cell_type": "code",
      "metadata": {
        "id": "wd-FQhN06uXe",
        "colab_type": "code",
        "colab": {}
      },
      "source": [
        "X_train = np.reshape(X_train, (1257, 1, 1))"
      ],
      "execution_count": 0,
      "outputs": []
    },
    {
      "cell_type": "code",
      "metadata": {
        "id": "oaR2pqhq6yju",
        "colab_type": "code",
        "colab": {}
      },
      "source": [
        "from keras.models import Sequential\n",
        "from keras.layers import Dense\n",
        "from keras.layers import LSTM"
      ],
      "execution_count": 0,
      "outputs": []
    },
    {
      "cell_type": "code",
      "metadata": {
        "id": "sVcmdg_664DY",
        "colab_type": "code",
        "colab": {}
      },
      "source": [
        "regressor = Sequential()\n",
        "regressor.add(LSTM(units = 4, activation = 'sigmoid', input_shape = (None, 1)))"
      ],
      "execution_count": 0,
      "outputs": []
    },
    {
      "cell_type": "code",
      "metadata": {
        "id": "DobYShpU7OEr",
        "colab_type": "code",
        "colab": {}
      },
      "source": [
        "regressor.add(Dense(units = 1))"
      ],
      "execution_count": 0,
      "outputs": []
    },
    {
      "cell_type": "code",
      "metadata": {
        "id": "qEgBU4PG7PF1",
        "colab_type": "code",
        "colab": {}
      },
      "source": [
        "regressor.compile(optimizer = 'adam', loss = 'mean_squared_error')"
      ],
      "execution_count": 0,
      "outputs": []
    },
    {
      "cell_type": "code",
      "metadata": {
        "id": "gg9DDMdN7SH0",
        "colab_type": "code",
        "colab": {}
      },
      "source": [
        "regressor.fit(X_train, y_train, batch_size = 32, epochs = 200)"
      ],
      "execution_count": 0,
      "outputs": []
    },
    {
      "cell_type": "code",
      "metadata": {
        "id": "nI96EL3z7UnO",
        "colab_type": "code",
        "colab": {}
      },
      "source": [
        "test_set = pd.read_csv('Google_Stock_Price_Test.csv')\n",
        "real_stock_price = test_set.iloc[:,1:2].values\n",
        "inputs = real_stock_price\n",
        "inputs = sc.transform(inputs)\n",
        "inputs = np.reshape(inputs, (20, 1, 1))"
      ],
      "execution_count": 0,
      "outputs": []
    },
    {
      "cell_type": "code",
      "metadata": {
        "id": "Cg3uervz-0IS",
        "colab_type": "code",
        "colab": {}
      },
      "source": [
        "predicted_stock_price = regressor.predict(inputs)\n",
        "predicted_stock_price = sc.inverse_transform(predicted_stock_price)"
      ],
      "execution_count": 0,
      "outputs": []
    },
    {
      "cell_type": "code",
      "metadata": {
        "id": "Gcj7ouss-4XY",
        "colab_type": "code",
        "colab": {}
      },
      "source": [
        "plt.plot(real_stock_price, color = 'red', label = 'Real Google Stock Price')\n",
        "plt.plot(predicted_stock_price, color = 'blue', label = 'Predicted Google Stock Price')\n",
        "plt.title('Google Stock Price Prediction')\n",
        "plt.xlabel('Time')\n",
        "plt.ylabel('Google Stock Price')\n",
        "plt.legend()\n",
        "plt.show()"
      ],
      "execution_count": 0,
      "outputs": []
    },
    {
      "cell_type": "markdown",
      "metadata": {
        "id": "lf70xeOl7IjH",
        "colab_type": "text"
      },
      "source": [
        ""
      ]
    }
  ]
}