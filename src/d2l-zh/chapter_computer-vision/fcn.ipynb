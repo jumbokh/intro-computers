{
 "cells": [
  {
   "cell_type": "markdown",
   "metadata": {},
   "source": [
    "# 全卷积网络（FCN）\n",
    "\n",
    "上一节介绍了，我们可以基于语义分割对图像中的每个像素进行类别预测。全卷积网络（fully convolutional network，FCN）采用卷积神经网络实现了从图像像素到像素类别的变换 [1]。与之前介绍的卷积神经网络有所不同，全卷积网络通过转置卷积（transposed convolution）层将中间层特征图的高和宽变换回输入图像的尺寸，从而令预测结果与输入图像在空间维（高和宽）上一一对应：给定空间维上的位置，通道维的输出即该位置对应像素的类别预测。\n",
    "\n",
    "我们先导入实验所需的包或模块，然后解释什么是转置卷积层。"
   ]
  },
  {
   "cell_type": "code",
   "execution_count": 1,
   "metadata": {
    "attributes": {
     "classes": [],
     "id": "",
     "n": "2"
    }
   },
   "outputs": [],
   "source": [
    "%matplotlib inline\n",
    "import d2lzh as d2l\n",
    "from mxnet import gluon, image, init, nd\n",
    "from mxnet.gluon import data as gdata, loss as gloss, model_zoo, nn\n",
    "import numpy as np\n",
    "import sys"
   ]
  },
  {
   "cell_type": "markdown",
   "metadata": {},
   "source": [
    "## 转置卷积层\n",
    "\n",
    "顾名思义，转置卷积层得名于矩阵的转置操作。事实上，卷积运算还可以通过矩阵乘法来实现。在下面的例子中，我们定义高和宽分别为4的输入`X`，以及高和宽分别为3的卷积核`K`。打印二维卷积运算的输出以及卷积核。可以看到，输出的高和宽分别为2。"
   ]
  },
  {
   "cell_type": "code",
   "execution_count": 2,
   "metadata": {},
   "outputs": [
    {
     "data": {
      "text/plain": [
       "(\n",
       " [[[[348. 393.]\n",
       "    [528. 573.]]]]\n",
       " <NDArray 1x1x2x2 @cpu(0)>, \n",
       " [[[[1. 2. 3.]\n",
       "    [4. 5. 6.]\n",
       "    [7. 8. 9.]]]]\n",
       " <NDArray 1x1x3x3 @cpu(0)>)"
      ]
     },
     "execution_count": 2,
     "metadata": {},
     "output_type": "execute_result"
    }
   ],
   "source": [
    "X = nd.arange(1, 17).reshape((1, 1, 4, 4))\n",
    "K = nd.arange(1, 10).reshape((1, 1, 3, 3))\n",
    "conv = nn.Conv2D(channels=1, kernel_size=3)\n",
    "conv.initialize(init.Constant(K))\n",
    "conv(X), K"
   ]
  },
  {
   "cell_type": "markdown",
   "metadata": {},
   "source": [
    "下面我们将卷积核`K`改写成含有大量零元素的稀疏矩阵`W`，即权重矩阵。权重矩阵的形状为(4, 16)，其中的非零元素来自卷积核`K`中的元素。将输入`X`逐行连结，得到长度为16的向量。然后将`W`与向量化的`X`做矩阵乘法，得到长度为4的向量。对其变形后，我们可以得到和上面卷积运算相同的结果。可见，我们在这个例子中使用矩阵乘法实现了卷积运算。"
   ]
  },
  {
   "cell_type": "code",
   "execution_count": 3,
   "metadata": {},
   "outputs": [
    {
     "data": {
      "text/plain": [
       "(\n",
       " [[[[348. 393.]\n",
       "    [528. 573.]]]]\n",
       " <NDArray 1x1x2x2 @cpu(0)>, \n",
       " [[1. 2. 3. 0. 4. 5. 6. 0. 7. 8. 9. 0. 0. 0. 0. 0.]\n",
       "  [0. 1. 2. 3. 0. 4. 5. 6. 0. 7. 8. 9. 0. 0. 0. 0.]\n",
       "  [0. 0. 0. 0. 1. 2. 3. 0. 4. 5. 6. 0. 7. 8. 9. 0.]\n",
       "  [0. 0. 0. 0. 0. 1. 2. 3. 0. 4. 5. 6. 0. 7. 8. 9.]]\n",
       " <NDArray 4x16 @cpu(0)>)"
      ]
     },
     "execution_count": 3,
     "metadata": {},
     "output_type": "execute_result"
    }
   ],
   "source": [
    "W, k = nd.zeros((4, 16)), nd.zeros(11)\n",
    "k[:3], k[4:7], k[8:] = K[0, 0, 0, :], K[0, 0, 1, :], K[0, 0, 2, :]\n",
    "W[0, 0:11], W[1, 1:12], W[2, 4:15], W[3, 5:16] = k, k, k, k\n",
    "nd.dot(W, X.reshape(16)).reshape((1, 1, 2, 2)), W"
   ]
  },
  {
   "cell_type": "markdown",
   "metadata": {},
   "source": [
    "现在我们从矩阵乘法的角度来描述卷积运算。设输入向量为$\\boldsymbol{x}$，权重矩阵为$\\boldsymbol{W}$，卷积的前向计算函数的实现可以看作将函数输入乘以权重矩阵，并输出向量$\\boldsymbol{y} = \\boldsymbol{W}\\boldsymbol{x}$。我们知道，反向传播需要依据链式法则。由于$\\nabla_{\\boldsymbol{x}} \\boldsymbol{y} = \\boldsymbol{W}^\\top$，卷积的反向传播函数的实现可以看作将函数输入乘以转置后的权重矩阵$\\boldsymbol{W}^\\top$。而转置卷积层正好交换了卷积层的前向计算函数与反向传播函数：转置卷积层的这两个函数可以看作将函数输入向量分别乘以$\\boldsymbol{W}^\\top$和$\\boldsymbol{W}$。\n",
    "\n",
    "不难想象，转置卷积层可以用来交换卷积层输入和输出的形状。让我们继续用矩阵乘法描述卷积。设权重矩阵是形状为$4\\times16$的矩阵，对于长度为16的输入向量，卷积前向计算输出长度为4的向量。假如输入向量的长度为4，转置权重矩阵的形状为$16\\times4$，那么转置卷积层将输出长度为16的向量。在模型设计中，转置卷积层常用于将较小的特征图变换为更大的特征图。在全卷积网络中，当输入是高和宽较小的特征图时，转置卷积层可以用来将高和宽放大到输入图像的尺寸。\n",
    "\n",
    "我们来看一个例子。构造一个卷积层`conv`，并设输入`X`的形状为(1, 3, 64, 64)。卷积输出`Y`的通道数增加到10，但高和宽分别缩小了一半。"
   ]
  },
  {
   "cell_type": "code",
   "execution_count": 4,
   "metadata": {
    "attributes": {
     "classes": [],
     "id": "",
     "n": "3"
    }
   },
   "outputs": [
    {
     "data": {
      "text/plain": [
       "(1, 10, 32, 32)"
      ]
     },
     "execution_count": 4,
     "metadata": {},
     "output_type": "execute_result"
    }
   ],
   "source": [
    "conv = nn.Conv2D(10, kernel_size=4, padding=1, strides=2)\n",
    "conv.initialize()\n",
    "\n",
    "X = nd.random.uniform(shape=(1, 3, 64, 64))\n",
    "Y = conv(X)\n",
    "Y.shape"
   ]
  },
  {
   "cell_type": "markdown",
   "metadata": {},
   "source": [
    "下面我们通过创建`Conv2DTranspose`实例来构造转置卷积层`conv_trans`。这里我们设`conv_trans`的卷积核形状、填充以及步幅与`conv`中的相同，并设输出通道数为3。当输入为卷积层`conv`的输出`Y`时，转置卷积层输出与卷积层输入的高和宽相同：转置卷积层将特征图的高和宽分别放大了2倍。"
   ]
  },
  {
   "cell_type": "code",
   "execution_count": 5,
   "metadata": {
    "attributes": {
     "classes": [],
     "id": "",
     "n": "4"
    }
   },
   "outputs": [
    {
     "data": {
      "text/plain": [
       "(1, 3, 64, 64)"
      ]
     },
     "execution_count": 5,
     "metadata": {},
     "output_type": "execute_result"
    }
   ],
   "source": [
    "conv_trans = nn.Conv2DTranspose(3, kernel_size=4, padding=1, strides=2)\n",
    "conv_trans.initialize()\n",
    "conv_trans(Y).shape"
   ]
  },
  {
   "cell_type": "markdown",
   "metadata": {},
   "source": [
    "在有些文献中，转置卷积也被称为分数步长卷积（fractionally-strided convolution）[2]。\n",
    "\n",
    "\n",
    "## 构造模型\n",
    "\n",
    "我们在这里给出全卷积网络模型最基本的设计。如图9.11所示，全卷积网络先使用卷积神经网络抽取图像特征，然后通过$1\\times 1$卷积层将通道数变换为类别个数，最后通过转置卷积层将特征图的高和宽变换为输入图像的尺寸。模型输出与输入图像的高和宽相同，并在空间位置上一一对应：最终输出的通道包含了该空间位置像素的类别预测。\n",
    "\n",
    "![全卷积网络](../img/fcn.svg)\n",
    "\n",
    "下面我们使用一个基于ImageNet数据集预训练的ResNet-18模型来抽取图像特征，并将该网络实例记为`pretrained_net`。可以看到，该模型成员变量`features`的最后两层分别是全局最大池化层`GlobalAvgPool2D`和样本变平层`Flatten`，而`output`模块包含了输出用的全连接层。全卷积网络不需要使用这些层。"
   ]
  },
  {
   "cell_type": "code",
   "execution_count": 6,
   "metadata": {
    "attributes": {
     "classes": [],
     "id": "",
     "n": "5"
    }
   },
   "outputs": [
    {
     "data": {
      "text/plain": [
       "(HybridSequential(\n",
       "   (0): BatchNorm(axis=1, eps=1e-05, momentum=0.9, fix_gamma=False, use_global_stats=False, in_channels=512)\n",
       "   (1): Activation(relu)\n",
       "   (2): GlobalAvgPool2D(size=(1, 1), stride=(1, 1), padding=(0, 0), ceil_mode=True, global_pool=True, pool_type=avg, layout=NCHW)\n",
       "   (3): Flatten\n",
       " ), Dense(512 -> 1000, linear))"
      ]
     },
     "execution_count": 6,
     "metadata": {},
     "output_type": "execute_result"
    }
   ],
   "source": [
    "pretrained_net = model_zoo.vision.resnet18_v2(pretrained=True)\n",
    "pretrained_net.features[-4:], pretrained_net.output"
   ]
  },
  {
   "cell_type": "markdown",
   "metadata": {},
   "source": [
    "下面我们创建全卷积网络实例`net`。它复制了`pretrained_net`实例成员变量`features`里除去最后两层的所有层以及预训练得到的模型参数。"
   ]
  },
  {
   "cell_type": "code",
   "execution_count": 7,
   "metadata": {
    "attributes": {
     "classes": [],
     "id": "",
     "n": "6"
    }
   },
   "outputs": [],
   "source": [
    "net = nn.HybridSequential()\n",
    "for layer in pretrained_net.features[:-2]:\n",
    "    net.add(layer)"
   ]
  },
  {
   "cell_type": "markdown",
   "metadata": {},
   "source": [
    "给定高和宽分别为320和480的输入，`net`的前向计算将输入的高和宽减小至原来的$1/32$，即10和15。"
   ]
  },
  {
   "cell_type": "code",
   "execution_count": 8,
   "metadata": {
    "attributes": {
     "classes": [],
     "id": "",
     "n": "7"
    }
   },
   "outputs": [
    {
     "data": {
      "text/plain": [
       "(1, 512, 10, 15)"
      ]
     },
     "execution_count": 8,
     "metadata": {},
     "output_type": "execute_result"
    }
   ],
   "source": [
    "X = nd.random.uniform(shape=(1, 3, 320, 480))\n",
    "net(X).shape"
   ]
  },
  {
   "cell_type": "markdown",
   "metadata": {},
   "source": [
    "接下来，我们通过$1\\times 1$卷积层将输出通道数变换为Pascal VOC2012数据集的类别个数21。最后，我们需要将特征图的高和宽放大32倍，从而变回输入图像的高和宽。回忆一下[“填充和步幅”](../chapter_convolutional-neural-networks/padding-and-strides.ipynb)一节中描述的卷积层输出形状的计算方法。由于$(320-64+16\\times2+32)/32=10$且$(480-64+16\\times2+32)/32=15$，我们构造一个步幅为32的转置卷积层，并将卷积核的高和宽设为64、填充设为16。不难发现，如果步幅为$s$、填充为$s/2$（假设$s/2$为整数）、卷积核的高和宽为$2s$，转置卷积核将输入的高和宽分别放大$s$倍。"
   ]
  },
  {
   "cell_type": "code",
   "execution_count": 9,
   "metadata": {
    "attributes": {
     "classes": [],
     "id": "",
     "n": "8"
    }
   },
   "outputs": [],
   "source": [
    "num_classes = 21\n",
    "net.add(nn.Conv2D(num_classes, kernel_size=1),\n",
    "        nn.Conv2DTranspose(num_classes, kernel_size=64, padding=16,\n",
    "                           strides=32))"
   ]
  },
  {
   "cell_type": "markdown",
   "metadata": {},
   "source": [
    "## 初始化转置卷积层\n",
    "\n",
    "我们已经知道，转置卷积层可以放大特征图。在图像处理中，我们有时需要将图像放大，即上采样（upsample）。上采样的方法有很多，常用的有双线性插值。简单来说，为了得到输出图像在坐标$(x,y)$上的像素，先将该坐标映射到输入图像的坐标$(x',y')$，例如，根据输入与输出的尺寸之比来映射。映射后的$x'$和$y'$通常是实数。然后，在输入图像上找到与坐标$(x',y')$最近的4个像素。最后，输出图像在坐标$(x,y)$上的像素依据输入图像上这4个像素及其与$(x',y')$的相对距离来计算。双线性插值的上采样可以通过由以下`bilinear_kernel`函数构造的卷积核的转置卷积层来实现。限于篇幅，我们只给出`bilinear_kernel`函数的实现，不再讨论算法的原理。"
   ]
  },
  {
   "cell_type": "code",
   "execution_count": 10,
   "metadata": {
    "attributes": {
     "classes": [],
     "id": "",
     "n": "9"
    }
   },
   "outputs": [],
   "source": [
    "def bilinear_kernel(in_channels, out_channels, kernel_size):\n",
    "    factor = (kernel_size + 1) // 2\n",
    "    if kernel_size % 2 == 1:\n",
    "        center = factor - 1\n",
    "    else:\n",
    "        center = factor - 0.5\n",
    "    og = np.ogrid[:kernel_size, :kernel_size]\n",
    "    filt = (1 - abs(og[0] - center) / factor) * \\\n",
    "           (1 - abs(og[1] - center) / factor)\n",
    "    weight = np.zeros((in_channels, out_channels, kernel_size, kernel_size),\n",
    "                      dtype='float32')\n",
    "    weight[range(in_channels), range(out_channels), :, :] = filt\n",
    "    return nd.array(weight)"
   ]
  },
  {
   "cell_type": "markdown",
   "metadata": {},
   "source": [
    "我们来实验一下用转置卷积层实现的双线性插值的上采样。构造一个将输入的高和宽放大2倍的转置卷积层，并将其卷积核用`bilinear_kernel`函数初始化。"
   ]
  },
  {
   "cell_type": "code",
   "execution_count": 11,
   "metadata": {
    "attributes": {
     "classes": [],
     "id": "",
     "n": "11"
    }
   },
   "outputs": [],
   "source": [
    "conv_trans = nn.Conv2DTranspose(3, kernel_size=4, padding=1, strides=2)\n",
    "conv_trans.initialize(init.Constant(bilinear_kernel(3, 3, 4)))"
   ]
  },
  {
   "cell_type": "markdown",
   "metadata": {},
   "source": [
    "读取图像`X`，将上采样的结果记作`Y`。为了打印图像，我们需要调整通道维的位置。"
   ]
  },
  {
   "cell_type": "code",
   "execution_count": 12,
   "metadata": {},
   "outputs": [],
   "source": [
    "img = image.imread('../img/catdog.jpg')\n",
    "X = img.astype('float32').transpose((2, 0, 1)).expand_dims(axis=0) / 255\n",
    "Y = conv_trans(X)\n",
    "out_img = Y[0].transpose((1, 2, 0))"
   ]
  },
  {
   "cell_type": "markdown",
   "metadata": {},
   "source": [
    "可以看到，转置卷积层将图像的高和宽分别放大2倍。值得一提的是，除了坐标刻度不同，双线性插值放大的图像和[“目标检测和边界框”](bounding-box.ipynb)一节中打印出的原图看上去没什么两样。"
   ]
  },
  {
   "cell_type": "code",
   "execution_count": 13,
   "metadata": {},
   "outputs": [
    {
     "name": "stdout",
     "output_type": "stream",
     "text": [
      "input image shape: (561, 728, 3)\n",
      "output image shape: (1122, 1456, 3)\n"
     ]
    },
    {
     "data": {
      "image/svg+xml": [
       "<?xml version=\"1.0\" encoding=\"utf-8\" standalone=\"no\"?>\n",
       "<!DOCTYPE svg PUBLIC \"-//W3C//DTD SVG 1.1//EN\"\n",
       "  \"http://www.w3.org/Graphics/SVG/1.1/DTD/svg11.dtd\">\n",
       "<!-- Created with matplotlib (http://matplotlib.org/) -->\n",
       "<svg height=\"170.716782pt\" version=\"1.1\" viewBox=\"0 0 226.70508 170.716782\" width=\"226.70508pt\" xmlns=\"http://www.w3.org/2000/svg\" xmlns:xlink=\"http://www.w3.org/1999/xlink\">\n",
       " <defs>\n",
       "  <style type=\"text/css\">\n",
       "*{stroke-linecap:butt;stroke-linejoin:round;}\n",
       "  </style>\n",
       " </defs>\n",
       " <g id=\"figure_1\">\n",
       "  <g id=\"patch_1\">\n",
       "   <path d=\"M 0 170.716782 \n",
       "L 226.70508 170.716782 \n",
       "L 226.70508 0 \n",
       "L 0 0 \n",
       "z\n",
       "\" style=\"fill:none;\"/>\n",
       "  </g>\n",
       "  <g id=\"axes_1\">\n",
       "   <g id=\"patch_2\">\n",
       "    <path d=\"M 39.65 146.838657 \n",
       "L 216.00508 146.838657 \n",
       "L 216.00508 10.938657 \n",
       "L 39.65 10.938657 \n",
       "z\n",
       "\" style=\"fill:#ffffff;\"/>\n",
       "   </g>\n",
       "   <g clip-path=\"url(#pf7432c0e49)\">\n",
       "    <image height=\"136\" id=\"image025991dc85\" transform=\"scale(1 -1)translate(0 -136)\" width=\"177\" x=\"40\" xlink:href=\"data:image/png;base64,\n",
       "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\" y=\"-10.716782\"/>\n",
       "   </g>\n",
       "   <g id=\"matplotlib.axis_1\">\n",
       "    <g id=\"xtick_1\">\n",
       "     <g id=\"line2d_1\">\n",
       "      <defs>\n",
       "       <path d=\"M 0 0 \n",
       "L 0 3.5 \n",
       "\" id=\"mbaa73363ea\" style=\"stroke:#000000;stroke-width:0.8;\"/>\n",
       "      </defs>\n",
       "      <g>\n",
       "       <use style=\"stroke:#000000;stroke-width:0.8;\" x=\"39.710561\" xlink:href=\"#mbaa73363ea\" y=\"146.838657\"/>\n",
       "      </g>\n",
       "     </g>\n",
       "     <g id=\"text_1\">\n",
       "      <!-- 0 -->\n",
       "      <defs>\n",
       "       <path d=\"M 31.78125 66.40625 \n",
       "Q 24.171875 66.40625 20.328125 58.90625 \n",
       "Q 16.5 51.421875 16.5 36.375 \n",
       "Q 16.5 21.390625 20.328125 13.890625 \n",
       "Q 24.171875 6.390625 31.78125 6.390625 \n",
       "Q 39.453125 6.390625 43.28125 13.890625 \n",
       "Q 47.125 21.390625 47.125 36.375 \n",
       "Q 47.125 51.421875 43.28125 58.90625 \n",
       "Q 39.453125 66.40625 31.78125 66.40625 \n",
       "z\n",
       "M 31.78125 74.21875 \n",
       "Q 44.046875 74.21875 50.515625 64.515625 \n",
       "Q 56.984375 54.828125 56.984375 36.375 \n",
       "Q 56.984375 17.96875 50.515625 8.265625 \n",
       "Q 44.046875 -1.421875 31.78125 -1.421875 \n",
       "Q 19.53125 -1.421875 13.0625 8.265625 \n",
       "Q 6.59375 17.96875 6.59375 36.375 \n",
       "Q 6.59375 54.828125 13.0625 64.515625 \n",
       "Q 19.53125 74.21875 31.78125 74.21875 \n",
       "z\n",
       "\" id=\"DejaVuSans-30\"/>\n",
       "      </defs>\n",
       "      <g transform=\"translate(36.529311 161.437095)scale(0.1 -0.1)\">\n",
       "       <use xlink:href=\"#DejaVuSans-30\"/>\n",
       "      </g>\n",
       "     </g>\n",
       "    </g>\n",
       "    <g id=\"xtick_2\">\n",
       "     <g id=\"line2d_2\">\n",
       "      <g>\n",
       "       <use style=\"stroke:#000000;stroke-width:0.8;\" x=\"100.272059\" xlink:href=\"#mbaa73363ea\" y=\"146.838657\"/>\n",
       "      </g>\n",
       "     </g>\n",
       "     <g id=\"text_2\">\n",
       "      <!-- 500 -->\n",
       "      <defs>\n",
       "       <path d=\"M 10.796875 72.90625 \n",
       "L 49.515625 72.90625 \n",
       "L 49.515625 64.59375 \n",
       "L 19.828125 64.59375 \n",
       "L 19.828125 46.734375 \n",
       "Q 21.96875 47.46875 24.109375 47.828125 \n",
       "Q 26.265625 48.1875 28.421875 48.1875 \n",
       "Q 40.625 48.1875 47.75 41.5 \n",
       "Q 54.890625 34.8125 54.890625 23.390625 \n",
       "Q 54.890625 11.625 47.5625 5.09375 \n",
       "Q 40.234375 -1.421875 26.90625 -1.421875 \n",
       "Q 22.3125 -1.421875 17.546875 -0.640625 \n",
       "Q 12.796875 0.140625 7.71875 1.703125 \n",
       "L 7.71875 11.625 \n",
       "Q 12.109375 9.234375 16.796875 8.0625 \n",
       "Q 21.484375 6.890625 26.703125 6.890625 \n",
       "Q 35.15625 6.890625 40.078125 11.328125 \n",
       "Q 45.015625 15.765625 45.015625 23.390625 \n",
       "Q 45.015625 31 40.078125 35.4375 \n",
       "Q 35.15625 39.890625 26.703125 39.890625 \n",
       "Q 22.75 39.890625 18.8125 39.015625 \n",
       "Q 14.890625 38.140625 10.796875 36.28125 \n",
       "z\n",
       "\" id=\"DejaVuSans-35\"/>\n",
       "      </defs>\n",
       "      <g transform=\"translate(90.728309 161.437095)scale(0.1 -0.1)\">\n",
       "       <use xlink:href=\"#DejaVuSans-35\"/>\n",
       "       <use x=\"63.623047\" xlink:href=\"#DejaVuSans-30\"/>\n",
       "       <use x=\"127.246094\" xlink:href=\"#DejaVuSans-30\"/>\n",
       "      </g>\n",
       "     </g>\n",
       "    </g>\n",
       "    <g id=\"xtick_3\">\n",
       "     <g id=\"line2d_3\">\n",
       "      <g>\n",
       "       <use style=\"stroke:#000000;stroke-width:0.8;\" x=\"160.833556\" xlink:href=\"#mbaa73363ea\" y=\"146.838657\"/>\n",
       "      </g>\n",
       "     </g>\n",
       "     <g id=\"text_3\">\n",
       "      <!-- 1000 -->\n",
       "      <defs>\n",
       "       <path d=\"M 12.40625 8.296875 \n",
       "L 28.515625 8.296875 \n",
       "L 28.515625 63.921875 \n",
       "L 10.984375 60.40625 \n",
       "L 10.984375 69.390625 \n",
       "L 28.421875 72.90625 \n",
       "L 38.28125 72.90625 \n",
       "L 38.28125 8.296875 \n",
       "L 54.390625 8.296875 \n",
       "L 54.390625 0 \n",
       "L 12.40625 0 \n",
       "z\n",
       "\" id=\"DejaVuSans-31\"/>\n",
       "      </defs>\n",
       "      <g transform=\"translate(148.108556 161.437095)scale(0.1 -0.1)\">\n",
       "       <use xlink:href=\"#DejaVuSans-31\"/>\n",
       "       <use x=\"63.623047\" xlink:href=\"#DejaVuSans-30\"/>\n",
       "       <use x=\"127.246094\" xlink:href=\"#DejaVuSans-30\"/>\n",
       "       <use x=\"190.869141\" xlink:href=\"#DejaVuSans-30\"/>\n",
       "      </g>\n",
       "     </g>\n",
       "    </g>\n",
       "   </g>\n",
       "   <g id=\"matplotlib.axis_2\">\n",
       "    <g id=\"ytick_1\">\n",
       "     <g id=\"line2d_4\">\n",
       "      <defs>\n",
       "       <path d=\"M 0 0 \n",
       "L -3.5 0 \n",
       "\" id=\"mca229bb92d\" style=\"stroke:#000000;stroke-width:0.8;\"/>\n",
       "      </defs>\n",
       "      <g>\n",
       "       <use style=\"stroke:#000000;stroke-width:0.8;\" x=\"39.65\" xlink:href=\"#mca229bb92d\" y=\"10.999219\"/>\n",
       "      </g>\n",
       "     </g>\n",
       "     <g id=\"text_4\">\n",
       "      <!-- 0 -->\n",
       "      <g transform=\"translate(26.2875 14.798437)scale(0.1 -0.1)\">\n",
       "       <use xlink:href=\"#DejaVuSans-30\"/>\n",
       "      </g>\n",
       "     </g>\n",
       "    </g>\n",
       "    <g id=\"ytick_2\">\n",
       "     <g id=\"line2d_5\">\n",
       "      <g>\n",
       "       <use style=\"stroke:#000000;stroke-width:0.8;\" x=\"39.65\" xlink:href=\"#mca229bb92d\" y=\"35.223818\"/>\n",
       "      </g>\n",
       "     </g>\n",
       "     <g id=\"text_5\">\n",
       "      <!-- 200 -->\n",
       "      <defs>\n",
       "       <path d=\"M 19.1875 8.296875 \n",
       "L 53.609375 8.296875 \n",
       "L 53.609375 0 \n",
       "L 7.328125 0 \n",
       "L 7.328125 8.296875 \n",
       "Q 12.9375 14.109375 22.625 23.890625 \n",
       "Q 32.328125 33.6875 34.8125 36.53125 \n",
       "Q 39.546875 41.84375 41.421875 45.53125 \n",
       "Q 43.3125 49.21875 43.3125 52.78125 \n",
       "Q 43.3125 58.59375 39.234375 62.25 \n",
       "Q 35.15625 65.921875 28.609375 65.921875 \n",
       "Q 23.96875 65.921875 18.8125 64.3125 \n",
       "Q 13.671875 62.703125 7.8125 59.421875 \n",
       "L 7.8125 69.390625 \n",
       "Q 13.765625 71.78125 18.9375 73 \n",
       "Q 24.125 74.21875 28.421875 74.21875 \n",
       "Q 39.75 74.21875 46.484375 68.546875 \n",
       "Q 53.21875 62.890625 53.21875 53.421875 \n",
       "Q 53.21875 48.921875 51.53125 44.890625 \n",
       "Q 49.859375 40.875 45.40625 35.40625 \n",
       "Q 44.1875 33.984375 37.640625 27.21875 \n",
       "Q 31.109375 20.453125 19.1875 8.296875 \n",
       "z\n",
       "\" id=\"DejaVuSans-32\"/>\n",
       "      </defs>\n",
       "      <g transform=\"translate(13.5625 39.023036)scale(0.1 -0.1)\">\n",
       "       <use xlink:href=\"#DejaVuSans-32\"/>\n",
       "       <use x=\"63.623047\" xlink:href=\"#DejaVuSans-30\"/>\n",
       "       <use x=\"127.246094\" xlink:href=\"#DejaVuSans-30\"/>\n",
       "      </g>\n",
       "     </g>\n",
       "    </g>\n",
       "    <g id=\"ytick_3\">\n",
       "     <g id=\"line2d_6\">\n",
       "      <g>\n",
       "       <use style=\"stroke:#000000;stroke-width:0.8;\" x=\"39.65\" xlink:href=\"#mca229bb92d\" y=\"59.448417\"/>\n",
       "      </g>\n",
       "     </g>\n",
       "     <g id=\"text_6\">\n",
       "      <!-- 400 -->\n",
       "      <defs>\n",
       "       <path d=\"M 37.796875 64.3125 \n",
       "L 12.890625 25.390625 \n",
       "L 37.796875 25.390625 \n",
       "z\n",
       "M 35.203125 72.90625 \n",
       "L 47.609375 72.90625 \n",
       "L 47.609375 25.390625 \n",
       "L 58.015625 25.390625 \n",
       "L 58.015625 17.1875 \n",
       "L 47.609375 17.1875 \n",
       "L 47.609375 0 \n",
       "L 37.796875 0 \n",
       "L 37.796875 17.1875 \n",
       "L 4.890625 17.1875 \n",
       "L 4.890625 26.703125 \n",
       "z\n",
       "\" id=\"DejaVuSans-34\"/>\n",
       "      </defs>\n",
       "      <g transform=\"translate(13.5625 63.247635)scale(0.1 -0.1)\">\n",
       "       <use xlink:href=\"#DejaVuSans-34\"/>\n",
       "       <use x=\"63.623047\" xlink:href=\"#DejaVuSans-30\"/>\n",
       "       <use x=\"127.246094\" xlink:href=\"#DejaVuSans-30\"/>\n",
       "      </g>\n",
       "     </g>\n",
       "    </g>\n",
       "    <g id=\"ytick_4\">\n",
       "     <g id=\"line2d_7\">\n",
       "      <g>\n",
       "       <use style=\"stroke:#000000;stroke-width:0.8;\" x=\"39.65\" xlink:href=\"#mca229bb92d\" y=\"83.673016\"/>\n",
       "      </g>\n",
       "     </g>\n",
       "     <g id=\"text_7\">\n",
       "      <!-- 600 -->\n",
       "      <defs>\n",
       "       <path d=\"M 33.015625 40.375 \n",
       "Q 26.375 40.375 22.484375 35.828125 \n",
       "Q 18.609375 31.296875 18.609375 23.390625 \n",
       "Q 18.609375 15.53125 22.484375 10.953125 \n",
       "Q 26.375 6.390625 33.015625 6.390625 \n",
       "Q 39.65625 6.390625 43.53125 10.953125 \n",
       "Q 47.40625 15.53125 47.40625 23.390625 \n",
       "Q 47.40625 31.296875 43.53125 35.828125 \n",
       "Q 39.65625 40.375 33.015625 40.375 \n",
       "z\n",
       "M 52.59375 71.296875 \n",
       "L 52.59375 62.3125 \n",
       "Q 48.875 64.0625 45.09375 64.984375 \n",
       "Q 41.3125 65.921875 37.59375 65.921875 \n",
       "Q 27.828125 65.921875 22.671875 59.328125 \n",
       "Q 17.53125 52.734375 16.796875 39.40625 \n",
       "Q 19.671875 43.65625 24.015625 45.921875 \n",
       "Q 28.375 48.1875 33.59375 48.1875 \n",
       "Q 44.578125 48.1875 50.953125 41.515625 \n",
       "Q 57.328125 34.859375 57.328125 23.390625 \n",
       "Q 57.328125 12.15625 50.6875 5.359375 \n",
       "Q 44.046875 -1.421875 33.015625 -1.421875 \n",
       "Q 20.359375 -1.421875 13.671875 8.265625 \n",
       "Q 6.984375 17.96875 6.984375 36.375 \n",
       "Q 6.984375 53.65625 15.1875 63.9375 \n",
       "Q 23.390625 74.21875 37.203125 74.21875 \n",
       "Q 40.921875 74.21875 44.703125 73.484375 \n",
       "Q 48.484375 72.75 52.59375 71.296875 \n",
       "z\n",
       "\" id=\"DejaVuSans-36\"/>\n",
       "      </defs>\n",
       "      <g transform=\"translate(13.5625 87.472234)scale(0.1 -0.1)\">\n",
       "       <use xlink:href=\"#DejaVuSans-36\"/>\n",
       "       <use x=\"63.623047\" xlink:href=\"#DejaVuSans-30\"/>\n",
       "       <use x=\"127.246094\" xlink:href=\"#DejaVuSans-30\"/>\n",
       "      </g>\n",
       "     </g>\n",
       "    </g>\n",
       "    <g id=\"ytick_5\">\n",
       "     <g id=\"line2d_8\">\n",
       "      <g>\n",
       "       <use style=\"stroke:#000000;stroke-width:0.8;\" x=\"39.65\" xlink:href=\"#mca229bb92d\" y=\"107.897614\"/>\n",
       "      </g>\n",
       "     </g>\n",
       "     <g id=\"text_8\">\n",
       "      <!-- 800 -->\n",
       "      <defs>\n",
       "       <path d=\"M 31.78125 34.625 \n",
       "Q 24.75 34.625 20.71875 30.859375 \n",
       "Q 16.703125 27.09375 16.703125 20.515625 \n",
       "Q 16.703125 13.921875 20.71875 10.15625 \n",
       "Q 24.75 6.390625 31.78125 6.390625 \n",
       "Q 38.8125 6.390625 42.859375 10.171875 \n",
       "Q 46.921875 13.96875 46.921875 20.515625 \n",
       "Q 46.921875 27.09375 42.890625 30.859375 \n",
       "Q 38.875 34.625 31.78125 34.625 \n",
       "z\n",
       "M 21.921875 38.8125 \n",
       "Q 15.578125 40.375 12.03125 44.71875 \n",
       "Q 8.5 49.078125 8.5 55.328125 \n",
       "Q 8.5 64.0625 14.71875 69.140625 \n",
       "Q 20.953125 74.21875 31.78125 74.21875 \n",
       "Q 42.671875 74.21875 48.875 69.140625 \n",
       "Q 55.078125 64.0625 55.078125 55.328125 \n",
       "Q 55.078125 49.078125 51.53125 44.71875 \n",
       "Q 48 40.375 41.703125 38.8125 \n",
       "Q 48.828125 37.15625 52.796875 32.3125 \n",
       "Q 56.78125 27.484375 56.78125 20.515625 \n",
       "Q 56.78125 9.90625 50.3125 4.234375 \n",
       "Q 43.84375 -1.421875 31.78125 -1.421875 \n",
       "Q 19.734375 -1.421875 13.25 4.234375 \n",
       "Q 6.78125 9.90625 6.78125 20.515625 \n",
       "Q 6.78125 27.484375 10.78125 32.3125 \n",
       "Q 14.796875 37.15625 21.921875 38.8125 \n",
       "z\n",
       "M 18.3125 54.390625 \n",
       "Q 18.3125 48.734375 21.84375 45.5625 \n",
       "Q 25.390625 42.390625 31.78125 42.390625 \n",
       "Q 38.140625 42.390625 41.71875 45.5625 \n",
       "Q 45.3125 48.734375 45.3125 54.390625 \n",
       "Q 45.3125 60.0625 41.71875 63.234375 \n",
       "Q 38.140625 66.40625 31.78125 66.40625 \n",
       "Q 25.390625 66.40625 21.84375 63.234375 \n",
       "Q 18.3125 60.0625 18.3125 54.390625 \n",
       "z\n",
       "\" id=\"DejaVuSans-38\"/>\n",
       "      </defs>\n",
       "      <g transform=\"translate(13.5625 111.696833)scale(0.1 -0.1)\">\n",
       "       <use xlink:href=\"#DejaVuSans-38\"/>\n",
       "       <use x=\"63.623047\" xlink:href=\"#DejaVuSans-30\"/>\n",
       "       <use x=\"127.246094\" xlink:href=\"#DejaVuSans-30\"/>\n",
       "      </g>\n",
       "     </g>\n",
       "    </g>\n",
       "    <g id=\"ytick_6\">\n",
       "     <g id=\"line2d_9\">\n",
       "      <g>\n",
       "       <use style=\"stroke:#000000;stroke-width:0.8;\" x=\"39.65\" xlink:href=\"#mca229bb92d\" y=\"132.122213\"/>\n",
       "      </g>\n",
       "     </g>\n",
       "     <g id=\"text_9\">\n",
       "      <!-- 1000 -->\n",
       "      <g transform=\"translate(7.2 135.921432)scale(0.1 -0.1)\">\n",
       "       <use xlink:href=\"#DejaVuSans-31\"/>\n",
       "       <use x=\"63.623047\" xlink:href=\"#DejaVuSans-30\"/>\n",
       "       <use x=\"127.246094\" xlink:href=\"#DejaVuSans-30\"/>\n",
       "       <use x=\"190.869141\" xlink:href=\"#DejaVuSans-30\"/>\n",
       "      </g>\n",
       "     </g>\n",
       "    </g>\n",
       "   </g>\n",
       "   <g id=\"patch_3\">\n",
       "    <path d=\"M 39.65 146.838657 \n",
       "L 39.65 10.938657 \n",
       "\" style=\"fill:none;stroke:#000000;stroke-linecap:square;stroke-linejoin:miter;stroke-width:0.8;\"/>\n",
       "   </g>\n",
       "   <g id=\"patch_4\">\n",
       "    <path d=\"M 216.00508 146.838657 \n",
       "L 216.00508 10.938657 \n",
       "\" style=\"fill:none;stroke:#000000;stroke-linecap:square;stroke-linejoin:miter;stroke-width:0.8;\"/>\n",
       "   </g>\n",
       "   <g id=\"patch_5\">\n",
       "    <path d=\"M 39.65 146.838657 \n",
       "L 216.00508 146.838657 \n",
       "\" style=\"fill:none;stroke:#000000;stroke-linecap:square;stroke-linejoin:miter;stroke-width:0.8;\"/>\n",
       "   </g>\n",
       "   <g id=\"patch_6\">\n",
       "    <path d=\"M 39.65 10.938657 \n",
       "L 216.00508 10.938657 \n",
       "\" style=\"fill:none;stroke:#000000;stroke-linecap:square;stroke-linejoin:miter;stroke-width:0.8;\"/>\n",
       "   </g>\n",
       "  </g>\n",
       " </g>\n",
       " <defs>\n",
       "  <clipPath id=\"pf7432c0e49\">\n",
       "   <rect height=\"135.9\" width=\"176.35508\" x=\"39.65\" y=\"10.938657\"/>\n",
       "  </clipPath>\n",
       " </defs>\n",
       "</svg>\n"
      ],
      "text/plain": [
       "<Figure size 252x180 with 1 Axes>"
      ]
     },
     "metadata": {
      "needs_background": "light"
     },
     "output_type": "display_data"
    }
   ],
   "source": [
    "d2l.set_figsize()\n",
    "print('input image shape:', img.shape)\n",
    "d2l.plt.imshow(img.asnumpy());\n",
    "print('output image shape:', out_img.shape)\n",
    "d2l.plt.imshow(out_img.asnumpy());"
   ]
  },
  {
   "cell_type": "markdown",
   "metadata": {},
   "source": [
    "在全卷积网络中，我们将转置卷积层初始化为双线性插值的上采样。对于$1\\times 1$卷积层，我们采用Xavier随机初始化。"
   ]
  },
  {
   "cell_type": "code",
   "execution_count": 14,
   "metadata": {
    "attributes": {
     "classes": [],
     "id": "",
     "n": "12"
    }
   },
   "outputs": [],
   "source": [
    "net[-1].initialize(init.Constant(bilinear_kernel(num_classes, num_classes,\n",
    "                                                 64)))\n",
    "net[-2].initialize(init=init.Xavier())"
   ]
  },
  {
   "cell_type": "markdown",
   "metadata": {},
   "source": [
    "## 读取数据集\n",
    "\n",
    "我们用上一节介绍的方法读取数据集。这里指定随机裁剪的输出图像的形状为$320\\times 480$：高和宽都可以被32整除。"
   ]
  },
  {
   "cell_type": "code",
   "execution_count": 15,
   "metadata": {
    "attributes": {
     "classes": [],
     "id": "",
     "n": "13"
    }
   },
   "outputs": [
    {
     "name": "stdout",
     "output_type": "stream",
     "text": [
      "read 1114 examples\n"
     ]
    },
    {
     "name": "stdout",
     "output_type": "stream",
     "text": [
      "read 1078 examples\n"
     ]
    }
   ],
   "source": [
    "crop_size, batch_size, colormap2label = (320, 480), 32, nd.zeros(256**3)\n",
    "for i, cm in enumerate(d2l.VOC_COLORMAP):\n",
    "    colormap2label[(cm[0] * 256 + cm[1]) * 256 + cm[2]] = i\n",
    "voc_dir = d2l.download_voc_pascal(data_dir='../data')\n",
    "\n",
    "num_workers = 0 if sys.platform.startswith('win32') else 4\n",
    "train_iter = gdata.DataLoader(\n",
    "    d2l.VOCSegDataset(True, crop_size, voc_dir, colormap2label), batch_size,\n",
    "    shuffle=True, last_batch='discard', num_workers=num_workers)\n",
    "test_iter = gdata.DataLoader(\n",
    "    d2l.VOCSegDataset(False, crop_size, voc_dir, colormap2label), batch_size,\n",
    "    last_batch='discard', num_workers=num_workers)"
   ]
  },
  {
   "cell_type": "markdown",
   "metadata": {},
   "source": [
    "## 训练模型\n",
    "\n",
    "现在可以开始训练模型了。这里的损失函数和准确率计算与图像分类中的并没有本质上的不同。因为我们使用转置卷积层的通道来预测像素的类别，所以在`SoftmaxCrossEntropyLoss`里指定了`axis=1`（通道维）选项。此外，模型基于每个像素的预测类别是否正确来计算准确率。"
   ]
  },
  {
   "cell_type": "code",
   "execution_count": 16,
   "metadata": {
    "attributes": {
     "classes": [],
     "id": "",
     "n": "12"
    }
   },
   "outputs": [
    {
     "name": "stdout",
     "output_type": "stream",
     "text": [
      "training on [gpu(0), gpu(1)]\n"
     ]
    },
    {
     "name": "stdout",
     "output_type": "stream",
     "text": [
      "epoch 1, loss 1.2979, train acc 0.731, test acc 0.812, time 9.7 sec\n"
     ]
    },
    {
     "name": "stdout",
     "output_type": "stream",
     "text": [
      "epoch 2, loss 0.5656, train acc 0.830, test acc 0.830, time 9.4 sec\n"
     ]
    },
    {
     "name": "stdout",
     "output_type": "stream",
     "text": [
      "epoch 3, loss 0.4487, train acc 0.858, test acc 0.821, time 9.1 sec\n"
     ]
    },
    {
     "name": "stdout",
     "output_type": "stream",
     "text": [
      "epoch 4, loss 0.3867, train acc 0.874, test acc 0.846, time 9.4 sec\n"
     ]
    },
    {
     "name": "stdout",
     "output_type": "stream",
     "text": [
      "epoch 5, loss 0.3298, train acc 0.890, test acc 0.851, time 9.1 sec\n"
     ]
    }
   ],
   "source": [
    "ctx = d2l.try_all_gpus()\n",
    "loss = gloss.SoftmaxCrossEntropyLoss(axis=1)\n",
    "net.collect_params().reset_ctx(ctx)\n",
    "trainer = gluon.Trainer(net.collect_params(), 'sgd', {'learning_rate': 0.1,\n",
    "                                                      'wd': 1e-3})\n",
    "d2l.train(train_iter, test_iter, net, loss, trainer, ctx, num_epochs=5)"
   ]
  },
  {
   "cell_type": "markdown",
   "metadata": {},
   "source": [
    "## 预测像素类别\n",
    "\n",
    "在预测时，我们需要将输入图像在各个通道做标准化，并转成卷积神经网络所需要的四维输入格式。"
   ]
  },
  {
   "cell_type": "code",
   "execution_count": 17,
   "metadata": {
    "attributes": {
     "classes": [],
     "id": "",
     "n": "13"
    }
   },
   "outputs": [],
   "source": [
    "def predict(img):\n",
    "    X = test_iter._dataset.normalize_image(img)\n",
    "    X = X.transpose((2, 0, 1)).expand_dims(axis=0)\n",
    "    pred = nd.argmax(net(X.as_in_context(ctx[0])), axis=1)\n",
    "    return pred.reshape((pred.shape[1], pred.shape[2]))"
   ]
  },
  {
   "cell_type": "markdown",
   "metadata": {},
   "source": [
    "为了可视化每个像素的预测类别，我们将预测类别映射回它们在数据集中的标注颜色。"
   ]
  },
  {
   "cell_type": "code",
   "execution_count": 18,
   "metadata": {
    "attributes": {
     "classes": [],
     "id": "",
     "n": "14"
    }
   },
   "outputs": [],
   "source": [
    "def label2image(pred):\n",
    "    colormap = nd.array(d2l.VOC_COLORMAP, ctx=ctx[0], dtype='uint8')\n",
    "    X = pred.astype('int32')\n",
    "    return colormap[X, :]"
   ]
  },
  {
   "cell_type": "markdown",
   "metadata": {},
   "source": [
    "测试数据集中的图像大小和形状各异。由于模型使用了步幅为32的转置卷积层，当输入图像的高或宽无法被32整除时，转置卷积层输出的高或宽会与输入图像的尺寸有偏差。为了解决这个问题，我们可以在图像中截取多块高和宽为32的整数倍的矩形区域，并分别对这些区域中的像素做前向计算。这些区域的并集需要完整覆盖输入图像。当一个像素被多个区域所覆盖时，它在不同区域前向计算中转置卷积层输出的平均值可以作为softmax运算的输入，从而预测类别。\n",
    "\n",
    "简单起见，我们只读取几张较大的测试图像，并从图像的左上角开始截取形状为$320\\times480$的区域：只有该区域用来预测。对于输入图像，我们先打印截取的区域，再打印预测结果，最后打印标注的类别。"
   ]
  },
  {
   "cell_type": "code",
   "execution_count": 19,
   "metadata": {
    "attributes": {
     "classes": [],
     "id": "",
     "n": "15"
    }
   },
   "outputs": [
    {
     "data": {
      "image/svg+xml": [
       "<?xml version=\"1.0\" encoding=\"utf-8\" standalone=\"no\"?>\n",
       "<!DOCTYPE svg PUBLIC \"-//W3C//DTD SVG 1.1//EN\"\n",
       "  \"http://www.w3.org/Graphics/SVG/1.1/DTD/svg11.dtd\">\n",
       "<!-- Created with matplotlib (http://matplotlib.org/) -->\n",
       "<svg height=\"316.32624pt\" version=\"1.1\" viewBox=\"0 0 467.8 316.32624\" width=\"467.8pt\" xmlns=\"http://www.w3.org/2000/svg\" xmlns:xlink=\"http://www.w3.org/1999/xlink\">\n",
       " <defs>\n",
       "  <style type=\"text/css\">\n",
       "*{stroke-linecap:butt;stroke-linejoin:round;}\n",
       "  </style>\n",
       " </defs>\n",
       " <g id=\"figure_1\">\n",
       "  <g id=\"patch_1\">\n",
       "   <path d=\"M 0 316.32624 \n",
       "L 467.8 316.32624 \n",
       "L 467.8 0 \n",
       "L 0 0 \n",
       "z\n",
       "\" style=\"fill:none;\"/>\n",
       "  </g>\n",
       "  <g id=\"axes_1\">\n",
       "   <g id=\"patch_2\">\n",
       "    <path d=\"M 10.7 75.395652 \n",
       "L 107.743478 75.395652 \n",
       "L 107.743478 10.7 \n",
       "L 10.7 10.7 \n",
       "z\n",
       "\" style=\"fill:#ffffff;\"/>\n",
       "   </g>\n",
       "   <g clip-path=\"url(#p6ea557b8a5)\">\n",
       "    <image height=\"65\" id=\"image5d2f12e28e\" transform=\"scale(1 -1)translate(0 -65)\" width=\"98\" x=\"10.7\" xlink:href=\"data:image/png;base64,\n",
       "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\" y=\"-10.395652\"/>\n",
       "   </g>\n",
       "   <g id=\"patch_3\">\n",
       "    <path d=\"M 10.7 75.395652 \n",
       "L 10.7 10.7 \n",
       "\" style=\"fill:none;stroke:#000000;stroke-linecap:square;stroke-linejoin:miter;stroke-width:0.8;\"/>\n",
       "   </g>\n",
       "   <g id=\"patch_4\">\n",
       "    <path d=\"M 107.743478 75.395652 \n",
       "L 107.743478 10.7 \n",
       "\" style=\"fill:none;stroke:#000000;stroke-linecap:square;stroke-linejoin:miter;stroke-width:0.8;\"/>\n",
       "   </g>\n",
       "   <g id=\"patch_5\">\n",
       "    <path d=\"M 10.7 75.395652 \n",
       "L 107.743478 75.395652 \n",
       "\" style=\"fill:none;stroke:#000000;stroke-linecap:square;stroke-linejoin:miter;stroke-width:0.8;\"/>\n",
       "   </g>\n",
       "   <g id=\"patch_6\">\n",
       "    <path d=\"M 10.7 10.7 \n",
       "L 107.743478 10.7 \n",
       "\" style=\"fill:none;stroke:#000000;stroke-linecap:square;stroke-linejoin:miter;stroke-width:0.8;\"/>\n",
       "   </g>\n",
       "  </g>\n",
       "  <g id=\"axes_2\">\n",
       "   <g id=\"patch_7\">\n",
       "    <path d=\"M 127.152174 75.395652 \n",
       "L 224.195652 75.395652 \n",
       "L 224.195652 10.7 \n",
       "L 127.152174 10.7 \n",
       "z\n",
       "\" style=\"fill:#ffffff;\"/>\n",
       "   </g>\n",
       "   <g clip-path=\"url(#pf51916293f)\">\n",
       "    <image height=\"65\" id=\"imageae12f0a632\" transform=\"scale(1 -1)translate(0 -65)\" width=\"98\" x=\"127.152174\" xlink:href=\"data:image/png;base64,\n",
       "iVBORw0KGgoAAAANSUhEUgAAAGIAAABBCAYAAAAqnXGWAAAABHNCSVQICAgIfAhkiAAAIABJREFUeJxkvHe4ZWV59/95yqq7nT7nTB8YBoYiRUCplgjBjgUjitHERiyv9U1sUV/T1EQT9adGYtSI3Zho7EqMIiKIiJShDDDDVGZO32e3VZ7y+2Ptc2Z4331d55py9l57ree+n7t8v9/7ERu2bfJPuPQCzt66mes+/2UW5pdYNzHK1i0bePUrX8Gu393KkaUuB2cXObznQcJIctHFl/LDH/2csYlRtm7bzNte9UIe3nuEP7jwNM664IV8+B//ksHio9x89yGuecGzuPZ/v5fnP/M57H7obkbrI3zjGz/i0gt28oxLT+fjX/sJkzNb2ffgLs497wmceMJmJkZG+PL1/8ZZF1xKu9Pn9G2TzB6eZ/tZZ3Lzr27kojNO5cs/vpG3v+kNfOq6r/KsC7ey9dTH85mvfYvp6RH2zj3K0y6/gKOzfUamJnho38NsG5thz76DeDNgauMYygi0KTCupBwkSDyFM9iVHE9KvSkpl3v0BwMoBcYbdBKRdwsGZUEaBljrybKMMAzJrcU6wJRIqen0O4RBjC0zvPV0Oh1EqFFKUZQWHQboKMRkjtIMEK3GiC+FJ3QOKcFLjxAKQQAavPcoGWHdAJwgjmMQCutKnHM44+mbglasGB0fJ/UlG2am+Pkd9yBcQBzVaTXr9Is+5557Lr/99f/QbndI4xoL7RUaSczYhq2UWY63AxYXuiRpwJmnnsXv7ryF0sK73/56fnX7vczMjLNxaoQ773uQ+++/n7lHF4kbEwwGc2zYsIn5hSNc85Kr2bPvIXacs4OTR6bYW1vhgT13cfOt+xjbNMNIM6VcOcCTLn4S+35xkMXOIhNn1QgZ5Z6b9yKikAvO3s7tv9jFuGrxu/t24fKSJI55y1+8les+83n2Hz6K7bUpioJeVnLito3seeQgca2GsxmXXnwJN//6JuIoJRBQqzXYvmmSJK5x/0N72HfoCLV6i0sveSK/+/0dPO2i8xGjoy3vBQAIK6qFVwqtNcYYvPc4LFJFSOWQIkYKj3cFSgYYZ/EUoOpQdtE6pCgKQunIsgzZWkdQdCiMxRuL0JKisEgRE8gCg8MTUK+ngKaXZ4TK4FWA9gIvQAlNPsiwShGGIaIskaHGFCXegpUa45eJZUqoI2TgyXqeeirRqk7Wskw+roXf4zj9jLP47ve/zubx7SwdnWP7KSdz020309RjuMATWEthIDMrpMkIeV5S2II0ilEqoDAWiYWyQIchSEWeD9BhQCACcm9xpSGKA6y1BEIhpcR6h8NTWosE8BIpJUmS0B90Ea3WqLfWIqXEez80xNAySLwTKO3xXuC9RQi19j4hBEJ4Vj8vhEBKiXNu+LvqOs45wOG9IAiC4b+PvYSoHMA5B0LhbEkURZTWYEuDUgpnLMYWBIHCOYjChCAIaDabqEjRajQxxoCvwgWAtRZnwXrHYDDAe1s5h5Tkebn2vavOd/zfAbRUeOGGz149y+o6ra6RteXaWlnr165ZPfvqZ/1jPru6PlJoPBZrLaLZbHprPWEQ4ymHuyHEDy/f7/dx3hCHEUEQoJSi0+mtLbr3du1LhBA455BSAqw9XBAE5HlOFCU4Z9YWf9UgqwbzvjKq9x4pJcYYoijClgbjLEoNH9JLhJLDRai+S2uNRGC9+3+u5cXw/rxcu7+yzNE6XLvPLMvQunoGpYK12F8Uq8Z3a/f7WKcNhs9i1u7l2PPYtc9ordcMsvqn1vrYGkRR5EdHR+n3M4SoFsBTbRtny7XFrBZa4b0lCAK01uR5TpZl1WLZ6ksd1cK3Wi0GvT79fp+yLNd2QhAEQ4/M0VqveZAxBq01AHmekyQJSZIwGAwQYrjAzpOmabUAgcaWBiEERVHgvSeO48pxnKsMIyXGWYQQaFmFW601ZVklVBh6pqwWJM8HWGuByiCrhhSi8nBj3NpaSLlqbD80LjjHWiRYNc7xi/1/v1aN6b1HpGndh6GutscwniEt1nokanizCqRHq5ggFBTZYBiCWDPAqheseoVzjsLklGUVZhq1lJVuj0BptA7Jsv7azURRQF5WixnqgCiKQKpqRwQh3lsKYwnDEGMMUlTVR571cV6gA4nwVLtGSMqy2j3VwlTFx6rHrnqz8A7rHaEO8AKMMSgVYEyxFpqsdwhfPcvq/6168+rOcI41QxhTvU8ptWaIKIrWPtvtdtd2eq1WAyDLiur6SRK/35jhTQqLUgEeKPMC8IRxhFYSKQTOewa9HlEUE4YReZ6veQUIwAMeIUAowZVXv5ADjxxgrDVCkWcYP6DRaOCdZ8P6SaI0QmvBa1/7ao7OHeETH/8Qp552Ct/9/o/5qw+8hzASvP1Nb2DX/XezNL/I1PQEl1/+JEbGYl7z6qt54nln0ukt8YZXv4gTzziR1uYmMxM1Xv3mV8CI4i8/9A4ue/olzPWOUD9plHSyyR+9/IUcSdrU1tVRU4qJE2awvqR16noCF9Be7jCxbQPjU5OUiaK/skJtcgRfluAFaEU0NYKONYUpUfUQGUh8aYnjCBDDXQNJHIJ3GOtwXiCFRAhIkmTNkEpJtFaISy+5yAshMNazuLzE4kqHiVrI3JF9WNWoqiXvkFqR5SVymJyttSilsHa1ypJrScp7D7JK5K5wqCjAlgXOlngkQZgyP3cUBNTqMa3WOEePzDE6mqLjiJnpTXTaSxhjCOOU7SdsZd+BQ0hV7cBee8DIyBh79+xmYnqGwwcf4clXPJnLn3Ieew/N8cl/vo7/vP5LdFaW2b17N9/8/g/JQsdTLnwiv3vkN+w8+Sz2LR9h+chRQp9C6Tjp1JP4wTd/wnja4vwrnsQN37uBmQ0ncN+vbmPmnPUs71rEeMPOc3by8D17EcYReUHhjhUqxyKCw1pLFGo8EucFZVmipByG5QH1ehOtJUVRVLux28/fPzc3x9zRWborPfr9FZ57+WX8dtcDBDolUJ7SgTElOlA4W22/KIrw3qN1wGp1gFfVjQjwVLtEBVWZ+YRLLmRmagoFLC23+d63v8TmrZOccOIM20/awPhEjbPPP4vTT9nCyFjCaWftYHZlnomNExjT4aSTtvCsP3wmB/fv45bbbuDr//YZ/te1f8ytv/4lX/zip9m5fQM/+8mNrNs0yRv+5JUszR1mdu4QVpW84DnPYaQVs2VinJposnFihht//muuvPSppCsOuWjoLc3zzMefz5XPvozR0PPk88+iNply75338+Snn8b9t+ymmTY4/6nns9QdkDZrDDo98B6BQ4jVBA7giaKIOIzJ8j4q0GgVIFBorZieXkdRlPR63WFKEIjJyUm/mkxWE9FqOboa66WUCKkxZT5MVPIxVc/x5asblmtKVlWNw6OEJK016Cwv0Rn08IHm6le9grpUnLBjO4/sv5fukiDvdRmYPt2lHg8dfJTRZsKDux6mIaEMHQrFi//0aj716U/xzn94K929ErxkfCSl3RnQ7i6QC48cb3DHbb/hyJEjzD94gLGJcc571vn0egsEAxiUljhNqcuIvQ88wp5DR2ikCR/4mw9y7Z+8kuamCV7w8pdx87d+xp577+Vlf/5i7vrp79h3zyHyPGfnzp3s3fswZWnXyvXVCm+1PK6iRZXXlK5ym3OOiXVTdLtd+ittlFJrn1Npmr5/NfkURUFZlo8prY71C8cSVZ7nw6QncM7jnKcsDSBwxiKFwFiLMRaB4KSdO5FKMbV5PUmjTnNknMc/7kyUCmiN1jg4N0eo60zPTHD6SafRLgfccefvmT88z/aLzmff3t2s23wic4f3c8XzL2Pd1HrirEYtThlr1Wh3++QeQhFw+pYdPLT3MI87/RwW5o8yuW0TF19yIXv23s9oa5pOO0M7zwO37uWBO/fxspe/hoOHD/LCZ1zJe97+DlCevCiYPTzLI7fdRV0n7LrpfvbtOYgSlRMuLy/jnF9L1t6DlGLNeaEqidM0RSIoyhw8BFLgrKHX7ROEyVoFCiBGR0f96k6AY3G+erm1imh1Z8RRgHWV0aokzWMauX6RM71+hoN7HmF6ZgadREjrWZlf5DXvehNFPyeI65QrPYzwNFJJEI8wO3uEWlhjy46t3PX7O/nsJz7Nc1/zSm7+6S+YOXEdh44epr7sWOkt8bxrnkWrOUlTJARRjcPLs8RxTK+fkSQR+7odHrdhM93eArofMH3aevbtfQSlNMUgQwhFoKpqzAxKUBKkoL2ywlS9QZiEGCtY6i5TS1I+/6nPgBOUtiqLra2awSiKyPNyWJartV5htcoKggCBIy+qMrssq3Zg9ferPZa1FhWG8futdTjnj3W3rJalVQWEFKjhQkdxgpIwGBQoJSiKnFqtThiGBJEmCgPKPKPRaOK9Z936GZaXFrDO8t8/uoH7776XO2+7lTtuv43bb72FX/78Znbffz/nP/4cklrE+rEpPJ7/+Z8bWNhzkCiA67/9RcrNBbVmnZgaz3/OFTyy9whjE5PMLS8QxRGNWp00rRHGisWFPhs2zVBXElVLeMfr3sZTnnYZ99+xi8P7HuXplz+dg4cOo0TVvaf1lJWVFeJayoaZDSwvr5A7g9aKQV5yyuPO5LwLL0DHkiNHDoPQuDKn9B6b56hQoYbldlUyV86ZZRmeY+jCan9R5dbKaGVZGVLU602/6tGrr9WKCOdxWoKFi5/8JH5/z+8wnS7PvfIZfPObP8TakhNO2s6h/QcQHEvieZ5XF/eSt77/3fzjP/w9vp9TlBYxDIFKiao/gWF/UIDzFXZTFBRlxvjoBMYYlnpL/P13/4V/+tP30FnJCeoKk5X8zUc+wsHDj4Kz4D1xEFJiuP2+h9g8PUEjCrjj9/dww3d/wCtffy3r103xjx/+KHhPkMS84S1vQoiq6svLgno9ZWl2nus/9yUWlpc47wnn8tTLLmcwqMruwaDD5Mw6du8/yJ0/u5EXX/NS9j78CP963b+gh72Ccw6BwnlDEKi1MH88tLEadVbX2XtfYU3HulqHUlUH7Cyc/8yncfHZ53B0fo7eIOfSJ1/C+97yNt7yltcSxlO8973vot3v04hjpPMca/FXsRXNxq1bOLhvP96tessqBnU8DuNY62adw2KpJQm2qJzCayp4w0gCXb2nlqbsP3yId73/vQAM8oIoinDOcO+evfz6+9/HWxgMekRJzNWv/FPGWiN84TOfIesPKI3jbe9+R1U+DnIenZ9FG8/nv/h5xlsjlGXJCSeexL79ewmUZjDICcKQQdbjFde+jq9cdx1pHHLN615H6eHowQN895v/gT/O86twfQwxOB4iAShLe6wTv2Lbdo/SGFdihaySS1GAUJS26nb7eUFuDWEc4YzFCzgyN8vU5CSz8/OkYYwVEier7RhEFYZTGkMYKJys8BjhLChNUVqkciT1GuXAIqhiry8zhNREzSbzC23qjbT6XqlwQ3AsUCGZM8Qq4C/e8w46/R7t7oD20iIjY+MMen1uu+dO9v32DvLSUBpDmiQMyoJI6TXDOzzeVrtxFcpYrRyttbRaLfI8RwQhrjQ4Z8hNSZqmPPd5z+FrX/wSURTxmre+mU6nQz7I+PJnP08YaTAOHYe4wqACTZjWGBsb47TTziAabbJxZgNxLPnYB/8eV1QIhPCL+703njwf0Om2caUB53n04CEefvhhZo8eYWFunu5Sl/n5RXqdNu2lRWxeUBQFsQrod7ogFM24ThoqkiCglTbITUktCgjDGOnsGtxRWs9D87P8dn6Oa089je3j44xLycigg+m2GUjHUZ3w5b7h7oVZBhY0gsdd+ERa42Osn5nBecHU1ASHDx/G4UnjhHq9zmJnifv37uf3P/0fjh45QqPZJIoi6rWEq1/2x3zyEx9DeFAqYNOmTdx99900Go01j1VK4YahY7UkF4Adgn56+HtrDEprnv9HV/GT7/8Qpzyd9go+L0Eqtp/1OC65+FK6+YBWlFQornAIJ+jgmWg2GBkZobCGXnsF8dI/frbvtJcZb42QpjFjYxPkgx6joyMYUxBHEUlcQ6hqS81MT1Pagi2bT6R0lsnxjdS1xHgHtsJmrHeUziK1qLiEbp/mSIPcVEitcAIjHVpAErdo1BK8DhF4Su/xKqQZAt0e9x04wP9+799w8ZMu58DSHM16C5tnODz1tFYl2TgmjmOCIGB2dpYHFxeYDGNO3LyBNKxzdHmBL133Gc4651x+d8stZFmGUopQS7w9hhZ774lUhWNJCbWkTmYy8BU+lNkSb6vd1O/3kVKz+ZSTObx/H6eeeir33rOLIssR3tOzJeWgYGT9Ov7ibW+ndCVJLeWB+3Yjk5RGPWFqbJQvfPo6Du4/gMiP7vYWh9cSl1dwsLFFlcQ0LC4s0ctyBoMeCoF3jrHRCRaWllnq9vmvH/+U977lzUhlyEpDI62hPCyvrKDiJmGk+Nl//5jTzjidnaecUSGcLidpTDO7736ESmi1Gug4RiIIVMCNP/8OlzzxCvY8+hBH547w6a9/n3XrtmC8o5nUoDDopCr78sKQxDHOe3qDPqUXHOp1GUMwPT5Glhvagy4/+Ma/Mzd3lA1T43SX20RaE0hBpCOE8BjvCGSAZlg92hKtQoo8x/ljMd8UJSJQGOfw1qLDEFuWGHwFEEpJKBWl8FCU6DBkkJd4b0njmNwapBVkNkMi0VGMdwY9225XrbkTCFndhB6262VpSdOUpF5DuPFjMLn3pPWEKVNy0eKZ6AAWZ+fZesLJHJmfo9vuctLObRSFIe91uOKyp9HuDOh2lmi323jh+Ju/eBfvf887cbZAqaqp8QKMFfzzuz/GfU/4JZe9/hUIqdn3wH62bj6ZwpQIJSmFp5mm5GVBEMZ0ev1h16NQ0tKMY3SWVUmyNIzUa7z6dddywy9/yVVPP5uJMQV5TrMxSaNRQ6gUqUPSMGKiNUqoowoqx63xEv1+HyEEA5MRR01saQhUZZwwDAl1hNaaQIfEkQYVoLzCCoO1jl6vx+LiAu32Cnme0+/36fRX6GcVcKpXSyghJc5XjYfFo4TA+wp3t8LhpUQc32cgSJKEEzZvRQhFMjJKvyi58Sc/4oyzz0E4T1Fk5HmOsg6Ppd/vkhUDsiLnZS97KWWRU48bWEDLAJvnGJ1zXiT5569+kcvf/GrWz2whX1pmfGyMI3OzGAdOS5ZX2rRaLZaWVyiMpVZLSYb07nK+TJqm1OspxkMUKYqsxDmDsI5mMsmDB+6l3pwkiSawCHQUkgQJadxARjXGRmfQIkSGaljTGzJX4K0iieDg7ruq0CYUUgtMOaDwljBOKZvrCV2FP5liQDfv0ykUemSSSEQIa7C9HrPdAfOdFXq9HlJrjXer0O2xWOmlwEuPExJ8RRk6IfEiqAylFFlRDpNZ1UUWpqSTl/z+zl2ce+lT2bfngarsVOAE4GzFG5SOMI546TUvo3AVFqVdyW9/9e/sv+92mk3N7488irWGa658CU973jMwQ7GCCirCJ03qdHs5hYN6pBhvNTG2oFmvoxAEUUjpPE5KrBWUxmNLx4b1ExhTsHXb46m1RtAqx9kS6R1BWBFVouhy8IGbWF58kKx9iO7CPkxvDt+bZ/HA7Xzq039HkCR4pSvK1FsCGZCECUVecs1Vf8Dy3AMsPfoQK4v7oVigHhsa2jA9lrBpos4p29Zz2aUX8JLnXsGrXvpCpPceIT1SgUCtNXVVA3IMXxIepAdPiXAe6R3CO5JGAyVBOIs1GVdd9QLiSPGlL3yOQoVIQCAr4cAQQpGBZKwW8rXrv4xWHoQnKy3nPekqNu98PC/55rfJbYHNCzZPzbDQXkF7T5jEdAYDpienSNIIKWG0USOII4wtqn6iLBgMBqAk/X6fot+lLHPiRFFPAigMzVqKwxA6gdThGrwjh0ClcYJms4koBYNOm157iUOH97O8uEC7lxGECi0kaoi/eSdwSPLSUljDi579HKK4jhUOSdWwMawaVyEhnK36LTWEiFZ/sQrwrZZsxxPqQq42XEO2S0ickAhVhYLSVKWdVAFvecObuW/XLuIoYHm5YqSqzldSWDNkwxwT66ZJkqTCq7xA6xCtIhIkSIUk4E8uu5Jf3nITO049g09/4uNDqlOtNUVKKdI4wUtFp9tHC0kYamr1hFa9RhwFxHHM6OgoWZaxdcsGRmqjeAF//6F/xImygq1FxURiDVqHvP4NbyCIaqCq5yrLEmcsyhf0Bl3wlZGPb9KOcTCCTZs2Ua/X8ccBpdX9BkNqlSFg6mCVR/dOsPqz+jreMEopvJOPaXi0kGAdrvTUajXCIKj4bOv423/6MK/+s2sRwhOqEDvMK2kYDFt9gRaSkVZrjZo9HmgsVMX03fL5L3Pehq387Lc/Y9PGLZx62k5Gmy1A4KVgpdNBCEFeFqhhvloVNzQaDWq1BoGOaNRTinzAB9/3ftpHunzqo/9K3s34+IffWYVUdFV6D3eE8JaPfezvWJw/gvdDHEhUTaDHYmyGzPvU0mTNGQCEGqpYnGfnKaewML+89kyrgChUlGrl0H7NkFJqZGkrqweqIuiNMWu8wmr891QcRVYapK/ivdYSFUqccEgvsKKK3ZEM0VpSZo4kqQwkvEAq8MajdIhXIe3lDl5LlIzwWmCHnLVHc/v73sfiFz5LUK+z98ghGrWEM04/hU6ngyksJjdEQYzxjjzPK5RTCKIoIcsqirefZ/TLAVoK8qwEDyJ1DNo5p594OivdDtKXREmMoorz3nvQAcIJRsdmUE4jJUMORmOcxJqcUDucB8cx3EgyRKi9Z6xex1mD8NWiH1OrKI7n9KXUx0QGr7vwclZsDqWllsYEcuilgSJu1Gi1WmzYtIXGVIuR1ihjkxPU63U2bFhPOtLCGdCjgk3rN4KwkJd4DO/6wN9y4Rk7ueDcN4IxUJQUec7iSococHz3pz8jX1rmxc99PjUENFrQ73Pfi19AMrdIqmM+9J0vc+O9d3Dw0aP8/p4HOefi9SS1GKUEgYpZWRxQT2NqzQbd9gqmyCnyAUkYURYW7atYbpxl68nbMeSo0PLKF1zLG9//KurNbeQmx9oSKUO0DhFIlIpoNkfpLLdxzhGGIYNBThgFaBWSxA2EBCUUpTVDYyjAkuV9xJZpRPcIEo85LjSBWIs2q1KkNazptVu2epdEdPOSUEsC66lFMUWRrREhQlUYlDKOwpoKQ/eOFWOYDzUKz04VV1vXOaTzLHnPCVlOv9ZERgFLZU4UBbTzgrb3zDz1UsobfsFJQciZ42M0Wi3S5UUKV1KWJWd96u95tJFw58MP8IPv3MSR5QUuftoVLPf6jCY1anFAJ89xpUFoRbfbJUki+oMcLQOMK2mEldHywoDJ2XX/r3nNs6/gn/7yE8zOLfPxr3yYrAQjJY1ak4mRUeI4puj3GJ+cZtDtYrwZUqCCbneFhc487dlHOfucSx8jjFulSG3WY3rbNo4eOjwMTXLNEJXB5f8Fdg7DvQpCpPWMRjFtm9MrCrpZRi0IkDhqUYgpHU54PAqpFY6qCojDiOXFWTZOTFG6knoUIp1kYC11bxn4AV5W7PXAWnQpyIqcFaX4xVe/yZ9t20agBGQDskAQWI/Ulsd/+3vQVIwszDEeNzjzggu5/UtfrKAN5zDeYG0FO/T6PdIgolVvVMmwsARxyPz8CutGx1EqYK53gLqCUAoWe4uUyrF+aoL/9fI/J/ARh44eIAwVf/Ssy/jDZ13BP339ej7yl3/J4sE2UxunGR8ZR2jP5LppRtI6v11pM1avg7WsDDJUYSl8iZMBFBaMQJQWg8MZSxQllGVeaYfTiNIYjK+ULsJWBIbYe8eNPkwTBoMccFXD5BzCW8abYygpSZIIIRRxnICUoAPQDvoFR+bnmB6fYvHAPu6//37uu+teOkuL3HnnnZwwNsHcSoeji/MsLq/QCAKOLC8z6zwnX/AEdux7lIaGU0Za1MbWkZ52Ck9555/jKBF4Dh9+iIXFZX5+70G+/+MbePYVz+Ceh3Zz0oYNjDYbdIuCfr9PrVar5JaAwjMxvYHdD+9m49g4y50uYRJyw9e+zrkXn8SOresZrbX4+se+zO4DsxAIRN8xIj0XjowxbjLGkphDxjEW1RjYHGFBBwEmCLh5fpEjfsClSQt90lYO3HIHJ0xP8Pb/+REfeNVrcLfeTD6+iWnnMCbDOcmqvKxXZKghBR0EwZr4TWiFDusNpA6IZEBRGuJQI6WqSq8oJTcFufOgPYHJMcaQJDHtpQ7dXp/QFmT5gLxRY8u5Z3LSeedSSMvlWcFMI6IoDIWzOAONtMZyr0PhSh544AGCIOKMUx7H+PQEgYhxAkpvkdryihdcyac/9zniOMbcvo9+u4MrciYmJoiCkDiOaQ8GNJtN7DAZFoMM7wxlWVKLk6qxUxpXlLzwmqvoLj9EPYnJXZ8/ftereetL38iWsfVkcUDoKrZMRiGqEdFdsSibYztdVL3G/l6HARaNhNwzlgoe3ruPmYkmKkpgvs0pO09n3133IkSIFRlZ4RBhVVkZa4mjBG8tXggwrgr3gSYf5EglPPfeey8973HWYMuSQEnWjU0wOtZiZuN61q1bx8zkFBOjo4w0m2gsNVsS+wqnP17raqVDWU8x3+bhhx4hjRPGxtezYfMW6mNjrN+0jaNH5zj5pJPYd8/9JFGIchWX4ZGsLD5KWORs2rCZzSc8kT17ZxHK8UdXPQ9rLUkYksQxYRhWqLAQhEFAqDRREJLGCbY0a4JnrTVRWKddKNZNbSRJm0yt2wAm51+//Xne8ckP8c/f+BxPf9Fz8RMtjgoIN2zg9gP7MOecTjcJKVtNylqdZjpGVwsmp6YRacTkaJMVVzAvPXP7D7JlahyZhAxMD9Pvo7UmFAqXl0jn8dZQOoMTHrTEU/UoYaArrGl623b+6GPXseub3yEMYkaUZ9DPCOOQsigIgoCwXmOlvcjTXvMKkvo4H3nxc6qS1zkcFQbvfTkE3zz1Vp17H9jLqaft5JQzL8DKqnztZgPuuPUXhDie/+KrK7m6B6xFCs2UMNnTAAAdZklEQVT3bvgZH/vsNzh68GF2XnwuG7dsInrwIEoExKNN7EqbMIrodrvDjtVR5AWhDohbTYS02LIkrqWoMMAOoNVIOXJ0mailKY2l21vCO0duLU5rlrIVnnz1sxl97TUEOub//PVf8dVdN9Prd9FS0O9nWOsQAo4u7OXf/v37vOBt70V5gyksOlSIIOSEE8c570XPY7Yzjww0Js+qvFUahPNYV2KcQ0uJM5Y4qWOLgqzI0bnJUek4xnl2XPlsJtKUe77yFaRSmLJEehDOU5YFygEyxCsw/QE+dBzce5ATZ9bj+8VQy1RxDiqsVGzWw9G5eZrNJlJoclNpbCumrxIlwDF45aZbbyUea/G8J76E/775l4w1UoIwpNVs0u72wFu6vRWiIKwQUF3J52u1GnlZoGXAwBRgLXleVWC9Xo9arcb7PvgR0BGH9+/lo3/7XtaNjiDSCK3EmjhaYHnzG1+D9zlRmDLISzorGWktZHbhEI3WGNe+9HloZUFQ3b+gmtmQHjlSh/Y8oYVopEk+gGY9AeURUiJR1b27EmMMJi+oCYXWOqSb5biywOeeTqjQXuERWBzIiuQulrtI5TFCUGSWUoAsS8bGxtbUat77irNQEu0MzeYIUkpqSUyUJGAhMgHeWwaDAXGzWTV84hjGtbCyzMrSIrfcfhvnXvpkiqIgigOEKxGuJJK6mlvwFoUnimLEUObT7bSxKkZ4z2i9BjiSMKqU5klAODnBus3bqZ94Gp//0a3849vPxAiDJ8RYKhxeSFQgsUoxte1sNp10Cs3NGxgZGaN9+BG+8HdvQemqUXVYpKxwI6dk1S8J8MIyEJIPf+RfOOAVzaTGD6//ShWuGGqIV1Xu1mIRSOkdQawhKzHFAJENsN7AUIK+CnUAOFMQBgG1JMJbh5cRneUlzBAcFE5UGiGheP9f/TUTrRbeWKSu5iM85XDgxPPokcPcevutSMRaYwMgnKLfy9FxxK5dd9NtL1OWJVlpsN7RGm1SixPStI4TEMcx3sLySpsoiogijfcWSyVZSZIaY+MjRDri2pddTa80LCwsYIMYU+T822c+Cb6iApyoUAPlJNZI6s0mpihRQURelsg4BFXD+Qjh/HDeAqSo1N8iiCC32NKjveFgP8MFAZmWuF6GdrIaTrEQhwk6iqumuTmCzJ0jynLav7yZzq9u4cBPfw7e4ysl/torqSUoGaBkQBQmw9kDR7PZpCiKakcMu0aB47Wvej0bt2ytEpGswC5bOkKlufHGG/FBwL69+ymtOWaEIaRyxhln0JyYpNkcIc8y4rgSIzQaDbSQNJtN3PC7tdbgLZIK4gjjCCUrCCbPc8JQ44ylyHLGRidZ6g44acc2bvzaN0mSGi+95kUMBv21mQkpJVqHOFMSRDFhEK/hYY1aHYRDSHtcgXIMo1t9BWE1Z4hUeFWF41WHtrYSX6wBgs7TKzKk9oLMlvSLHlk2wLS7eBQMW3dsdYEsq5opb4uK7NESLWHQ7ZFl2WMALmstWzdPVp5pLY3mCPVmo2LYdMBJ205ACMGLX3DV//MQ1lrqjYR+URIFkiwb0Gi0aNbq1JIUgH6Zo0UFzeeDAq01jbRGGAfVMEucMOj3gSopFkVBkkYUJWydWgel4PGXnEc80uC0My6gXqtVBJi1rHR7/Od//Zi8LHAWBnlGv9vF25JaEmEdfP+H/z3st8xQiDdEU70FmxMEChlo4nodpRT1JAXnsXisd2vDKVAh0UJJpMWTyABtfCWSkgJrDQNb4oVES01RlGAsQRDxk499muv/+gP08gwlNFMbNoBUDPL+Gn9RTRt5rLcMrKG9dJSluVmUqPSftYlRENWNSR7rUUVRsGxKvHA8+9nPJC8Lxup1vHUMur0hsS/pZTmlqTw+SWoEQcDS7DylLXjogYdo1FvV0IgWhEqTFwUL7S67d91JKUpedM0r+P2Dh3h0376qD5EV+NZKU65945/RCDT1RooQgkarRdJosvXEE2iEKVc+63nVzljVaKlqTMs7oPBYYYiihFZ9jNFGs+I2lERKBQ7CMEKoqhdKwqAa95UqIEzTSlYvBE7AaK3GP3/0I2w6cRuLR2aZmBzlgmc+u1KmCc+YDKubUBAaNUQZBYUpCVFrY17KOfJBQe4UYxunGdlxCpFTdHsDjLXD3HCMFRRCUHrPusYo67dMc9fv7uDMJ+yg34oobSUg81IQ6YAySTDGEEiFE4I8y6jXm2Qm59RTT6l6jiQhSSLybh/lA4pBxtF9DzO2aRv/8dMfYFaW+fqH3ovJDbp0uERgEZTGIIZKDuEEWkqKwlCvNZFBSBgGawLkVXGc1KriXWoxqggRsoKD5ucXmJmZIg5jfvSf32CQ9+j1epi84KInP42tJ59KQ1ikHkpDhPDI0qIczLXbrD/tZMY2bUC0UnyjjkeC85QeSlZZJkFhDVJCGCiUkBSmXFOBtHsrfPd7/86fvvhJvOCpZ3LlaVO85MJtfOMLn2QwWB7ugcfyEWWRM1iZZXujxeG7fs30lhPJFrv0+9ka51Al4YRWvUEYVmNgSgnSNKYeJZTOktYqeFuHAY/s28O6deuIgphzzzgVWwzoHp1n8cg83rEmjawGM6tRNeP82gBnYarBk43rp9do4dX3r87YeeEqnqYcQi0q4Oaf38je+x7ga5/9AuH6aXSzwQMP7+U7P/oxO844nSiIcMhqlFlJmBwdwwmJlhKhJaGWPPUpl1esVFDJBSOl0VE1a+eVQguFtSVZXtJMPc4MH8h68jKj3mhww7d+wCV/cDEXXHQxtiworSNN6lz05Iu46aabWDzwKM96+nMeE5re+ppX8OGPfJgbH3mYf//GN4iDiLz3G6KRE3jo0Cxa6GoCNAwoy5KVTptaWOmaCmvwsiKJukttas0GZZ7xgx98l83btxOlgsXZDntm93H66adhO30WlpcIkhApwoqJi+qVMXwVenLKqpwtDdu3ToEG6w3Sh7jhbJ5zDuUEVnkevPsuxk7YilCgEPQyQ7M+gkxinvmGtwxdD773qtfjlaZ5+qkIpdHCG3bvuo09d92AVHoNfw+UJitKFhbmmJxcR14Y8tJWJWQz5c7f3cH6mZkKC7IWiUICgZYEOqW93GXdxo3813d+QNYfMMgrUZd14J1jfm6RT37i0+RZiZCAcIDimU9/Nk+99CkEUcrKow/yizt+w4N7DxOmY2w46XSKonpwoRXSQ4SiVkvWhkWcc9Wc3nD4Mcu7bJwYYzRSCBWRRI7AGsp+hzAZYXrTCRw5vBspFQkReDuU3ls+8cE30ajFNOojxLWYolDYrE/amMA6v1Z2V3RwlYDDsIJsyrKEQOFyA1lJUG9SCo/1AqEUSngcEi0qvlsfnjsAgebAgQN4jhEYx4/1Hjy4H0GwFkL6i23GRsYpy5KlTpeJVo0oTCmtAuGQHsIw5rxzLuDxZz2h0v4ouSZCXh2c76z00MGQhvXVICT4NQoyqLV4xrNexvf++xecd87p3Pjbu4njSkJv8UgP9XqdTqdDYc2agDpJEsosJ9IBWQ7nP/FiVnLFngfv4a1v+TNatTqvee3/wuqIRi1i99IRJqcTiiLjkSOzTE41WF55lKnRSaI4RusYmzuQjsXOAnEikUGzInlENdYrvcA5y5Ejh2nOzJBlpuqci5KkXsMLCJSukAqGU65DAb4xBj06Oc23vvM95ufnmV2co7NcPdRgMKDXqcRnzni0lrTqLYJA0WyljI+NkCZ17tq1h8/8fx8HM+R1hcA7g5KSQAoKp7DWkDlHIBVeCpSQeO8QvkT4oUCh6ubWjFVdC0wJWVZiywIZhCglkBKiKCJUmqIsUSogDqoCIggqLW41YB+R5SWD9iIrcwfZsWMHd9/+Ey4693S+cv0n2bhpC3/9gXejXI+XvPx1CCHYsHGah+69k6imsSoj0Brju+BN1ZTKAV+4/ou87tVvGjqqGu5QifSS2275NdvPPBstQ2phyOxSm6TeAK0prQGpEVoQ6gSXZThPRTPs2/Ur76XAD3WpqxMsUkpyMzyeQIZIUT4GZZWyksgEQURZ5qwOjh83ZoEbdrgAxjr8cOJGqaBShgNJUiNKW8goWisHTTFA6oiVw3uxoSZp1Pn6V79KPHMqcRQwGFgaaUqn20Y4T1SPqae1SpWnJM5U8stoyLOcsmUzD+49SBBpss4hxlLHSNwgaTTxKsBkXXSUkqQN6mlCLU5A+Er+ozXSVzvdWksQSkxpWXNnVhUcDldK/uWjH+R1f/7n4Dw3/fZWBv2q2hM6QAtI0xSUJIrr6CQgiVL6eYbYf+/NXutwmHSOkd1aa5yo5uW8qAbKVw11/HiS9G5NgmOpsKbjj3RYG/mV1ehSpSwMCIeqhyhKiOstRBANz6YoEd7hhyo56R233HM///B/3sd7P/hxljtLjNRrzC4uVwMuzmK9wuQZQZxgvSFQIUkYVcfyeEO91WR2aQWso5kELB28kx9+7Xs8/+oXMz49jc0HeKVI0mY1eZRExyAbbXG20l4JKfFGVRowd4yLXlVoOAcTM5Mc2rOLrIRAhVhZpedqLKGavzYe8IIo0JTDhlkrFVQl6PAMC8SxQ0q8dYQiACTGV+demLyahBEIXGkqBYazRDpAe2B1zhoQEpypDKE8eFEdwZCbktyUlVY0eOx5HJUiIqB0lloQ85+vfxM3TW3kS9/+D9717o9A6NmxYQt379lNFCZVp2rKNeggqqVknUFF+OcFyvQpgNJIelmPSCv+5Orn8qJXvYLbbrqVP3zmFggsxvkhsU91coy3ICzeeKQaHoRiJNZbhKsUGatIs6jUxzhXMLcwT60+QU0q8EOVo600TzhPaQqiYcMrpCPQIWVhkaGxBGWJtBZRWnxhcEVBWeQIaynKAUIa0lpUCa40lBiIJFKHICKsr3ZOOaxaSmeHucVVMLH3FW8hHE5ApINKnuIhNyVOCshNNdCeGbQM+fXzruKO172Rl3zx6xzc/QC7d+1FhJLMOjZu20Qa10iTCIGrKjdniaKIQFZH9YQ6qoZc0gZFacmMoTUxzcTUet7+1ndTWst5T3wCIggI4gZCeLr9DO+KNdXgahheVWl44RC6AjarguOYAMDK4fEPxuO8xA5Fd640SC+hrHaYRiFd1e0LNFhJoCL09X/2TgYr3eGXVh6h8eRZH61CdBhUQ4vWIJSkLRyD0mAlJDIilJ6ssCz2e7iiJA1DVFmQewtSMTY1Sa1ZoznSYmRiku07TmZm00aa6yYYnZhA1JswMJC3+cm7PsXE4hxaKNKpjVx+/VdIGwl33PE7XnnNH3Phc56LlgELi8vVaWHDY4ysk5SFhZoi1AEyCClwKCGZmZqkkJ4xlUCgKMsB7cU2z3/Gn/CDn34TmxU4PHk2YGQ0JnOauo6ruX1rMGY4dWoNw8nOSlyMB1FVlwiBGArRjp1Us5pABB5LNR7t1gBE5xwSkKKClERvbr/3wqNlpdGRQoF3ZMUAQQyy+pATVYOiwoBWY4RHfv4rPvrO97AurbE+L5GRZiErMN4wHUXUvMCoapt7qRC2wElFKQTWefrDcamxWo1tp53KQGtO3LmTLAy479abecu3voUeG6c1GLDznDOZ2jTNUSIiGTA12mBusU2SRPQGOQxzmhlO9WRZRtKs015c4pKzz+Y3D9xL6BVhqFkpCg7eeTuTRpItLtFcv4GtO7Zz+XP/EG2W2LRlGyOTm0AKpANvc5QSxw5/0cFQdGfXpkPXyLChyMzL48Kz88cZyB2bSnKrxw0Nw1v70T1eC4HxvvoSD8JL0CAdWOEJhMJ6g6soqSqMDTH4ftZDOM/o5Azvfd5VnBrV8GXGhNB45yhwhFFE35VkxlJYS6kUUZQwEqVs3byFeNsmajPr0bWQ9/zt3/FIbphfWWHPI49wztat/OfPfsLbP/ABSiEIRUCeD4hqDYwz5HmBA6ZGRuj1OrR7A7RW1OOExZU2l55zDnfvvg8lNDpM6PdWeOJF5/G9j3+OzcIzowPMxhlap+wgTmvM736IWj5g0joGnRWyfhdnLHmWgfaY0hJHIWEUMzG9gVqzQdRKabRGscLTHBkjabXWYBgRCxq1JiqQhGmt4iyicPijV2eBEd++/jq/cctmJiYmSOOQNI4I602CVGMzw/zCEbRKMUVOe2mBZrOJsXlV4oqKTBFKIIxAhCkhmrmFBfbdcy9RmhA7gel0CFUVKqrjg0rqrSbg+My/fJaHF7u06i0EhmazycLKEnFSpwwjuvsP85O7bue5L38VWzdvosgqGX0QJ2TDc5qUUmzfuo2DB/ez2GnjVEQkBFne4+zTTuPh/YcYDDLSNKG/0ubELZtp/ObXtGRMlvXRtqTQATv/8DLyJKa/0KG/2CY+PE8oHLEKUB4aYUReZiAlqXfkouTA3FGmd+xA1WsQhJTWYsz/39S5xch133X887+c28zs7uyus47jtR1fkigxtA5RqLikglIipQ1N00oVaYFIpZWQBRUSL1weEH1EPCJUqVIFCClEoaoUISqgKA8lQilFtGlSxXYcX2LHa+/uzM7lXP83Hv7HDq+j0TwcnfM7v//38hlDVVXYzuI7g+1MdCS1xrQdw5URSgm0TEmLnLLtECeObofR2ojNzU2e/eynyQYZi7rlk088wbXdHR48cYJhkbO+MmZjbUzTNOzOD8BbTp88w3S2z2xvyo29GdeuXGX98GEGW4d4+uc/zvmv/R6bgxX+959e5Xf+8i9wQuKU4J23f8q5j34UM1mwMchRqxmDNKNpKmSSEjqLDgqfwNv/8yPSE2co65KN1RWGwyHSeryM8znPc3586SIC0AJyHSFeBwcHLLuOye4Os3nJolr2aIebbIxW+e0nPsaGFqwVQ1InY/F9MOCb//gP/OYXPke2fZhRMqDa22X+/g66sWRCkQxSru7e4DN/9rXY90sS6DqkECit48xX/YiykiD6nKsC4TVKxG1UIWhFRyIEuIB46LGPhMefPMe/fOc7BJlSzicMcsHnvvRlTv3sz6BEQj3bpzqIOIRr71/n0qVL/Pcbb/DJz3wW0dacP38+aiwiQgRb62jKijSV/ecaby0mwKysGA0LNkcD3rxwidPb26DjAXFeLlnLc7wUOCeQBOq24+Ktm2xvbrGxOsSamrXxFrNyyXIxA+dJ8oI8iQfFNNXs708JSvLB7pTHHjpJMB2JisS1aV0xKgYYY9A9MAtFTIVnQ5q65Mh4SNda6skuwyyl290jTySr66v86Oplzn/1C+y+f5VFuaCc70Wv3HVkMosvXq3YOHSIqlnigmaU5HgZV/PRaBWdF7TLimJU4DqHyjV659YNvvvqdZxKWT28wtaRI/z1X/05r//X97h44QLTyZxqss+P336L1fEaN965wOmzZ3nyqadY39pAdS4mM3TAuLiKGmvRWrIyHNM4Q5Jm1KKmrRqGxQCt43bTNA1126JETrCOTGdxE5KyV0wCtYkLxDDTpGlO1Tkm9ZLpsoyLgIhxlybRKGVQJmV3WSMVbIw3scaQphl1Y1g2HY2HzAcCEhM8WTGg7SzD8SoHrSVRMsoidcto/RD7kwkPP/4kO5M9rrmK73/7ezz6xFPMJktee/0/2Z0tWMyWPP/pX+fB48fYuXGBKzdn6HyfRHiMCaiw4M2fvsVHHjnLP3/37zj3ix9jf7rH6WPHefzco5w8fATxc5/4RPjis8/w4gsv4HXKC59/ht//8lf4hWee5+t/+y3WVjdZzRJW8wGHDm8xnU7JZSyJd8EwHgwo6yom6vDko1X2JxO0h/WNVW7v7jEej8F76tYwKkY07ZLNlRE/fPMnnDl1Coin7kGaorWmC4bpvGQ8HuM6x7W9O5zZuo9BMWTRVKxtjLl56w4KRWcM45UYKsvzDGMDe/M5isDGcIV8mOG9p+75gw2SgYwRnCTRJEpRt5bRaMDOdMZmkYNOCLZFq4zGNKQioW4rnJAM8iFOGbQJdH1R31vHi1/6LR4/d5Y/fPHj6NE5mjzHeknT1RjTkmYFwRoylbJ3sM8Pf/AGZ8+e4viRTc5sH0X//Tf+ho1hgRIpQmi+/eprhH7N8nftUxOQwwS8oGxa9FDFQ12QmABOyKgo+cB8NiHJM+gsKklJsjyeyHtWXuc6Wi9wQuHTnJCktI3BC4ETgiACQmhUmuFNXJtXhiNSlUdIoxC4JtLARF/DtVYTfMDaKEdIKZHEdVMRV8SIDlU473rjxyGsIElSwNLZmBRptGWlGOF9pFtaJzDCYXAUoxFVWyFVgfQNSZKwqDq0kGRKYH2LsYpkUGC9p6yX5MUQ6xxdZxkUObjA2vqYp5/9FOagxjUdly7fQR5e20CrOJdF8DHf5CxCBExfXFF5GgGGMpCrhEUd/WqpBcuuw7pAuawjnFZkLBY1Wus+IRfBu0pGgKK1lmVbY50AKTCtxThP17RYa+j6OErdOVpr6LqGTCd0tqVxhs462hCo6jY63jqhazqEkugko3Uxga2UQuQpy+WS2WKJcRaVZggLXQ9BDLbHkQJCRaPLOochqsWxahZfvMbFUox0EWWtdawmSO8QOhKilR6QBIsjIJyPN6iLVqrWGh8UkWCVUM4NIcuo0yFlPkYiBa7PYiLjxREqljuapqFpO1zwVHVL0xqarkZ5MF0HDmxT42wXEdXWEaRgWZYYG2VsYy3GO25Pp71PHSMkXngwBud9z5aNT4TB0tmWfJDQtIbWRLmhMi0qiyKf9aYnG6gYQCtykJJFVdIZQwgB6x2dNegsRWV5vPAYbIipj6ppcIQISEwT6rZhvih72VhgO8uyrFlWFcYFqqbtKwGe1hjKtrl3Qr6rVi/KmtbEVEfd9mBeKSjLstekHHVdIrXA9VVqL4iLw4mjD3Di2HFOHj/BqUce4oH7j7C9vc2Jkw9SliVmtYs/VATcdELdtdQY1kYrTOe9XyF6NKeUTO7cpguBvdk+Yz9mdzrHBqiNpfUWpTJ2pzPSrKAYrTGrKnZ2dzm8uUnhHcbG0+it6R3WVsYEa+iqlrXhgNnuhEwnlPMZnTW01tHalqbR0f0yvq8LK+q2pjYeMyhYLCtGmcaojGVVk8kUgsQJWNQNxWDAfFFSVRWzakmnJApP3XQQHBjPnd198qJAyRglxQd0z7TydYVMJDqJxZ66bSnrikHP2tBaR/3NCbyQTGZLBJKya+h8IFiPvnz1Co2DLEs4snkfL7/0Ei+9/DKvvPIKN7/5DZbLirWVIUtjCNZQ1yXeBrK7BrqITxGAEhKVpNx/9AHyJOXWdML169f77ym8jaNJq5S33vlJn8zLOH7sQa7v3ebaHYtzcVR0bct//Pu/MZvMkEXG+uo67115l2NHt/nggxv3+nLPPfcbiPsPc+X6Nd69cBGvFL/2q79C27bcvv0e20ceYDqfcejQFugWFwIH9TI+ITJjsVhw8dIl1re2uLO7Q16kiKZmKBWLpsFbQwiCt9+7xObmOsYHFnVFmqYwn0c3MUtRKIajEZ7Azd099uZz7vMeDzRlwyg4BCp6D0Jg2460SCmblq4ziJ1be0FJAE9QgrOPPsZXf/cr/PGf/gm/9PxzmC7O27KpKYphn1b7kKt9N0pi+pGgVB+7dJ5UZ9BDR+4+vl2IpfcsSzAmMu2ariVN0z7A9qHl6ekTEuFD6CM9tViE6GuI0Psegog48o4iyyLY0To8AZ3mOGOQWoMUDIdDTOuwwaGlJksVi3IZwb8+IBKFCoJ0kJIkGS4EOhl49OTDrBQ5y4MpV96/ftc1IACXvv8624+c5A8+/8u8tgNpPqLsUaKyX8VzrZhM9rh8+Qp7exOwhsViQRAKsfPB7RCkiM1KKTj9yMMAFMMBxdoagtipLhLNsixJtI4JO9Pdc/OyPO8Z2gmEgLGW4WBA8/8anwGPsx6VJkhCD1APSKkx3txjWvgeM+1cNPHrriWVik5+6IlFfyMQlKKtG9I8Xix8pOPINInMWK0xvSCXyCSGwkKEWVnvSBJ970VcZNm9Zo9xFmHv/oVDj39TAtEF0qK/YcRdonKUyg/ee5f7zhzjj774NF//1r/Gja6X0ZVKMM7ibcxaNU3cuKqmJk+jCfV/itB58K2e8ksAAAAASUVORK5CYII=\" y=\"-10.395652\"/>\n",
       "   </g>\n",
       "   <g id=\"patch_8\">\n",
       "    <path d=\"M 127.152174 75.395652 \n",
       "L 127.152174 10.7 \n",
       "\" style=\"fill:none;stroke:#000000;stroke-linecap:square;stroke-linejoin:miter;stroke-width:0.8;\"/>\n",
       "   </g>\n",
       "   <g id=\"patch_9\">\n",
       "    <path d=\"M 224.195652 75.395652 \n",
       "L 224.195652 10.7 \n",
       "\" style=\"fill:none;stroke:#000000;stroke-linecap:square;stroke-linejoin:miter;stroke-width:0.8;\"/>\n",
       "   </g>\n",
       "   <g id=\"patch_10\">\n",
       "    <path d=\"M 127.152174 75.395652 \n",
       "L 224.195652 75.395652 \n",
       "\" style=\"fill:none;stroke:#000000;stroke-linecap:square;stroke-linejoin:miter;stroke-width:0.8;\"/>\n",
       "   </g>\n",
       "   <g id=\"patch_11\">\n",
       "    <path d=\"M 127.152174 10.7 \n",
       "L 224.195652 10.7 \n",
       "\" style=\"fill:none;stroke:#000000;stroke-linecap:square;stroke-linejoin:miter;stroke-width:0.8;\"/>\n",
       "   </g>\n",
       "  </g>\n",
       "  <g id=\"axes_3\">\n",
       "   <g id=\"patch_12\">\n",
       "    <path d=\"M 243.604348 75.395652 \n",
       "L 340.647826 75.395652 \n",
       "L 340.647826 10.7 \n",
       "L 243.604348 10.7 \n",
       "z\n",
       "\" style=\"fill:#ffffff;\"/>\n",
       "   </g>\n",
       "   <g clip-path=\"url(#p7567ca7752)\">\n",
       "    <image height=\"65\" id=\"image7399e3c20f\" transform=\"scale(1 -1)translate(0 -65)\" width=\"98\" x=\"243.604348\" xlink:href=\"data:image/png;base64,\n",
       "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\" y=\"-10.395652\"/>\n",
       "   </g>\n",
       "   <g id=\"patch_13\">\n",
       "    <path d=\"M 243.604348 75.395652 \n",
       "L 243.604348 10.7 \n",
       "\" style=\"fill:none;stroke:#000000;stroke-linecap:square;stroke-linejoin:miter;stroke-width:0.8;\"/>\n",
       "   </g>\n",
       "   <g id=\"patch_14\">\n",
       "    <path d=\"M 340.647826 75.395652 \n",
       "L 340.647826 10.7 \n",
       "\" style=\"fill:none;stroke:#000000;stroke-linecap:square;stroke-linejoin:miter;stroke-width:0.8;\"/>\n",
       "   </g>\n",
       "   <g id=\"patch_15\">\n",
       "    <path d=\"M 243.604348 75.395652 \n",
       "L 340.647826 75.395652 \n",
       "\" style=\"fill:none;stroke:#000000;stroke-linecap:square;stroke-linejoin:miter;stroke-width:0.8;\"/>\n",
       "   </g>\n",
       "   <g id=\"patch_16\">\n",
       "    <path d=\"M 243.604348 10.7 \n",
       "L 340.647826 10.7 \n",
       "\" style=\"fill:none;stroke:#000000;stroke-linecap:square;stroke-linejoin:miter;stroke-width:0.8;\"/>\n",
       "   </g>\n",
       "  </g>\n",
       "  <g id=\"axes_4\">\n",
       "   <g id=\"patch_17\">\n",
       "    <path d=\"M 360.056522 75.395652 \n",
       "L 457.1 75.395652 \n",
       "L 457.1 10.7 \n",
       "L 360.056522 10.7 \n",
       "z\n",
       "\" style=\"fill:#ffffff;\"/>\n",
       "   </g>\n",
       "   <g clip-path=\"url(#pfea908ddab)\">\n",
       "    <image height=\"65\" id=\"imageeb6da4d797\" transform=\"scale(1 -1)translate(0 -65)\" width=\"98\" x=\"360.056522\" xlink:href=\"data:image/png;base64,\n",
       "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\" y=\"-10.395652\"/>\n",
       "   </g>\n",
       "   <g id=\"patch_18\">\n",
       "    <path d=\"M 360.056522 75.395652 \n",
       "L 360.056522 10.7 \n",
       "\" style=\"fill:none;stroke:#000000;stroke-linecap:square;stroke-linejoin:miter;stroke-width:0.8;\"/>\n",
       "   </g>\n",
       "   <g id=\"patch_19\">\n",
       "    <path d=\"M 457.1 75.395652 \n",
       "L 457.1 10.7 \n",
       "\" style=\"fill:none;stroke:#000000;stroke-linecap:square;stroke-linejoin:miter;stroke-width:0.8;\"/>\n",
       "   </g>\n",
       "   <g id=\"patch_20\">\n",
       "    <path d=\"M 360.056522 75.395652 \n",
       "L 457.1 75.395652 \n",
       "\" style=\"fill:none;stroke:#000000;stroke-linecap:square;stroke-linejoin:miter;stroke-width:0.8;\"/>\n",
       "   </g>\n",
       "   <g id=\"patch_21\">\n",
       "    <path d=\"M 360.056522 10.7 \n",
       "L 457.1 10.7 \n",
       "\" style=\"fill:none;stroke:#000000;stroke-linecap:square;stroke-linejoin:miter;stroke-width:0.8;\"/>\n",
       "   </g>\n",
       "  </g>\n",
       "  <g id=\"axes_5\">\n",
       "   <g id=\"patch_22\">\n",
       "    <path d=\"M 10.7 190.510946 \n",
       "L 107.743478 190.510946 \n",
       "L 107.743478 125.815294 \n",
       "L 10.7 125.815294 \n",
       "z\n",
       "\" style=\"fill:#ffffff;\"/>\n",
       "   </g>\n",
       "   <g clip-path=\"url(#peb4d34808e)\">\n",
       "    <image height=\"65\" id=\"image31748c9753\" transform=\"scale(1 -1)translate(0 -65)\" width=\"98\" x=\"10.7\" xlink:href=\"data:image/png;base64,\n",
       "iVBORw0KGgoAAAANSUhEUgAAAGIAAABBCAYAAAAqnXGWAAAABHNCSVQICAgIfAhkiAAAAWNJREFUeJzt2tFOwkAYBeHF8ODnzfVCEkEpbEt3/8HOl3ClsCdOgtpyaq19NpX7qB6gb4aAMASEISAMAWEICENAGALCEBCGgDAEhCEgDAFhCAhDQBgCAhUil8cRndqgO3Rp/T/UZ9/X+zrv7OUQ2ficLc/b+5wZG3ptDpF9d5RK9YC2MkTG7UBI4dldITJ+B0oKznwYIvN24GTyeYt/vmbiCC2EyOQRuhMiBSPU2jnFA4hScCbqEseRGeKXFJ17LjoXJ8XnHz5EqgdcHPqtKdUDrtz8Z526HdOkesCCP5c4UrNjmFQP6PRvfkekesCL7l70y/wdq6R6wACLV18zd8dDqR4wwdP7EZmzA3NuFdSNoVnnEK2+Z50dD9/ztd7dLh+nycav6cewzzVpnUNf4iAxBIQhIAwBYQgIQ0AYAsIQEIaAMASEISAMAWEICENAGALCEBCGgDAEhCEgDAFhCAhDQHwB7HgnawA6GAUAAAAASUVORK5CYII=\" y=\"-125.510946\"/>\n",
       "   </g>\n",
       "   <g id=\"patch_23\">\n",
       "    <path d=\"M 10.7 190.510946 \n",
       "L 10.7 125.815294 \n",
       "\" style=\"fill:none;stroke:#000000;stroke-linecap:square;stroke-linejoin:miter;stroke-width:0.8;\"/>\n",
       "   </g>\n",
       "   <g id=\"patch_24\">\n",
       "    <path d=\"M 107.743478 190.510946 \n",
       "L 107.743478 125.815294 \n",
       "\" style=\"fill:none;stroke:#000000;stroke-linecap:square;stroke-linejoin:miter;stroke-width:0.8;\"/>\n",
       "   </g>\n",
       "   <g id=\"patch_25\">\n",
       "    <path d=\"M 10.7 190.510946 \n",
       "L 107.743478 190.510946 \n",
       "\" style=\"fill:none;stroke:#000000;stroke-linecap:square;stroke-linejoin:miter;stroke-width:0.8;\"/>\n",
       "   </g>\n",
       "   <g id=\"patch_26\">\n",
       "    <path d=\"M 10.7 125.815294 \n",
       "L 107.743478 125.815294 \n",
       "\" style=\"fill:none;stroke:#000000;stroke-linecap:square;stroke-linejoin:miter;stroke-width:0.8;\"/>\n",
       "   </g>\n",
       "  </g>\n",
       "  <g id=\"axes_6\">\n",
       "   <g id=\"patch_27\">\n",
       "    <path d=\"M 127.152174 190.510946 \n",
       "L 224.195652 190.510946 \n",
       "L 224.195652 125.815294 \n",
       "L 127.152174 125.815294 \n",
       "z\n",
       "\" style=\"fill:#ffffff;\"/>\n",
       "   </g>\n",
       "   <g clip-path=\"url(#p7781d5f9b8)\">\n",
       "    <image height=\"65\" id=\"imageba44a43947\" transform=\"scale(1 -1)translate(0 -65)\" width=\"98\" x=\"127.152174\" xlink:href=\"data:image/png;base64,\n",
       "iVBORw0KGgoAAAANSUhEUgAAAGIAAABBCAYAAAAqnXGWAAAABHNCSVQICAgIfAhkiAAAAeBJREFUeJztnFtuhDAQBIcoB+NoczRulnwkjojXgFm/unGXtD8gDJ5ixpatZTGzLxPD+Rj9AOIHiQBBIkD4PDvpW14jvpY/yOwsthuscwN/hcTcZ/Gt7axJUvI4LU01iLNsJjGh7zl9bp4RVzxFTOl4OlxEgEVIrXE0pnlpymXfQRQprYKeAkbEnp5Segb7DEgRe2oN9igBPwJeRMyVGPSAH0EnIoY18DFaawJBIkCQCBAkAgSJAEEiQJAIECQCBIkAgV6ErzirtSXQiogFsMugWmu6CravvGtPNBmR+8azZgaFiLvBZZQBL+LtjaA3rxsFvIhZkAgQJAIEiQDh0SKYBuxHi2ACWgTTG10KtIhSmJY7YEXMlA1moCJmk2AGKKKWBKayZAYmYsZMCECJqAVbNphF/yo1G9uJmhnBJuMlI0aWB7bg1SRZmp6yIc/ES2lK0ftNnXHmlDVY98oQ3/z31/5eaGRlREyLQPnmiYOJY7faLLq8K2+JCFT7dkcDCf/br9ZUM4pEBEo72qfstb9HCVVEMIEqZDoRZjgy9pVgShGBUUJSpXhqEX+4m6/e/jbr8TmJCESztJpisr7XZBJxzI1MKZ35SQQIj9yPYEQiQJAIECQCBIkAQSJAkAgQvgEliHBxbGREGwAAAABJRU5ErkJggg==\" y=\"-125.510946\"/>\n",
       "   </g>\n",
       "   <g id=\"patch_28\">\n",
       "    <path d=\"M 127.152174 190.510946 \n",
       "L 127.152174 125.815294 \n",
       "\" style=\"fill:none;stroke:#000000;stroke-linecap:square;stroke-linejoin:miter;stroke-width:0.8;\"/>\n",
       "   </g>\n",
       "   <g id=\"patch_29\">\n",
       "    <path d=\"M 224.195652 190.510946 \n",
       "L 224.195652 125.815294 \n",
       "\" style=\"fill:none;stroke:#000000;stroke-linecap:square;stroke-linejoin:miter;stroke-width:0.8;\"/>\n",
       "   </g>\n",
       "   <g id=\"patch_30\">\n",
       "    <path d=\"M 127.152174 190.510946 \n",
       "L 224.195652 190.510946 \n",
       "\" style=\"fill:none;stroke:#000000;stroke-linecap:square;stroke-linejoin:miter;stroke-width:0.8;\"/>\n",
       "   </g>\n",
       "   <g id=\"patch_31\">\n",
       "    <path d=\"M 127.152174 125.815294 \n",
       "L 224.195652 125.815294 \n",
       "\" style=\"fill:none;stroke:#000000;stroke-linecap:square;stroke-linejoin:miter;stroke-width:0.8;\"/>\n",
       "   </g>\n",
       "  </g>\n",
       "  <g id=\"axes_7\">\n",
       "   <g id=\"patch_32\">\n",
       "    <path d=\"M 243.604348 190.510946 \n",
       "L 340.647826 190.510946 \n",
       "L 340.647826 125.815294 \n",
       "L 243.604348 125.815294 \n",
       "z\n",
       "\" style=\"fill:#ffffff;\"/>\n",
       "   </g>\n",
       "   <g clip-path=\"url(#pa60828bb5d)\">\n",
       "    <image height=\"65\" id=\"imagea44b7f01a8\" transform=\"scale(1 -1)translate(0 -65)\" width=\"98\" x=\"243.604348\" xlink:href=\"data:image/png;base64,\n",
       "iVBORw0KGgoAAAANSUhEUgAAAGIAAABBCAYAAAAqnXGWAAAABHNCSVQICAgIfAhkiAAAAQpJREFUeJzt17EKwkAQBuGN+OD75rGw0SKF53k7680HgTQXfhhCyBERZ6jcrXqAngwBYQgIQ0AYAsIQEPfqAX3kxf0cR2z9H5GYZzUNkdUDLuTwySYhsnrAB3LolB/rqXL4ZIMQWT1gCXiIrB6wDDzEPsAhsnrAUoaYJr86DQ4R0S/GuCb/ERHcKDnlKY1CvMrqAfGLDed+VwI2vF9N34j/A/9Y78MQEIaAMASEISAMAWEICENAGALCEBCGgDAEhCEgDAFhCAhDQBgCwhAQhoAwBIQhIAwBYQgIQ0AYAsIQEIaAMASEISAMAWEICENAGALCEBCGgDAEhCEgDAFhCAhDQBgCwhAQhoB4AM/RcxN+kN0QAAAAAElFTkSuQmCC\" y=\"-125.510946\"/>\n",
       "   </g>\n",
       "   <g id=\"patch_33\">\n",
       "    <path d=\"M 243.604348 190.510946 \n",
       "L 243.604348 125.815294 \n",
       "\" style=\"fill:none;stroke:#000000;stroke-linecap:square;stroke-linejoin:miter;stroke-width:0.8;\"/>\n",
       "   </g>\n",
       "   <g id=\"patch_34\">\n",
       "    <path d=\"M 340.647826 190.510946 \n",
       "L 340.647826 125.815294 \n",
       "\" style=\"fill:none;stroke:#000000;stroke-linecap:square;stroke-linejoin:miter;stroke-width:0.8;\"/>\n",
       "   </g>\n",
       "   <g id=\"patch_35\">\n",
       "    <path d=\"M 243.604348 190.510946 \n",
       "L 340.647826 190.510946 \n",
       "\" style=\"fill:none;stroke:#000000;stroke-linecap:square;stroke-linejoin:miter;stroke-width:0.8;\"/>\n",
       "   </g>\n",
       "   <g id=\"patch_36\">\n",
       "    <path d=\"M 243.604348 125.815294 \n",
       "L 340.647826 125.815294 \n",
       "\" style=\"fill:none;stroke:#000000;stroke-linecap:square;stroke-linejoin:miter;stroke-width:0.8;\"/>\n",
       "   </g>\n",
       "  </g>\n",
       "  <g id=\"axes_8\">\n",
       "   <g id=\"patch_37\">\n",
       "    <path d=\"M 360.056522 190.510946 \n",
       "L 457.1 190.510946 \n",
       "L 457.1 125.815294 \n",
       "L 360.056522 125.815294 \n",
       "z\n",
       "\" style=\"fill:#ffffff;\"/>\n",
       "   </g>\n",
       "   <g clip-path=\"url(#p198cb8005a)\">\n",
       "    <image height=\"65\" id=\"image164b859999\" transform=\"scale(1 -1)translate(0 -65)\" width=\"98\" x=\"360.056522\" xlink:href=\"data:image/png;base64,\n",
       "iVBORw0KGgoAAAANSUhEUgAAAGIAAABBCAYAAAAqnXGWAAAABHNCSVQICAgIfAhkiAAAAdZJREFUeJztnEGOwyAMRd3RHIyj+WjcbGYRRUKdSULAxj/1f1LURdrU8GKjAO1LRH6EhPMVHQDZoAgQKAIEigCBIkCgCBAoAoTvFV+i9eRcWREBPi9xeqA76/zDzxTrKJ6DS2kakZAdcxGUMEa6wVor5s1iOlgjNlDk/7i0Yo1JZhnxJAntOZS4TUSgNOad3rgQhEyVpujgrdnbE1GyhkQ8RcB7hyLHffuBzrsxUQNo2y7ojEC+myzYOz+qnV2D9adLaInKyEsRqyVkkt5yWJqydkgU6aY4UKEIECgCBIoAgSJAoAgQ4EQgrRGsBE5EVg5FRNyZWbNBhBkBw6mIlXdo5mwQYUbAcD37WvyDyJ4NIr3rEcU5CtJfmrxkaFURVZ+LP4hbY4S1DK1qe8EHM7Qb/GrRaLiDE2fG2HaacrSNUaeCyczwBrNWBgXMM7fTr0jqcmKJ3S+GrIQkFWv3ZJ20A62wneKgjGHs55pmZSSV6TPpl7QzZ/CbfaWMW/hOg6tSSCdr1iMo5BK3fx44pUdKMnExK3TJOrmHmIx4pxVT91f9+74PBmPNWnUTUGPDiARDBBGRrTThHEXjYwg4MMYIwtKEAkWAQBEgUAQIFAECRYBAESD8ApT2w6GFA3PuAAAAAElFTkSuQmCC\" y=\"-125.510946\"/>\n",
       "   </g>\n",
       "   <g id=\"patch_38\">\n",
       "    <path d=\"M 360.056522 190.510946 \n",
       "L 360.056522 125.815294 \n",
       "\" style=\"fill:none;stroke:#000000;stroke-linecap:square;stroke-linejoin:miter;stroke-width:0.8;\"/>\n",
       "   </g>\n",
       "   <g id=\"patch_39\">\n",
       "    <path d=\"M 457.1 190.510946 \n",
       "L 457.1 125.815294 \n",
       "\" style=\"fill:none;stroke:#000000;stroke-linecap:square;stroke-linejoin:miter;stroke-width:0.8;\"/>\n",
       "   </g>\n",
       "   <g id=\"patch_40\">\n",
       "    <path d=\"M 360.056522 190.510946 \n",
       "L 457.1 190.510946 \n",
       "\" style=\"fill:none;stroke:#000000;stroke-linecap:square;stroke-linejoin:miter;stroke-width:0.8;\"/>\n",
       "   </g>\n",
       "   <g id=\"patch_41\">\n",
       "    <path d=\"M 360.056522 125.815294 \n",
       "L 457.1 125.815294 \n",
       "\" style=\"fill:none;stroke:#000000;stroke-linecap:square;stroke-linejoin:miter;stroke-width:0.8;\"/>\n",
       "   </g>\n",
       "  </g>\n",
       "  <g id=\"axes_9\">\n",
       "   <g id=\"patch_42\">\n",
       "    <path d=\"M 10.7 305.62624 \n",
       "L 107.743478 305.62624 \n",
       "L 107.743478 240.930588 \n",
       "L 10.7 240.930588 \n",
       "z\n",
       "\" style=\"fill:#ffffff;\"/>\n",
       "   </g>\n",
       "   <g clip-path=\"url(#pe18bc165f9)\">\n",
       "    <image height=\"65\" id=\"image99571e2689\" transform=\"scale(1 -1)translate(0 -65)\" width=\"98\" x=\"10.7\" xlink:href=\"data:image/png;base64,\n",
       "iVBORw0KGgoAAAANSUhEUgAAAGIAAABBCAYAAAAqnXGWAAAABHNCSVQICAgIfAhkiAAAAk1JREFUeJztmtuRgzAMRZWdFOJSKIVSUkpKoRR3wn7smnEUv2BEfIPvmeEHGMfoYFnYuYnIKqQ7P707QP6gCBAoAgSKAIEiQKAIECgCBIoAgSJAoAgQ7lYNeb+8nXNusmr+8piJEBF5qsB7v1BGI0xNIJiOiCOkUpqIXVrT7aOOUDMRzk3i/bKlpzkT4BQ6pVkR9yc+F0CScuqI6P2gKcHxOSQph0To4R4ezurNnv0iD4O2wqjM9evI6D2Lw5P1003bkbuey/8xzk0vgbAMSutb3trXM9k9IlJ5t3Z/K7EEi9L3rL629GvPczs3yU127lnvfbgzqY2es/qZ+90gyFdSYqq9m/fLGjdS49F01xikhOjqsZVNhG5Ms9fyKJRk1IiLheQckWrk6gKsv3tqGUbHuDpZX11AIH7O+b9QyH1n6NRzpKjQ7RdFjCKhxFOV1zVCcFvkxPe8VU1IVVFP5oblmtT1IE6LCHFNXRNRIijBFi2wNLo2EZTQl7vIeBJac/4n16K670d8mlyOLmGxAFljuB263svdOS45IlKTZAB1H/0yIubCx9c3cBc5vlDVm1zwv5Gv+o44Gni9l44o7SU1IY6MK731Jd7mCAQZowQ/JjlZ95AxYvBjilulZ8r4dOBri269KZav8Zq5hZDR3/oS1e8Iy5ocIfhIhYhmHeV4iKz/e/SIR/cOfOwAlrDu/l8TOYfhVl9RoQgQKAIEigCBIkCgCBAoAgSKAIEiQKAIECgCBIoAgSJAoAgQKAIEigCBIkCgCBAoAgSKAOEXbsvfnmoZu3sAAAAASUVORK5CYII=\" y=\"-240.62624\"/>\n",
       "   </g>\n",
       "   <g id=\"patch_43\">\n",
       "    <path d=\"M 10.7 305.62624 \n",
       "L 10.7 240.930588 \n",
       "\" style=\"fill:none;stroke:#000000;stroke-linecap:square;stroke-linejoin:miter;stroke-width:0.8;\"/>\n",
       "   </g>\n",
       "   <g id=\"patch_44\">\n",
       "    <path d=\"M 107.743478 305.62624 \n",
       "L 107.743478 240.930588 \n",
       "\" style=\"fill:none;stroke:#000000;stroke-linecap:square;stroke-linejoin:miter;stroke-width:0.8;\"/>\n",
       "   </g>\n",
       "   <g id=\"patch_45\">\n",
       "    <path d=\"M 10.7 305.62624 \n",
       "L 107.743478 305.62624 \n",
       "\" style=\"fill:none;stroke:#000000;stroke-linecap:square;stroke-linejoin:miter;stroke-width:0.8;\"/>\n",
       "   </g>\n",
       "   <g id=\"patch_46\">\n",
       "    <path d=\"M 10.7 240.930588 \n",
       "L 107.743478 240.930588 \n",
       "\" style=\"fill:none;stroke:#000000;stroke-linecap:square;stroke-linejoin:miter;stroke-width:0.8;\"/>\n",
       "   </g>\n",
       "  </g>\n",
       "  <g id=\"axes_10\">\n",
       "   <g id=\"patch_47\">\n",
       "    <path d=\"M 127.152174 305.62624 \n",
       "L 224.195652 305.62624 \n",
       "L 224.195652 240.930588 \n",
       "L 127.152174 240.930588 \n",
       "z\n",
       "\" style=\"fill:#ffffff;\"/>\n",
       "   </g>\n",
       "   <g clip-path=\"url(#p6254b2fa3a)\">\n",
       "    <image height=\"65\" id=\"imagef37cfa4dd4\" transform=\"scale(1 -1)translate(0 -65)\" width=\"98\" x=\"127.152174\" xlink:href=\"data:image/png;base64,\n",
       "iVBORw0KGgoAAAANSUhEUgAAAGIAAABBCAYAAAAqnXGWAAAABHNCSVQICAgIfAhkiAAAAuVJREFUeJztnO2NwyAMht1TB2GUjNJRMkpGYRQ26f2o3PMRvj+CHXik6k5tIIYXG5MIHgDwhsVwfkYbsPiwhGDCEoIJT2P06UultssNmZ3HruOT9UvposqpoMboKQWmAz3U/mdKZYfxVxAzQqkNjNHfOtAwCaJQW2Md6oosiN12F0lClIBe5Lp5qbBXY9t5mO1fdKBtS2lT6JpuQtg3fSkNO/x9d5dQ1WpQdRPCBQ1ROWVcjBQRbWrp2ZcJQY2OTf6uuSW1bA9yQ1AJQ9YRvsYYo7+N3vU5Jo/iMFv3ea2LR9DOsxuwb+HsAeCcpWB9tENS55iaLI3etzdJ64gaXio8L/hGPJaxf7e9JNbBGN589/GlovYayLarNVGPcI1u2rmxjo4RK0s7Ea+NlYl5nE9kLHuYzVtHbOCUEhQCb4qhwhYghRYjKFSHL0SVZGc09MW8mPYDDaWl7U2aI+zsBUcpl8k0BVcHHWaDXft/T4VmeTF882dQiJBxqWGiJS7RQ3NEbdj04Vpx2yLYtqKd9qIWuXRBVwOGgJzr6d8rBowraiCxZ1Hds6ZW7Ftd+ZJV/ZVM82KI+3OtaYTgjgghpGRmNYgQIrTAyoGzoGKyphpaiNgbER7RAs4ZE4AgIXo/KhmNGCHujighJMT6UkQJcWeWEEwQIcRL6eo1AOc1BIAQIZDS50XcnzMBCBJCQmfWIEaIuzONENw9ahohuDOVEJwzp6mE4MwSggnrfQQTpvAIzo+/kSmEkMAUQnDOlpAphJDAEoIJ0wnBNUxNkb76dv9wYjqP4IoYIVqMZKyDY3gSEZpyd5Km1MUNMR5xd6YSgvPLITFC5G7dCtXDkaTtvaOwt9C2wHfGx2iqJuseHeWC7sRsAdqak4mxPotjtMfUknJ8BOJqa0ycnFMKvrtK7W2wOZ3MeRLkhu+EgifA+agH/H/RHm9YNEa/4XMs9foM/DxgnQ3OAjHriLuzhGDCEoIJSwgm/AIoUukKWxyo4QAAAABJRU5ErkJggg==\" y=\"-240.62624\"/>\n",
       "   </g>\n",
       "   <g id=\"patch_48\">\n",
       "    <path d=\"M 127.152174 305.62624 \n",
       "L 127.152174 240.930588 \n",
       "\" style=\"fill:none;stroke:#000000;stroke-linecap:square;stroke-linejoin:miter;stroke-width:0.8;\"/>\n",
       "   </g>\n",
       "   <g id=\"patch_49\">\n",
       "    <path d=\"M 224.195652 305.62624 \n",
       "L 224.195652 240.930588 \n",
       "\" style=\"fill:none;stroke:#000000;stroke-linecap:square;stroke-linejoin:miter;stroke-width:0.8;\"/>\n",
       "   </g>\n",
       "   <g id=\"patch_50\">\n",
       "    <path d=\"M 127.152174 305.62624 \n",
       "L 224.195652 305.62624 \n",
       "\" style=\"fill:none;stroke:#000000;stroke-linecap:square;stroke-linejoin:miter;stroke-width:0.8;\"/>\n",
       "   </g>\n",
       "   <g id=\"patch_51\">\n",
       "    <path d=\"M 127.152174 240.930588 \n",
       "L 224.195652 240.930588 \n",
       "\" style=\"fill:none;stroke:#000000;stroke-linecap:square;stroke-linejoin:miter;stroke-width:0.8;\"/>\n",
       "   </g>\n",
       "  </g>\n",
       "  <g id=\"axes_11\">\n",
       "   <g id=\"patch_52\">\n",
       "    <path d=\"M 243.604348 305.62624 \n",
       "L 340.647826 305.62624 \n",
       "L 340.647826 240.930588 \n",
       "L 243.604348 240.930588 \n",
       "z\n",
       "\" style=\"fill:#ffffff;\"/>\n",
       "   </g>\n",
       "   <g clip-path=\"url(#p298a550576)\">\n",
       "    <image height=\"65\" id=\"image6ed84fb603\" transform=\"scale(1 -1)translate(0 -65)\" width=\"98\" x=\"243.604348\" xlink:href=\"data:image/png;base64,\n",
       "iVBORw0KGgoAAAANSUhEUgAAAGIAAABBCAYAAAAqnXGWAAAABHNCSVQICAgIfAhkiAAAAbpJREFUeJztnX2OgyAQR+mmB+EoHG2P5lG4ifuHa8tu/ZhBCT/je4lpYijaeTAjhqSPEMIYoDtfvW8AJhAhAiJEQIQIiBABESIgQgREiPDsfQNq5Dyc2l+MydTu1iKWgh7j57n6/pO57W1E/A96jMOpQT/KLUTk3CfonmteUoQ3j/cc+dMgSLvtZEWsBdubUjx5+mxyTtct1qUApRzeGtYRjfDMhhDERfRMK0eouW9pEVfGMxtCEKwR5Q+wPB1tjb65xkxpYr8vK0vXPNq/nIhalkbgGa8ryqDHOKzm/qPXkhdhGfFraWA+7w3S3+Db+ogxvRaONTVCWsRenvUE2BMcb34vv/eWYVvIlYwc+0fOwxjC9+/neW3ng6emBkwzI71mhgVENMIrAxGNsdYmRDRkLtaWoo2IxlifnBAhAiJEQIQIiBABESIgQgREiIAIERAhAiJEQIQIiBABESIgQgREiIAIERBhpHaLjRVEiIAIERAhAiJEQMQGOdt36h0FERvU7iavQXo3uAqePay1MCN2KPewtgQRBmYZLUGEEVbWNwERIiBCBESIgAgRECECIkR4BP62QAJmhAg/POTxs/OBP8cAAAAASUVORK5CYII=\" y=\"-240.62624\"/>\n",
       "   </g>\n",
       "   <g id=\"patch_53\">\n",
       "    <path d=\"M 243.604348 305.62624 \n",
       "L 243.604348 240.930588 \n",
       "\" style=\"fill:none;stroke:#000000;stroke-linecap:square;stroke-linejoin:miter;stroke-width:0.8;\"/>\n",
       "   </g>\n",
       "   <g id=\"patch_54\">\n",
       "    <path d=\"M 340.647826 305.62624 \n",
       "L 340.647826 240.930588 \n",
       "\" style=\"fill:none;stroke:#000000;stroke-linecap:square;stroke-linejoin:miter;stroke-width:0.8;\"/>\n",
       "   </g>\n",
       "   <g id=\"patch_55\">\n",
       "    <path d=\"M 243.604348 305.62624 \n",
       "L 340.647826 305.62624 \n",
       "\" style=\"fill:none;stroke:#000000;stroke-linecap:square;stroke-linejoin:miter;stroke-width:0.8;\"/>\n",
       "   </g>\n",
       "   <g id=\"patch_56\">\n",
       "    <path d=\"M 243.604348 240.930588 \n",
       "L 340.647826 240.930588 \n",
       "\" style=\"fill:none;stroke:#000000;stroke-linecap:square;stroke-linejoin:miter;stroke-width:0.8;\"/>\n",
       "   </g>\n",
       "  </g>\n",
       "  <g id=\"axes_12\">\n",
       "   <g id=\"patch_57\">\n",
       "    <path d=\"M 360.056522 305.62624 \n",
       "L 457.1 305.62624 \n",
       "L 457.1 240.930588 \n",
       "L 360.056522 240.930588 \n",
       "z\n",
       "\" style=\"fill:#ffffff;\"/>\n",
       "   </g>\n",
       "   <g clip-path=\"url(#p7336c61626)\">\n",
       "    <image height=\"65\" id=\"image325834382b\" transform=\"scale(1 -1)translate(0 -65)\" width=\"98\" x=\"360.056522\" xlink:href=\"data:image/png;base64,\n",
       "iVBORw0KGgoAAAANSUhEUgAAAGIAAABBCAYAAAAqnXGWAAAABHNCSVQICAgIfAhkiAAAAg5JREFUeJztnO11gzAMRV84HcSjMEpGyyiMwibtjxYohzgEYknP5t0FDL5I/pK5AfhGEOM4AAAeYx/1CBvuaUBKvXu7X+4t/jGOA5WAaLqIRpklPMZ+jlRP3EUwS5iIkGGamp69DLuEKG4wGqxr+PL38By4TVJTCxK8KZqaGKejtVAsIlqU4LmeKDJGtJiKvBd2H0dEixIiOD1GtJiKIjklQlFQnsOpSRJsOCRCEux4KzVpPLBnNyIkwYeXEaFU5Ec2IiTBl83KWqlo4Z4GAD5bHauIkIQ1nv0wjxFKRbF0gCQw0EkCByFVHDVR9VFpK0yzJg+6lHrXBsVzOuA3/CQjllVqkow4ZhERhbdiYRURSlFxbGZNkrEQXsUhGf5k1xFXl+H97rsLuivL8OSliCvPpLzvSOwWD6TU65zCgbf2mlLqLz9mWHNo008y7DhVDd76GUbEFd9T2+CKjPKcPo+QjLJ8dHVrmlG1kqYiPyzdGMJaQNTaqdj13tpkMHT+f8L+xcEAg4CJYsUDtQ3eTBKAwlUctchgfMbi5TS1yGDDpK5JMo5jVmAmGccwrfRjlBH1q7g9zEsumWSwSgCcal+ZZLDiVoQcLYM5GgDDP5jlsN4KyclmlgAEiADK3NWrtcNzhIiYeCc6WuvwHKEigLWMq3T6M8JFAEuqukKH56AQIXSHjgaJIEEiSJAIEn4AI4Hxf7Eg5MgAAAAASUVORK5CYII=\" y=\"-240.62624\"/>\n",
       "   </g>\n",
       "   <g id=\"patch_58\">\n",
       "    <path d=\"M 360.056522 305.62624 \n",
       "L 360.056522 240.930588 \n",
       "\" style=\"fill:none;stroke:#000000;stroke-linecap:square;stroke-linejoin:miter;stroke-width:0.8;\"/>\n",
       "   </g>\n",
       "   <g id=\"patch_59\">\n",
       "    <path d=\"M 457.1 305.62624 \n",
       "L 457.1 240.930588 \n",
       "\" style=\"fill:none;stroke:#000000;stroke-linecap:square;stroke-linejoin:miter;stroke-width:0.8;\"/>\n",
       "   </g>\n",
       "   <g id=\"patch_60\">\n",
       "    <path d=\"M 360.056522 305.62624 \n",
       "L 457.1 305.62624 \n",
       "\" style=\"fill:none;stroke:#000000;stroke-linecap:square;stroke-linejoin:miter;stroke-width:0.8;\"/>\n",
       "   </g>\n",
       "   <g id=\"patch_61\">\n",
       "    <path d=\"M 360.056522 240.930588 \n",
       "L 457.1 240.930588 \n",
       "\" style=\"fill:none;stroke:#000000;stroke-linecap:square;stroke-linejoin:miter;stroke-width:0.8;\"/>\n",
       "   </g>\n",
       "  </g>\n",
       " </g>\n",
       " <defs>\n",
       "  <clipPath id=\"p6ea557b8a5\">\n",
       "   <rect height=\"64.695652\" width=\"97.043478\" x=\"10.7\" y=\"10.7\"/>\n",
       "  </clipPath>\n",
       "  <clipPath id=\"pf51916293f\">\n",
       "   <rect height=\"64.695652\" width=\"97.043478\" x=\"127.152174\" y=\"10.7\"/>\n",
       "  </clipPath>\n",
       "  <clipPath id=\"p7567ca7752\">\n",
       "   <rect height=\"64.695652\" width=\"97.043478\" x=\"243.604348\" y=\"10.7\"/>\n",
       "  </clipPath>\n",
       "  <clipPath id=\"pfea908ddab\">\n",
       "   <rect height=\"64.695652\" width=\"97.043478\" x=\"360.056522\" y=\"10.7\"/>\n",
       "  </clipPath>\n",
       "  <clipPath id=\"peb4d34808e\">\n",
       "   <rect height=\"64.695652\" width=\"97.043478\" x=\"10.7\" y=\"125.815294\"/>\n",
       "  </clipPath>\n",
       "  <clipPath id=\"p7781d5f9b8\">\n",
       "   <rect height=\"64.695652\" width=\"97.043478\" x=\"127.152174\" y=\"125.815294\"/>\n",
       "  </clipPath>\n",
       "  <clipPath id=\"pa60828bb5d\">\n",
       "   <rect height=\"64.695652\" width=\"97.043478\" x=\"243.604348\" y=\"125.815294\"/>\n",
       "  </clipPath>\n",
       "  <clipPath id=\"p198cb8005a\">\n",
       "   <rect height=\"64.695652\" width=\"97.043478\" x=\"360.056522\" y=\"125.815294\"/>\n",
       "  </clipPath>\n",
       "  <clipPath id=\"pe18bc165f9\">\n",
       "   <rect height=\"64.695652\" width=\"97.043478\" x=\"10.7\" y=\"240.930588\"/>\n",
       "  </clipPath>\n",
       "  <clipPath id=\"p6254b2fa3a\">\n",
       "   <rect height=\"64.695652\" width=\"97.043478\" x=\"127.152174\" y=\"240.930588\"/>\n",
       "  </clipPath>\n",
       "  <clipPath id=\"p298a550576\">\n",
       "   <rect height=\"64.695652\" width=\"97.043478\" x=\"243.604348\" y=\"240.930588\"/>\n",
       "  </clipPath>\n",
       "  <clipPath id=\"p7336c61626\">\n",
       "   <rect height=\"64.695652\" width=\"97.043478\" x=\"360.056522\" y=\"240.930588\"/>\n",
       "  </clipPath>\n",
       " </defs>\n",
       "</svg>\n"
      ],
      "text/plain": [
       "<Figure size 576x432 with 12 Axes>"
      ]
     },
     "metadata": {
      "needs_background": "light"
     },
     "output_type": "display_data"
    }
   ],
   "source": [
    "test_images, test_labels = d2l.read_voc_images(is_train=False)\n",
    "n, imgs = 4, []\n",
    "for i in range(n):\n",
    "    crop_rect = (0, 0, 480, 320)\n",
    "    X = image.fixed_crop(test_images[i], *crop_rect)\n",
    "    pred = label2image(predict(X))\n",
    "    imgs += [X, pred, image.fixed_crop(test_labels[i], *crop_rect)]\n",
    "d2l.show_images(imgs[::3] + imgs[1::3] + imgs[2::3], 3, n);"
   ]
  },
  {
   "cell_type": "markdown",
   "metadata": {},
   "source": [
    "## 小结\n",
    "\n",
    "* 可以通过矩阵乘法来实现卷积运算。\n",
    "* 全卷积网络先使用卷积神经网络抽取图像特征，然后通过$1\\times 1$卷积层将通道数变换为类别个数，最后通过转置卷积层将特征图的高和宽变换为输入图像的尺寸，从而输出每个像素的类别。\n",
    "* 在全卷积网络中，可以将转置卷积层初始化为双线性插值的上采样。\n",
    "\n",
    "\n",
    "## 练习\n",
    "\n",
    "* 用矩阵乘法来实现卷积运算是否高效？为什么？\n",
    "* 如果将转置卷积层改用Xavier随机初始化，结果有什么变化？\n",
    "* 调节超参数，能进一步提升模型的精度吗？\n",
    "* 预测测试图像中所有像素的类别。\n",
    "* 全卷积网络的论文中还使用了卷积神经网络的某些中间层的输出 [1]。试着实现这个想法。\n",
    "\n",
    "\n",
    "\n",
    "\n",
    "## 参考文献\n",
    "\n",
    "[1] Long, J., Shelhamer, E., & Darrell, T. (2015). Fully convolutional networks for semantic segmentation. In Proceedings of the IEEE conference on computer vision and pattern recognition (pp. 3431-3440).\n",
    "\n",
    "[2] Dumoulin, V., & Visin, F. (2016). A guide to convolution arithmetic for deep learning. arXiv preprint arXiv:1603.07285.\n",
    "\n",
    "## 扫码直达[讨论区](https://discuss.gluon.ai/t/topic/3041)\n",
    "\n",
    "![](../img/qr_fcn.svg)"
   ]
  }
 ],
 "metadata": {
  "language_info": {
   "name": "python"
  }
 },
 "nbformat": 4,
 "nbformat_minor": 2
}