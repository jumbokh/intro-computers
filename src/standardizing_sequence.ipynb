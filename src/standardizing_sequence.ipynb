{
  "nbformat": 4,
  "nbformat_minor": 0,
  "metadata": {
    "colab": {
      "name": "standardizing_sequence.ipynb",
      "provenance": [],
      "collapsed_sections": []
    },
    "kernelspec": {
      "name": "python3",
      "display_name": "Python 3"
    }
  },
  "cells": [
    {
      "cell_type": "code",
      "metadata": {
        "id": "EKN-xBymwegU",
        "colab_type": "code",
        "colab": {}
      },
      "source": [
        "from pandas import Series\n",
        "from sklearn.preprocessing import StandardScaler\n",
        "from math import sqrt"
      ],
      "execution_count": 0,
      "outputs": []
    },
    {
      "cell_type": "code",
      "metadata": {
        "id": "ve8TJrt7wtVl",
        "colab_type": "code",
        "colab": {}
      },
      "source": [
        "# define contrived series\n",
        "data = [1.0, 5.5, 9.0, 2.6, 8.8, 3.0, 4.1, 7.9, 6.3]\n",
        "series = Series(data)"
      ],
      "execution_count": 0,
      "outputs": []
    },
    {
      "cell_type": "code",
      "metadata": {
        "id": "yTsp06HsxFeB",
        "colab_type": "code",
        "outputId": "97f82192-79c1-4ca8-a6f4-62ec04b8bf24",
        "colab": {
          "base_uri": "https://localhost:8080/",
          "height": 191
        }
      },
      "source": [
        "print(series)"
      ],
      "execution_count": 0,
      "outputs": [
        {
          "output_type": "stream",
          "text": [
            "0    1.0\n",
            "1    5.5\n",
            "2    9.0\n",
            "3    2.6\n",
            "4    8.8\n",
            "5    3.0\n",
            "6    4.1\n",
            "7    7.9\n",
            "8    6.3\n",
            "dtype: float64\n"
          ],
          "name": "stdout"
        }
      ]
    },
    {
      "cell_type": "code",
      "metadata": {
        "id": "cKNnwbQ7xII_",
        "colab_type": "code",
        "colab": {}
      },
      "source": [
        "# prepare data for normalization\n",
        "values = series.values\n",
        "values = values.reshape((len(values), 1))"
      ],
      "execution_count": 0,
      "outputs": []
    },
    {
      "cell_type": "code",
      "metadata": {
        "id": "kU0b1rAaxYMG",
        "colab_type": "code",
        "outputId": "721f4b6b-52c8-4502-beec-83b467e2779a",
        "colab": {
          "base_uri": "https://localhost:8080/",
          "height": 35
        }
      },
      "source": [
        "# train the normalization\n",
        "scaler = StandardScaler()\n",
        "scaler = scaler.fit(values)\n",
        "print('Mean: %f, StandardDeviation: %f' % (scaler.mean_, sqrt(scaler.var_)))"
      ],
      "execution_count": 0,
      "outputs": [
        {
          "output_type": "stream",
          "text": [
            "Mean: 5.355556, StandardDeviation: 2.712568\n"
          ],
          "name": "stdout"
        }
      ]
    },
    {
      "cell_type": "code",
      "metadata": {
        "id": "q0Olpayexz15",
        "colab_type": "code",
        "outputId": "46a58487-8a46-4242-94bf-f08836126b5a",
        "colab": {
          "base_uri": "https://localhost:8080/",
          "height": 173
        }
      },
      "source": [
        "# normalize the dataset and print\n",
        "standardized = scaler.transform(values)\n",
        "print(standardized)"
      ],
      "execution_count": 0,
      "outputs": [
        {
          "output_type": "stream",
          "text": [
            "[[-1.60569456]\n",
            " [ 0.05325007]\n",
            " [ 1.34354035]\n",
            " [-1.01584758]\n",
            " [ 1.26980948]\n",
            " [-0.86838584]\n",
            " [-0.46286604]\n",
            " [ 0.93802055]\n",
            " [ 0.34817357]]\n"
          ],
          "name": "stdout"
        }
      ]
    },
    {
      "cell_type": "code",
      "metadata": {
        "id": "BrvmeOhhyBAO",
        "colab_type": "code",
        "outputId": "2533f0f2-c95c-4abc-97e9-94beb2c416fd",
        "colab": {
          "base_uri": "https://localhost:8080/",
          "height": 173
        }
      },
      "source": [
        "# inverse transform and print\n",
        "inversed = scaler.inverse_transform(standardized)\n",
        "print(inversed)"
      ],
      "execution_count": 0,
      "outputs": [
        {
          "output_type": "stream",
          "text": [
            "[[1. ]\n",
            " [5.5]\n",
            " [9. ]\n",
            " [2.6]\n",
            " [8.8]\n",
            " [3. ]\n",
            " [4.1]\n",
            " [7.9]\n",
            " [6.3]]\n"
          ],
          "name": "stdout"
        }
      ]
    },
    {
      "cell_type": "code",
      "metadata": {
        "id": "4VQVNQvlyLZh",
        "colab_type": "code",
        "colab": {}
      },
      "source": [
        ""
      ],
      "execution_count": 0,
      "outputs": []
    }
  ]
}