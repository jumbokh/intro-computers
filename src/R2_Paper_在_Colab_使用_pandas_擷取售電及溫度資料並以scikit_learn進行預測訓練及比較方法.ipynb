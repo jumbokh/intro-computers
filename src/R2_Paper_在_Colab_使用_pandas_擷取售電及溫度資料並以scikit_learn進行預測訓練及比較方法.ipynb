{
  "nbformat": 4,
  "nbformat_minor": 0,
  "metadata": {
    "colab": {
      "name": "R2_Paper_在 Colab 使用 pandas 擷取售電及溫度資料並以scikit-learn進行預測訓練及比較方法.ipynb",
      "provenance": [],
      "collapsed_sections": []
    },
    "kernelspec": {
      "name": "python3",
      "display_name": "Python 3"
    },
    "accelerator": "GPU"
  },
  "cells": [
    {
      "cell_type": "markdown",
      "metadata": {
        "id": "n9wqcnEnfeRV",
        "colab_type": "text"
      },
      "source": [
        "### 售電資料取自台電106年,107年統計年報\n",
        "### 歷史溫度資料取自行政院環保署歷史測站資料, 將每月資料以全部測站資料平均\n",
        "##  -----------------------------------------------------------\n",
        "## Step 1. 設定 Google Drive 連接 "
      ]
    },
    {
      "cell_type": "code",
      "metadata": {
        "id": "oOpFjL6ygOud",
        "colab_type": "code",
        "outputId": "a02fec0d-7439-4167-dfbe-fa1e8fc9cb19",
        "colab": {
          "base_uri": "https://localhost:8080/",
          "height": 124
        }
      },
      "source": [
        "from google.colab import drive\n",
        "drive.mount('/content/gdrive') # 點擊網址，選擇 Google 帳號登入，然後將授權碼貼回輸入框中"
      ],
      "execution_count": 0,
      "outputs": [
        {
          "output_type": "stream",
          "text": [
            "Go to this URL in a browser: https://accounts.google.com/o/oauth2/auth?client_id=947318989803-6bn6qk8qdgf4n4g3pfee6491hc0brc4i.apps.googleusercontent.com&redirect_uri=urn%3aietf%3awg%3aoauth%3a2.0%3aoob&response_type=code&scope=email%20https%3a%2f%2fwww.googleapis.com%2fauth%2fdocs.test%20https%3a%2f%2fwww.googleapis.com%2fauth%2fdrive%20https%3a%2f%2fwww.googleapis.com%2fauth%2fdrive.photos.readonly%20https%3a%2f%2fwww.googleapis.com%2fauth%2fpeopleapi.readonly\n",
            "\n",
            "Enter your authorization code:\n",
            "··········\n",
            "Mounted at /content/gdrive\n"
          ],
          "name": "stdout"
        }
      ]
    },
    {
      "cell_type": "code",
      "metadata": {
        "id": "fSkrGTwDgvba",
        "colab_type": "code",
        "colab": {}
      },
      "source": [
        "!ln -fs /content/gdrive/My\\ Drive/Colab\\ Notebooks/Datascience /app"
      ],
      "execution_count": 0,
      "outputs": []
    },
    {
      "cell_type": "markdown",
      "metadata": {
        "id": "P31G1mUKhXDZ",
        "colab_type": "text"
      },
      "source": [
        "### 步驟 2. 下載 cuDNN 檔案\n",
        "\n",
        "1. 申請 Nvidia 帳號，申請網址為 http://bit.ly/2qfpOPj\n",
        "2. 下載 `cudnn-10.0-linux-x64-v7.5.0.56.tgz`，下載網址為 \n",
        "下載 cuDNN 檔案。下載網址為：http://bit.ly/2qfpOPj\n",
        "3. 將下載的檔案 `cudnn-10.0-linux-x64-v7.5.0.56.tgz` 放到 google drive 的 `Colab Notebooks/Datascience/cuDNN/` 目錄下。"
      ]
    },
    {
      "cell_type": "code",
      "metadata": {
        "id": "gQ5NP1r2hQNP",
        "colab_type": "code",
        "outputId": "67ed02a3-eb72-4b2d-9172-a19baed96340",
        "colab": {
          "base_uri": "https://localhost:8080/",
          "height": 243
        }
      },
      "source": [
        "!tar -xzvf /app/cuDNN/cudnn-10.0-linux-x64-v7.5.0.56.tgz -C /usr/local/\n",
        "!chmod a+r /usr/local/cuda/include/cudnn.h\n",
        "\n",
        "# 檢查是否安裝成功\n",
        "!cat /usr/local/cuda/include/cudnn.h | grep CUDNN_MAJOR -A 2"
      ],
      "execution_count": 0,
      "outputs": [
        {
          "output_type": "stream",
          "text": [
            "cuda/include/cudnn.h\n",
            "cuda/NVIDIA_SLA_cuDNN_Support.txt\n",
            "cuda/lib64/libcudnn.so\n",
            "cuda/lib64/libcudnn.so.7\n",
            "cuda/lib64/libcudnn.so.7.5.0\n",
            "cuda/lib64/libcudnn_static.a\n",
            "#define CUDNN_MAJOR 7\n",
            "#define CUDNN_MINOR 5\n",
            "#define CUDNN_PATCHLEVEL 0\n",
            "--\n",
            "#define CUDNN_VERSION (CUDNN_MAJOR * 1000 + CUDNN_MINOR * 100 + CUDNN_PATCHLEVEL)\n",
            "\n",
            "#include \"driver_types.h\"\n"
          ],
          "name": "stdout"
        }
      ]
    },
    {
      "cell_type": "markdown",
      "metadata": {
        "id": "OBarEOVvnyHT",
        "colab_type": "text"
      },
      "source": [
        "## 步驟3. 載入相關模組, 讀取資料\n",
        "### X0: 售電歷史資料, 2011~2018 每月平均售電量\n",
        "### X10: 2011~2011 每月測站平均溫度"
      ]
    },
    {
      "cell_type": "code",
      "metadata": {
        "id": "TjCOyDgrmgaI",
        "colab_type": "code",
        "colab": {}
      },
      "source": [
        "%matplotlib inline\n",
        "import pandas as pd\n",
        "import matplotlib.pyplot as plt\n",
        "import seaborn as sns\n",
        "import numpy as np\n",
        "from scipy.stats import norm\n",
        "from sklearn.preprocessing import StandardScaler\n",
        "from math import sqrt\n",
        "from pandas import Series\n",
        "from scipy import stats\n",
        "import warnings\n",
        "warnings.filterwarnings('ignore')\n"
      ],
      "execution_count": 0,
      "outputs": []
    },
    {
      "cell_type": "code",
      "metadata": {
        "id": "8uzrJANPmJQy",
        "colab_type": "code",
        "colab": {}
      },
      "source": [
        "dat = pd.read_csv('/app/input/2011-2018powerSaleTemp.csv', index_col=0)\n",
        "(dat[0:5])\n",
        "data = pd.read_csv('/app/input/x3x4Prosperity_indicator.csv', index_col=0)"
      ],
      "execution_count": 0,
      "outputs": []
    },
    {
      "cell_type": "code",
      "metadata": {
        "id": "-fQLG6Dxm6FU",
        "colab_type": "code",
        "outputId": "59570be8-b1f2-417a-ccec-6098a9445504",
        "colab": {
          "base_uri": "https://localhost:8080/",
          "height": 104
        }
      },
      "source": [
        "print(dat.shape, data.shape)\n",
        "print(dat.columns)\n",
        "print(data.columns)"
      ],
      "execution_count": 0,
      "outputs": [
        {
          "output_type": "stream",
          "text": [
            "(96, 5) (104, 3)\n",
            "Index(['year', 'Month', 'Power Gen. & Buy', 'Power Sale',\n",
            "       'Temperature Month Average'],\n",
            "      dtype='object')\n",
            "Index(['月', '景氣對策信號(分)', '領先指標綜合指數(點)'], dtype='object')\n"
          ],
          "name": "stdout"
        }
      ]
    },
    {
      "cell_type": "code",
      "metadata": {
        "id": "FqVwJivoneVd",
        "colab_type": "code",
        "outputId": "4b1492b7-7673-4e1b-fc6d-be28a47027a0",
        "colab": {
          "base_uri": "https://localhost:8080/",
          "height": 35
        }
      },
      "source": [
        "X0 = np.array(list(dat['Power Sale']))\n",
        "X10 = np.array(list(dat['Temperature Month Average']))\n",
        "print(X0.shape,X10.shape)"
      ],
      "execution_count": 0,
      "outputs": [
        {
          "output_type": "stream",
          "text": [
            "(96,) (96,)\n"
          ],
          "name": "stdout"
        }
      ]
    },
    {
      "cell_type": "markdown",
      "metadata": {
        "id": "PIBCZfNfokN-",
        "colab_type": "text"
      },
      "source": [
        "## 步驟4. 數據規一化及縮放"
      ]
    },
    {
      "cell_type": "code",
      "metadata": {
        "id": "WuZgUCLi3ljA",
        "colab_type": "code",
        "outputId": "5b12a617-d3dc-4537-adce-9f81058456d3",
        "colab": {
          "base_uri": "https://localhost:8080/",
          "height": 225
        }
      },
      "source": [
        "# Standardlized the dataset\n",
        "X0 = Series(X0)\n",
        "X10 = Series(X10)\n",
        "print(X0[:5,])\n",
        "print(X10[:5,])"
      ],
      "execution_count": 0,
      "outputs": [
        {
          "output_type": "stream",
          "text": [
            "0    14690\n",
            "1    13246\n",
            "2    16412\n",
            "3    15016\n",
            "4    16431\n",
            "dtype: int64\n",
            "0    15.300000\n",
            "1    17.850000\n",
            "2    17.685714\n",
            "3    22.085714\n",
            "4    25.135714\n",
            "dtype: float64\n"
          ],
          "name": "stdout"
        }
      ]
    },
    {
      "cell_type": "code",
      "metadata": {
        "id": "jCGYTe2Q4GYN",
        "colab_type": "code",
        "colab": {}
      },
      "source": [
        "# prepare data for normalization\n",
        "x0 = X0.values\n",
        "x0 = x0.reshape((len(x0), 1))\n",
        "x10 = X10.values\n",
        "x10 = x10.reshape((len(x10), 1))"
      ],
      "execution_count": 0,
      "outputs": []
    },
    {
      "cell_type": "code",
      "metadata": {
        "id": "nxx5MXKW4k2i",
        "colab_type": "code",
        "outputId": "663b4fcc-3f2f-4daa-feed-19951b2e1e76",
        "colab": {
          "base_uri": "https://localhost:8080/",
          "height": 52
        }
      },
      "source": [
        "# train the normalization\n",
        "scaler = StandardScaler()\n",
        "scaler = scaler.fit(x0)\n",
        "print('Mean: %f, StandardDeviation: %f' % (scaler.mean_, sqrt(scaler.var_)))\n",
        "scaler1 = StandardScaler()\n",
        "scaler1 = scaler1.fit(x10)\n",
        "print('Mean: %f, StandardDeviation: %f' % (scaler1.mean_, sqrt(scaler1.var_)))"
      ],
      "execution_count": 0,
      "outputs": [
        {
          "output_type": "stream",
          "text": [
            "Mean: 17294.468750, StandardDeviation: 1821.567685\n",
            "Mean: 23.866890, StandardDeviation: 4.308428\n"
          ],
          "name": "stdout"
        }
      ]
    },
    {
      "cell_type": "code",
      "metadata": {
        "id": "SjL1atdG43xq",
        "colab_type": "code",
        "outputId": "a36a04b7-15f4-46b2-a15f-567d733bd79e",
        "colab": {
          "base_uri": "https://localhost:8080/",
          "height": 191
        }
      },
      "source": [
        "# normalize the dataset and print\n",
        "X0_std = scaler.transform(x0)\n",
        "print(X0_std[:5,])\n",
        "X10_std = scaler.transform(x10)\n",
        "print(X10_std[:5,])"
      ],
      "execution_count": 0,
      "outputs": [
        {
          "output_type": "stream",
          "text": [
            "[[-1.42979521]\n",
            " [-2.22251898]\n",
            " [-0.48445565]\n",
            " [-1.25082849]\n",
            " [-0.47402507]]\n",
            "[[-9.48587795]\n",
            " [-9.48447806]\n",
            " [-9.48456825]\n",
            " [-9.48215275]\n",
            " [-9.48047837]]\n"
          ],
          "name": "stdout"
        }
      ]
    },
    {
      "cell_type": "code",
      "metadata": {
        "id": "93ItzedTpDRX",
        "colab_type": "code",
        "outputId": "07564da9-747c-4b11-9e85-7c1ca5942903",
        "colab": {
          "base_uri": "https://localhost:8080/",
          "height": 283
        }
      },
      "source": [
        "import matplotlib.pyplot as plt\n",
        "plt.plot(X0_std[:,0],'r')"
      ],
      "execution_count": 0,
      "outputs": [
        {
          "output_type": "execute_result",
          "data": {
            "text/plain": [
              "[<matplotlib.lines.Line2D at 0x7fbf5ef06eb8>]"
            ]
          },
          "metadata": {
            "tags": []
          },
          "execution_count": 16
        },
        {
          "output_type": "display_data",
          "data": {
            "image/png": "[encoded data removed]",
            "text/plain": [
              "<Figure size 432x288 with 1 Axes>"
            ]
          },
          "metadata": {
            "tags": []
          }
        }
      ]
    },
    {
      "cell_type": "code",
      "metadata": {
        "id": "JGAEoTPL6KNO",
        "colab_type": "code",
        "outputId": "7b6aef96-6a0b-4073-bf50-e2b280793b14",
        "colab": {
          "base_uri": "https://localhost:8080/",
          "height": 283
        }
      },
      "source": [
        "plt.plot(X10_std[:,0],'g')"
      ],
      "execution_count": 0,
      "outputs": [
        {
          "output_type": "execute_result",
          "data": {
            "text/plain": [
              "[<matplotlib.lines.Line2D at 0x7fbf5eebb3c8>]"
            ]
          },
          "metadata": {
            "tags": []
          },
          "execution_count": 18
        },
        {
          "output_type": "display_data",
          "data": {
            "image/png": "[encoded data removed]",
            "text/plain": [
              "<Figure size 432x288 with 1 Axes>"
            ]
          },
          "metadata": {
            "tags": []
          }
        }
      ]
    },
    {
      "cell_type": "markdown",
      "metadata": {
        "id": "ab3z6koipzJf",
        "colab_type": "text"
      },
      "source": [
        "## 步驟5. 首先以售電資料進行線性回歸分析"
      ]
    },
    {
      "cell_type": "code",
      "metadata": {
        "id": "pYHX36X0plOn",
        "colab_type": "code",
        "colab": {}
      },
      "source": [
        "from sklearn.model_selection import train_test_split"
      ],
      "execution_count": 0,
      "outputs": []
    },
    {
      "cell_type": "code",
      "metadata": {
        "id": "ZcbPQHIkq62N",
        "colab_type": "code",
        "outputId": "7f5846fd-ede1-405d-f4d5-08028fe3ba00",
        "colab": {
          "base_uri": "https://localhost:8080/",
          "height": 173
        }
      },
      "source": [
        "np.char.mod('%02d', np.array(list(dat['Month'])))   # 檢視欄位： Month 資料"
      ],
      "execution_count": 0,
      "outputs": [
        {
          "output_type": "execute_result",
          "data": {
            "text/plain": [
              "array(['01', '02', '03', '04', '05', '06', '07', '08', '09', '10', '11',\n",
              "       '12', '01', '02', '03', '04', '05', '06', '07', '08', '09', '10',\n",
              "       '11', '12', '01', '02', '03', '04', '05', '06', '07', '08', '09',\n",
              "       '10', '11', '12', '01', '02', '03', '04', '05', '06', '07', '08',\n",
              "       '09', '10', '11', '12', '01', '02', '03', '04', '05', '06', '07',\n",
              "       '08', '09', '10', '11', '12', '01', '02', '03', '04', '05', '06',\n",
              "       '07', '08', '09', '10', '11', '12', '01', '02', '03', '04', '05',\n",
              "       '06', '07', '08', '09', '10', '11', '12', '01', '02', '03', '04',\n",
              "       '05', '06', '07', '08', '09', '10', '11', '12'], dtype='<U2')"
            ]
          },
          "metadata": {
            "tags": []
          },
          "execution_count": 20
        }
      ]
    },
    {
      "cell_type": "code",
      "metadata": {
        "id": "7hVGKZfVrEWN",
        "colab_type": "code",
        "colab": {}
      },
      "source": [
        "# 合併 年月欄位 當作 X 軸索引\n",
        "a1 = np.array(list(dat['year']))\n",
        "a2 = np.char.mod('%02d', np.array(list(dat['Month'])))\n",
        "x = np.char.add(a1.astype(str),a2)\n",
        "x = x.reshape(96,1)"
      ],
      "execution_count": 0,
      "outputs": []
    },
    {
      "cell_type": "code",
      "metadata": {
        "id": "gV7FMsXxrePs",
        "colab_type": "code",
        "colab": {}
      },
      "source": [
        "#將資料集拆成： 80% 的訓練部份及 20% 檢驗部份\n",
        "X_train, X_test, Y_train, Y_test = train_test_split(x, X0_std, test_size=0.2,random_state=3)"
      ],
      "execution_count": 0,
      "outputs": []
    },
    {
      "cell_type": "code",
      "metadata": {
        "id": "vv8tYJSWrx_O",
        "colab_type": "code",
        "colab": {}
      },
      "source": [
        "import time\n",
        "from sklearn.linear_model import LinearRegression"
      ],
      "execution_count": 0,
      "outputs": []
    },
    {
      "cell_type": "code",
      "metadata": {
        "id": "wpO6WXmMr23Z",
        "colab_type": "code",
        "colab": {}
      },
      "source": [
        "# 建模\n",
        "model = LinearRegression()"
      ],
      "execution_count": 0,
      "outputs": []
    },
    {
      "cell_type": "code",
      "metadata": {
        "id": "SZP1DGfDr_Qn",
        "colab_type": "code",
        "outputId": "6c9421b4-95d7-4d18-9f22-f5e1820a0c92",
        "colab": {
          "base_uri": "https://localhost:8080/",
          "height": 35
        }
      },
      "source": [
        "start = time.clock()\n",
        "model.fit(X_train, Y_train)\n",
        "print('elaspe: {0:.6f}'.format(time.clock()-start))"
      ],
      "execution_count": 0,
      "outputs": [
        {
          "output_type": "stream",
          "text": [
            "elaspe: 0.002978\n"
          ],
          "name": "stdout"
        }
      ]
    },
    {
      "cell_type": "code",
      "metadata": {
        "id": "YGrq0ExUsU1u",
        "colab_type": "code",
        "outputId": "cd9a5f83-941d-493f-dbfd-4348c7310403",
        "colab": {
          "base_uri": "https://localhost:8080/",
          "height": 52
        }
      },
      "source": [
        "#輸出結果\n",
        "print(model.intercept_)\n",
        "print(model.coef_)"
      ],
      "execution_count": 0,
      "outputs": [
        {
          "output_type": "stream",
          "text": [
            "[-242.15976845]\n",
            "[[0.0012019]]\n"
          ],
          "name": "stdout"
        }
      ]
    },
    {
      "cell_type": "code",
      "metadata": {
        "id": "9zORqa9osk3G",
        "colab_type": "code",
        "outputId": "4213a1d9-61aa-4bc1-e09e-7741301e0f4a",
        "colab": {
          "base_uri": "https://localhost:8080/",
          "height": 35
        }
      },
      "source": [
        "print(len(X_train))\n",
        "X_train = X_train.astype(float)\n",
        "X_test = X_test.astype(float)"
      ],
      "execution_count": 0,
      "outputs": [
        {
          "output_type": "stream",
          "text": [
            "76\n"
          ],
          "name": "stdout"
        }
      ]
    },
    {
      "cell_type": "code",
      "metadata": {
        "id": "Y1Xp_u3_snzv",
        "colab_type": "code",
        "colab": {}
      },
      "source": [
        "# 評估\n",
        "train_score = model.score(X_train, Y_train)\n",
        "cv_score = model.score(X_test, Y_test)"
      ],
      "execution_count": 0,
      "outputs": []
    },
    {
      "cell_type": "code",
      "metadata": {
        "id": "5lsdPOh3sxiT",
        "colab_type": "code",
        "outputId": "f20f1f5b-95c6-4cd3-9257-6993a77a249d",
        "colab": {
          "base_uri": "https://localhost:8080/",
          "height": 52
        }
      },
      "source": [
        "from sklearn.model_selection import cross_val_score\n",
        "score = cross_val_score(model, X_train, Y_train, cv=10)\n",
        "print(score)"
      ],
      "execution_count": 0,
      "outputs": [
        {
          "output_type": "stream",
          "text": [
            "[ 0.20588471  0.15967281 -0.46998272 -0.23025128 -0.24598162 -0.23307526\n",
            " -0.12958955  0.10942621 -0.10004155  0.05450494]\n"
          ],
          "name": "stdout"
        }
      ]
    },
    {
      "cell_type": "code",
      "metadata": {
        "id": "s57Au4w4s6XA",
        "colab_type": "code",
        "outputId": "0c5e5018-ed9f-42f5-9c2d-c30d0b699b3e",
        "colab": {
          "base_uri": "https://localhost:8080/",
          "height": 352
        }
      },
      "source": [
        "x =  np.arange(0, 100,10)\n",
        "plt.xticks(x)\n",
        "plt.hist(score)"
      ],
      "execution_count": 0,
      "outputs": [
        {
          "output_type": "execute_result",
          "data": {
            "text/plain": [
              "(array([1., 0., 0., 3., 0., 2., 0., 1., 1., 2.]),\n",
              " array([-0.46998272, -0.40239598, -0.33480923, -0.26722249, -0.19963575,\n",
              "        -0.13204901, -0.06446226,  0.00312448,  0.07071122,  0.13829797,\n",
              "         0.20588471]),\n",
              " <a list of 10 Patch objects>)"
            ]
          },
          "metadata": {
            "tags": []
          },
          "execution_count": 30
        },
        {
          "output_type": "display_data",
          "data": {
            "image/png": "[encoded data removed]",
            "text/plain": [
              "<Figure size 432x288 with 1 Axes>"
            ]
          },
          "metadata": {
            "tags": []
          }
        }
      ]
    },
    {
      "cell_type": "code",
      "metadata": {
        "id": "y2fktDUytLhJ",
        "colab_type": "code",
        "outputId": "d9b54e0b-429f-47ad-94bb-54d8404b56f4",
        "colab": {
          "base_uri": "https://localhost:8080/",
          "height": 35
        }
      },
      "source": [
        "print('train_score: {0:0.6f}; cv_score: {1:.6f}'.format(train_score, cv_score))"
      ],
      "execution_count": 0,
      "outputs": [
        {
          "output_type": "stream",
          "text": [
            "train_score: 0.078252; cv_score: 0.185143\n"
          ],
          "name": "stdout"
        }
      ]
    },
    {
      "cell_type": "markdown",
      "metadata": {
        "id": "oQFWT9AMzfGj",
        "colab_type": "text"
      },
      "source": [
        "## 步驟6. 採用多項式回歸分析"
      ]
    },
    {
      "cell_type": "code",
      "metadata": {
        "id": "v_9Ejs-IwNIU",
        "colab_type": "code",
        "colab": {}
      },
      "source": [
        "from sklearn.linear_model import LinearRegression\n",
        "from sklearn.preprocessing import PolynomialFeatures\n",
        "from sklearn.pipeline import Pipeline"
      ],
      "execution_count": 0,
      "outputs": []
    },
    {
      "cell_type": "code",
      "metadata": {
        "id": "Ozq1HkfJzpuc",
        "colab_type": "code",
        "colab": {}
      },
      "source": [
        "def polynomial_model(degree=1):\n",
        "  polynomial_features = PolynomialFeatures(degree=degree, include_bias=False)\n",
        "  linear_regression = LinearRegression(normalize=True)\n",
        "  pipeline = Pipeline([(\"polynomial_features\", polynomial_features),(\"linear_regression\", linear_regression)])\n",
        "  return pipeline"
      ],
      "execution_count": 0,
      "outputs": []
    },
    {
      "cell_type": "code",
      "metadata": {
        "id": "Nw7moXqizxPu",
        "colab_type": "code",
        "outputId": "2ba0f254-fbdd-4017-d9a7-b4448e605efb",
        "colab": {
          "base_uri": "https://localhost:8080/",
          "height": 35
        }
      },
      "source": [
        "model = polynomial_model(degree=2)\n",
        "\n",
        "start = time.clock()\n",
        "model.fit(X_train, Y_train)\n",
        "\n",
        "train_score = model.score(X_train, Y_train)\n",
        "cv_score = model.score(X_test, Y_test)\n",
        "print('elaspe: {0:.6f}; train_score: {1:0.6f}; cv_score: {2:.6f}'.format(time.clock()-start, train_score, cv_score))"
      ],
      "execution_count": 0,
      "outputs": [
        {
          "output_type": "stream",
          "text": [
            "elaspe: 0.006575; train_score: 0.078254; cv_score: 0.185680\n"
          ],
          "name": "stdout"
        }
      ]
    },
    {
      "cell_type": "code",
      "metadata": {
        "id": "2hGPYMcm1AgL",
        "colab_type": "code",
        "outputId": "20efa0b1-f64e-49b2-a2a1-e3816b530445",
        "colab": {
          "base_uri": "https://localhost:8080/",
          "height": 415
        }
      },
      "source": [
        "from sklearn.metrics import mean_squared_error\n",
        "degrees = [2, 3, 5, 10]\n",
        "models = []\n",
        "msearry = []\n",
        "for d in degrees:\n",
        "   model = polynomial_model(degree=d)\n",
        "   # 這裡會依次呼叫管道里的fit和transform(或者fit_transform),最後一個只調用fit\n",
        "   model.fit(X_train, Y_train)\n",
        "   train_score = model.score(X_train, Y_train)  # R2得分\n",
        "   mse = mean_squared_error(Y_train, model.predict(X_train))  # MSE損失\n",
        "   print(\"degree:{}\\tscore:{}\\tmse loss:{}\".format(d, train_score, mse))\n",
        "   models.append({\"model\": model, \"degree\": d, \"MSE\": mse})  # 訓練好的模型儲存下來\n",
        "\n",
        "# 繪製不同degree的擬合結果,SubplotParams用於為子圖設定統一引數,這裡不用\n",
        "#plt.figure(figsize=(12, 6), dpi=200, subplotpars=SubplotParams(hspace=3.0))\n",
        "# fig, axes = plt.subplots(2, 2)\n",
        "plt.subplots_adjust(top = 0.99, bottom=0.01, hspace=1.5, wspace=0.4)\n",
        "for i, mod in enumerate(models):\n",
        "   fig = plt.subplot(2, 2, i + 1)\n",
        "   plt.xlim(-8, 8)\n",
        "   plt.title(\"Poly-Regression(d={})\".format(mod[\"degree\"]))\n",
        "   plt.scatter(X_test, Y_test, s=5, c='b', alpha=0.5)\n",
        "   plt.plot(X_test, mod[\"model\"].predict(X_test), 'r-')\n",
        "   # fig.tight_layout()\n",
        "   msearry = np.append(msearry,mod[\"MSE\"])\n",
        "plt.show()\n"
      ],
      "execution_count": 0,
      "outputs": [
        {
          "output_type": "stream",
          "text": [
            "degree:2\tscore:0.0782544054491483\tmse loss:0.8734420197802063\n",
            "degree:3\tscore:0.08018932275276425\tmse loss:0.8716085007617601\n",
            "degree:5\tscore:0.08319417466365664\tmse loss:0.8687611164751348\n",
            "degree:10\tscore:-1.2185972643174754\tmse loss:2.102332885646777\n"
          ],
          "name": "stdout"
        },
        {
          "output_type": "display_data",
          "data": {
            "image/png": "[encoded data removed]",
            "text/plain": [
              "<Figure size 432x288 with 4 Axes>"
            ]
          },
          "metadata": {
            "tags": []
          }
        }
      ]
    },
    {
      "cell_type": "code",
      "metadata": {
        "id": "KJnkoyM8JCyP",
        "colab_type": "code",
        "outputId": "efbeaab9-3840-4d68-dfd2-1b4d2883d3a2",
        "colab": {
          "base_uri": "https://localhost:8080/",
          "height": 52
        }
      },
      "source": [
        "print(msearry.shape)\n",
        "print(\"{}\".format(msearry))"
      ],
      "execution_count": 0,
      "outputs": [
        {
          "output_type": "stream",
          "text": [
            "(4,)\n",
            "[0.87344202 0.8716085  0.86876112 2.10233289]\n"
          ],
          "name": "stdout"
        }
      ]
    },
    {
      "cell_type": "code",
      "metadata": {
        "id": "vK7OB9z4I767",
        "colab_type": "code",
        "outputId": "3bec1270-9107-4e90-967f-7909c5b91545",
        "colab": {
          "base_uri": "https://localhost:8080/",
          "height": 265
        }
      },
      "source": [
        "plt.plot(msearry,'r-')\n",
        "plt.show()"
      ],
      "execution_count": 0,
      "outputs": [
        {
          "output_type": "display_data",
          "data": {
            "image/png": "[encoded data removed]",
            "text/plain": [
              "<Figure size 432x288 with 1 Axes>"
            ]
          },
          "metadata": {
            "tags": []
          }
        }
      ]
    },
    {
      "cell_type": "code",
      "metadata": {
        "id": "WzGRtq_SFzF-",
        "colab_type": "code",
        "outputId": "64898602-21cb-49d2-c6d3-d26c5a510384",
        "colab": {
          "base_uri": "https://localhost:8080/",
          "height": 52
        }
      },
      "source": [
        "min_degree = msearry.min()\n",
        "print(min_degree)\n",
        "# Get the indices of minimum element in numpy array\n",
        "ndx = np.argmin(msearry)\n",
        "print(\"The minimal mse for polynomial degree is: {}\".format(degrees[ndx]))"
      ],
      "execution_count": 0,
      "outputs": [
        {
          "output_type": "stream",
          "text": [
            "0.8687611164751348\n",
            "The minimal mse for polynomial degree is: 5\n"
          ],
          "name": "stdout"
        }
      ]
    },
    {
      "cell_type": "code",
      "metadata": {
        "id": "-hY7zENR13i1",
        "colab_type": "code",
        "colab": {}
      },
      "source": [
        "y_predict = mod[\"model\"].predict(X_test)"
      ],
      "execution_count": 0,
      "outputs": []
    },
    {
      "cell_type": "code",
      "metadata": {
        "id": "VF_L-dDLkjhS",
        "colab_type": "code",
        "outputId": "17f96bf0-0d5b-4574-d214-b81e57930e2c",
        "colab": {
          "base_uri": "https://localhost:8080/",
          "height": 35
        }
      },
      "source": [
        "print(y_predict.shape, Y_test.shape)"
      ],
      "execution_count": 0,
      "outputs": [
        {
          "output_type": "stream",
          "text": [
            "(20, 1) (20, 1)\n"
          ],
          "name": "stdout"
        }
      ]
    },
    {
      "cell_type": "code",
      "metadata": {
        "id": "jQDARFpWoWV3",
        "colab_type": "code",
        "outputId": "e92698ed-ce46-4cf2-8b8c-76943ec62094",
        "colab": {
          "base_uri": "https://localhost:8080/",
          "height": 572
        }
      },
      "source": [
        "for m in models:\n",
        "  print(\"{},{},{}\".format(m[\"model\"],m[\"degree\"],m[\"MSE\"]))"
      ],
      "execution_count": 0,
      "outputs": [
        {
          "output_type": "stream",
          "text": [
            "Pipeline(memory=None,\n",
            "         steps=[('polynomial_features',\n",
            "                 PolynomialFeatures(degree=2, include_bias=False,\n",
            "                                    interaction_only=False, order='C')),\n",
            "                ('linear_regression',\n",
            "                 LinearRegression(copy_X=True, fit_intercept=True, n_jobs=None,\n",
            "                                  normalize=True))],\n",
            "         verbose=False),2,0.8734420197802063\n",
            "Pipeline(memory=None,\n",
            "         steps=[('polynomial_features',\n",
            "                 PolynomialFeatures(degree=3, include_bias=False,\n",
            "                                    interaction_only=False, order='C')),\n",
            "                ('linear_regression',\n",
            "                 LinearRegression(copy_X=True, fit_intercept=True, n_jobs=None,\n",
            "                                  normalize=True))],\n",
            "         verbose=False),3,0.8716085007617601\n",
            "Pipeline(memory=None,\n",
            "         steps=[('polynomial_features',\n",
            "                 PolynomialFeatures(degree=5, include_bias=False,\n",
            "                                    interaction_only=False, order='C')),\n",
            "                ('linear_regression',\n",
            "                 LinearRegression(copy_X=True, fit_intercept=True, n_jobs=None,\n",
            "                                  normalize=True))],\n",
            "         verbose=False),5,0.8687611164751348\n",
            "Pipeline(memory=None,\n",
            "         steps=[('polynomial_features',\n",
            "                 PolynomialFeatures(degree=10, include_bias=False,\n",
            "                                    interaction_only=False, order='C')),\n",
            "                ('linear_regression',\n",
            "                 LinearRegression(copy_X=True, fit_intercept=True, n_jobs=None,\n",
            "                                  normalize=True))],\n",
            "         verbose=False),10,2.102332885646777\n"
          ],
          "name": "stdout"
        }
      ]
    },
    {
      "cell_type": "code",
      "metadata": {
        "id": "uRHeSBR2ozUf",
        "colab_type": "code",
        "outputId": "f5c20f9c-73ae-463f-d5b4-2af0d0adc0d9",
        "colab": {
          "base_uri": "https://localhost:8080/",
          "height": 35
        }
      },
      "source": [
        "best_model = polynomial_model(degree=5)\n",
        "best_model.fit(X_train, Y_train)\n",
        "y_predict = best_model.predict(X_test)\n",
        "train_score = best_model.score(X_train, Y_train)  # R2得分\n",
        "mse = mean_squared_error(Y_train, best_model.predict(X_train))  # MSE損失\n",
        "print(\"degree:{}\\tscore:{}\\tmse loss:{}\".format(5, train_score, mse))"
      ],
      "execution_count": 0,
      "outputs": [
        {
          "output_type": "stream",
          "text": [
            "degree:5\tscore:0.08319417466365664\tmse loss:0.8687611164751348\n"
          ],
          "name": "stdout"
        }
      ]
    },
    {
      "cell_type": "code",
      "metadata": {
        "id": "p2UgwkHbpuVk",
        "colab_type": "code",
        "outputId": "641ac08f-68ea-4a00-e7d2-cf8b4db2ff78",
        "colab": {
          "base_uri": "https://localhost:8080/",
          "height": 298
        }
      },
      "source": [
        "# The coefficients\n",
        "#print('Coefficients: \\n', model.coef())\n",
        "# The mean squared error\n",
        "from sklearn.metrics import mean_squared_error\n",
        "from sklearn.metrics import r2_score\n",
        "\n",
        "print(\"Mean squared error: %.2f\"\n",
        "      % mean_squared_error(Y_test, y_predict))\n",
        "# Explained variance score: 1 is perfect prediction\n",
        "print('Variance score: %.2f' % r2_score(Y_test, y_predict))\n",
        "\n",
        "# Plot outputs\n",
        "plt.scatter(X_test, Y_test,  color='black', label='X_test,Y_test')\n",
        "plt.scatter(X_test, y_predict, color='red', label='X_test, y_predict',linewidth=3)\n",
        "plt.plot(X_test, y_predict, color='blue', linewidth=3)\n",
        "plt.tick_params(axis='both', which='major', labelsize=9)\n",
        "plt.xlabel('X_test')\n",
        "plt.ylabel('Y_test & Y_prediction')\n",
        "\n",
        "plt.xticks(())\n",
        "plt.yticks(())\n",
        "plt.legend(loc='best') \n",
        "plt.show()"
      ],
      "execution_count": 0,
      "outputs": [
        {
          "output_type": "stream",
          "text": [
            "Mean squared error: 0.98\n",
            "Variance score: 0.15\n"
          ],
          "name": "stdout"
        },
        {
          "output_type": "display_data",
          "data": {
            "image/png": "[encoded data removed]",
            "text/plain": [
              "<Figure size 432x288 with 1 Axes>"
            ]
          },
          "metadata": {
            "tags": []
          }
        }
      ]
    },
    {
      "cell_type": "markdown",
      "metadata": {
        "id": "k7a1Y0ZJBn1J",
        "colab_type": "text"
      },
      "source": [
        "## 另一個評估"
      ]
    },
    {
      "cell_type": "code",
      "metadata": {
        "id": "_TELVVPVBmIj",
        "colab_type": "code",
        "colab": {}
      },
      "source": [
        "from sklearn.linear_model import LinearRegression\n",
        "from sklearn.preprocessing import PolynomialFeatures\n",
        "from sklearn.pipeline import make_pipeline"
      ],
      "execution_count": 0,
      "outputs": []
    },
    {
      "cell_type": "code",
      "metadata": {
        "id": "4NyGii08CSZc",
        "colab_type": "code",
        "colab": {}
      },
      "source": [
        "def PolynomialRegression(degree=2, **kwargs):\n",
        "  return make_pipeline(PolynomialFeatures(degree), LinearRegression(**kwargs))"
      ],
      "execution_count": 0,
      "outputs": []
    },
    {
      "cell_type": "code",
      "metadata": {
        "id": "RlbtXwh6Dbti",
        "colab_type": "code",
        "colab": {}
      },
      "source": [
        "import numpy as np"
      ],
      "execution_count": 0,
      "outputs": []
    },
    {
      "cell_type": "code",
      "metadata": {
        "id": "JW3x9S58Dfvo",
        "colab_type": "code",
        "colab": {}
      },
      "source": [
        "def make_data(N, err=1.0, rseed=1):\n",
        "  # 隨機抽樣數據\n",
        "  rng = np.random.RandomState(rseed)\n",
        "  X = rng.rand(N, 1) ** 2\n",
        "  y = 10 -1./(X.ravel() + 0.1)\n",
        "  if err >0:\n",
        "    y += err * rng.randn(N)\n",
        "      return X, y\n",
        "      X, y = make_data(40)"
      ],
      "execution_count": 0,
      "outputs": []
    },
    {
      "cell_type": "code",
      "metadata": {
        "id": "NDN8k1JhEgJZ",
        "colab_type": "code",
        "outputId": "d64aaceb-47ae-4af3-be8f-291b09b57191",
        "colab": {
          "base_uri": "https://localhost:8080/",
          "height": 272
        }
      },
      "source": [
        "%matplotlib inline\n",
        "import matplotlib.pyplot as plt\n",
        "import seaborn; seaborn.set()  #設置圖形樣式\n",
        "\n",
        "X_test = np.linspace(-0.1, 1.1, 500)[:, None]\n",
        "\n",
        "plt.scatter(X.ravel(), y, color='black')\n",
        "axis = plt.axis()\n",
        "for degree in [1, 3, 5]:\n",
        "  y_test = PolynomialRegression(degree).fit(X, y).predict(X_test)\n",
        "  plt.plot(X_test.ravel(), y_test, label='degree={0}'.format(degree))\n",
        "  plt.xlim(-0.1, 1.0)\n",
        "  plt.ylim(-2, 12)\n",
        "  plt.legend(loc='best')"
      ],
      "execution_count": 0,
      "outputs": [
        {
          "output_type": "display_data",
          "data": {
            "image/png": "[encoded data removed]",
            "text/plain": [
              "<Figure size 432x288 with 1 Axes>"
            ]
          },
          "metadata": {
            "tags": []
          }
        }
      ]
    },
    {
      "cell_type": "code",
      "metadata": {
        "id": "swp2DtsaLJCa",
        "colab_type": "code",
        "outputId": "577a35a7-a5b6-4144-aa93-caf0ea264b82",
        "colab": {
          "base_uri": "https://localhost:8080/",
          "height": 289
        }
      },
      "source": [
        "from sklearn.model_selection import learning_curve\n",
        "from sklearn.model_selection import validation_curve\n",
        "\n",
        "degree = np.arange(0, 21)\n",
        "train_score, val_score = validation_curve(PolynomialRegression(), X, y,\n",
        "'polynomialfeatures__degree',\n",
        "degree, cv=7)\n",
        "plt.plot(degree, np.median(train_score, 1), color='blue', label='training score')\n",
        "plt.plot(degree, np.median(val_score, 1), color='red', label='validation score')\n",
        "plt.legend(loc='best')\n",
        "plt.ylim(0, 1)\n",
        "plt.xlabel('degree')\n",
        "plt.ylabel('score');"
      ],
      "execution_count": 0,
      "outputs": [
        {
          "output_type": "display_data",
          "data": {
            "image/png": "[encoded data removed]",
            "text/plain": [
              "<Figure size 432x288 with 1 Axes>"
            ]
          },
          "metadata": {
            "tags": []
          }
        }
      ]
    },
    {
      "cell_type": "code",
      "metadata": {
        "id": "GCMPt_q0L3c2",
        "colab_type": "code",
        "outputId": "31181765-5795-4f80-fd4c-f61751e75095",
        "colab": {
          "base_uri": "https://localhost:8080/",
          "height": 268
        }
      },
      "source": [
        "plt.scatter(X.ravel(), y)\n",
        "lim = plt.axis()\n",
        "y_test = PolynomialRegression(3).fit(X, y).predict(X_test)\n",
        "plt.plot(X_test.ravel(), y_test);\n",
        "plt.axis(lim);"
      ],
      "execution_count": 0,
      "outputs": [
        {
          "output_type": "display_data",
          "data": {
            "image/png": "[encoded data removed]",
            "text/plain": [
              "<Figure size 432x288 with 1 Axes>"
            ]
          },
          "metadata": {
            "tags": []
          }
        }
      ]
    },
    {
      "cell_type": "code",
      "metadata": {
        "id": "JCbsYhHRIzkb",
        "colab_type": "code",
        "outputId": "3507d648-8a6d-43a0-8ee7-51997796c592",
        "colab": {
          "base_uri": "https://localhost:8080/",
          "height": 268
        }
      },
      "source": [
        "X2, y2 = make_data(200)\n",
        "plt.scatter(X2.ravel(), y2);"
      ],
      "execution_count": 0,
      "outputs": [
        {
          "output_type": "display_data",
          "data": {
            "image/png": "[encoded data removed]",
            "text/plain": [
              "<Figure size 432x288 with 1 Axes>"
            ]
          },
          "metadata": {
            "tags": []
          }
        }
      ]
    },
    {
      "cell_type": "code",
      "metadata": {
        "id": "cQl1pta-MFaq",
        "colab_type": "code",
        "outputId": "7cf07d7b-0870-4252-d154-35a50504a4f3",
        "colab": {
          "base_uri": "https://localhost:8080/",
          "height": 289
        }
      },
      "source": [
        "degree = np.arange(21)\n",
        "train_score2, val_score2 = validation_curve(PolynomialRegression(), X2, y2,\n",
        "'polynomialfeatures__degree',\n",
        "degree, cv=7)\n",
        "plt.plot(degree, np.median(train_score2, 1), color='blue',\n",
        "label='training score')\n",
        "plt.plot(degree, np.median(val_score2, 1), color='red', label='validation score')\n",
        "plt.plot(degree, np.median(train_score, 1), color='blue', alpha=0.3,\n",
        "linestyle='dashed')\n",
        "plt.plot(degree, np.median(val_score, 1), color='red', alpha=0.3,\n",
        "linestyle='dashed')\n",
        "plt.legend(loc='lower center')\n",
        "plt.ylim(0, 1)\n",
        "plt.xlabel('degree')\n",
        "plt.ylabel('score');"
      ],
      "execution_count": 0,
      "outputs": [
        {
          "output_type": "display_data",
          "data": {
            "image/png": "[encoded data removed]",
            "text/plain": [
              "<Figure size 432x288 with 1 Axes>"
            ]
          },
          "metadata": {
            "tags": []
          }
        }
      ]
    },
    {
      "cell_type": "code",
      "metadata": {
        "id": "RY4UsGu4MNi5",
        "colab_type": "code",
        "outputId": "6230824e-d62e-4ee6-b627-f7405c2abdfd",
        "colab": {
          "base_uri": "https://localhost:8080/",
          "height": 431
        }
      },
      "source": [
        "fig, ax = plt.subplots(1, 2, figsize=(16, 6))\n",
        "fig.subplots_adjust(left=0.0625, right=0.95, wspace=0.1)\n",
        "for i, degree in enumerate([2, 9]):\n",
        "    N, train_lc, val_lc = learning_curve(PolynomialRegression(degree),\n",
        "    X, y, cv=7,\n",
        "    train_sizes=np.linspace(0.3, 1, 25))\n",
        "    ax[i].plot(N, np.mean(train_lc, 1), color='blue', label='training score')\n",
        "    ax[i].plot(N, np.mean(val_lc, 1), color='red', label='validation score')\n",
        "    ax[i].hlines(np.mean([train_lc[-1], val_lc[-1]]), N[0], N[-1], color='gray',\n",
        "        linestyle='dashed')\n",
        "    ax[i].set_ylim(0, 1)\n",
        "    ax[i].set_xlim(N[0], N[-1])\n",
        "    ax[i].set_xlabel('training size')\n",
        "    ax[i].set_ylabel('score')\n",
        "    ax[i].set_title('degree = {0}'.format(degree), size=14)\n",
        "    ax[i].legend(loc='best')"
      ],
      "execution_count": 0,
      "outputs": [
        {
          "output_type": "display_data",
          "data": {
            "image/png": "[encoded data removed]",
            "text/plain": [
              "<Figure size 1152x432 with 2 Axes>"
            ]
          },
          "metadata": {
            "tags": []
          }
        }
      ]
    },
    {
      "cell_type": "markdown",
      "metadata": {
        "id": "JYeFMDv9R1kt",
        "colab_type": "text"
      },
      "source": [
        "## 驗證實踐：網格搜索"
      ]
    },
    {
      "cell_type": "code",
      "metadata": {
        "id": "Gqw3X3SlR8XA",
        "colab_type": "code",
        "colab": {}
      },
      "source": [
        "#from sklearn.grid_search import GridSearchCV\n",
        "from sklearn.model_selection import learning_curve, GridSearchCV\n",
        "param_grid = {'polynomialfeatures__degree': np.arange(21),\n",
        "'linearregression__fit_intercept': [True, False],\n",
        "'linearregression__normalize': [True, False]}\n",
        "grid = GridSearchCV(PolynomialRegression(), param_grid, cv=7)"
      ],
      "execution_count": 0,
      "outputs": []
    },
    {
      "cell_type": "code",
      "metadata": {
        "id": "ElQWbT8yR_aJ",
        "colab_type": "code",
        "colab": {}
      },
      "source": [
        "grid.fit(X, y);"
      ],
      "execution_count": 0,
      "outputs": []
    },
    {
      "cell_type": "code",
      "metadata": {
        "id": "yJlGoLeHShNJ",
        "colab_type": "code",
        "outputId": "9ef831a6-3b43-4ab6-b45b-da58d74de33f",
        "colab": {
          "base_uri": "https://localhost:8080/",
          "height": 68
        }
      },
      "source": [
        "grid.best_params_"
      ],
      "execution_count": 0,
      "outputs": [
        {
          "output_type": "execute_result",
          "data": {
            "text/plain": [
              "{'linearregression__fit_intercept': False,\n",
              " 'linearregression__normalize': True,\n",
              " 'polynomialfeatures__degree': 4}"
            ]
          },
          "metadata": {
            "tags": []
          },
          "execution_count": 81
        }
      ]
    },
    {
      "cell_type": "code",
      "metadata": {
        "id": "-MQX0gtXSoP2",
        "colab_type": "code",
        "outputId": "87bcf0e2-92d8-450d-9673-70173941afbe",
        "colab": {
          "base_uri": "https://localhost:8080/",
          "height": 268
        }
      },
      "source": [
        "model = grid.best_estimator_\n",
        "plt.scatter(X.ravel(), y)\n",
        "lim = plt.axis()\n",
        "y_test = model.fit(X, y).predict(X_test)\n",
        "plt.plot(X_test.ravel(), y_test);\n",
        "plt.axis(lim);"
      ],
      "execution_count": 0,
      "outputs": [
        {
          "output_type": "display_data",
          "data": {
            "image/png": "[encoded data removed]",
            "text/plain": [
              "<Figure size 432x288 with 1 Axes>"
            ]
          },
          "metadata": {
            "tags": []
          }
        }
      ]
    },
    {
      "cell_type": "markdown",
      "metadata": {
        "id": "r1XcKewmsvB0",
        "colab_type": "text"
      },
      "source": [
        "## 步驟7. 使用 SVM 分析"
      ]
    },
    {
      "cell_type": "code",
      "metadata": {
        "id": "uWfkms8ernrJ",
        "colab_type": "code",
        "colab": {}
      },
      "source": [
        "from sklearn.svm import SVC"
      ],
      "execution_count": 0,
      "outputs": []
    },
    {
      "cell_type": "code",
      "metadata": {
        "id": "EGuBDgYCs9B0",
        "colab_type": "code",
        "outputId": "dc32f7d2-5d59-4f6d-fba1-f48137c6a411",
        "colab": {
          "base_uri": "https://localhost:8080/",
          "height": 102
        }
      },
      "source": [
        "# 溫度數據歸一化\n",
        "mean1 = np.mean(X10, axis=0)\n",
        "norm1 = X10 - mean1\n",
        "# 溫度數據縮放\n",
        "scope1 = np.max(norm1, axis=0) - np.min(norm1, axis=0)\n",
        "norm1 = norm1 / scope1\n",
        "norm1 = norm1.reshape(96,1)\n",
        "norm1[:5]"
      ],
      "execution_count": 0,
      "outputs": [
        {
          "output_type": "execute_result",
          "data": {
            "text/plain": [
              "array([[-0.5836324 ],\n",
              "       [-0.40990977],\n",
              "       [-0.42110199],\n",
              "       [-0.1213453 ],\n",
              "       [ 0.08644059]])"
            ]
          },
          "metadata": {
            "tags": []
          },
          "execution_count": 42
        }
      ]
    },
    {
      "cell_type": "code",
      "metadata": {
        "id": "0hx8vMcLtGBY",
        "colab_type": "code",
        "outputId": "3d03935c-bfd2-4814-a512-5d78f334c2c1",
        "colab": {
          "base_uri": "https://localhost:8080/",
          "height": 34
        }
      },
      "source": [
        "print(mean1,scope1)"
      ],
      "execution_count": 0,
      "outputs": [
        {
          "output_type": "stream",
          "text": [
            "23.86688988095238 14.678571428571427\n"
          ],
          "name": "stdout"
        }
      ]
    },
    {
      "cell_type": "code",
      "metadata": {
        "id": "J2OP4DYhtXeO",
        "colab_type": "code",
        "outputId": "038b4a93-ba52-416c-fb68-bbf23b52e5cf",
        "colab": {
          "base_uri": "https://localhost:8080/",
          "height": 102
        }
      },
      "source": [
        "# norm: power sale, norm1: temperature\n",
        "a3 = np.array(list(dat['Month']))\n",
        "# 數據歸一化\n",
        "mean2 = np.mean(a3, axis=0)\n",
        "norm2 = a3 - mean2\n",
        "# 數據縮放\n",
        "scope2 = np.max(norm2, axis=0) - np.min(norm2, axis=0)\n",
        "norm2 = norm2 / scope2\n",
        "norm2 = norm2.reshape(96,1)\n",
        "norm2[:5]"
      ],
      "execution_count": 0,
      "outputs": [
        {
          "output_type": "execute_result",
          "data": {
            "text/plain": [
              "array([[-0.5       ],\n",
              "       [-0.40909091],\n",
              "       [-0.31818182],\n",
              "       [-0.22727273],\n",
              "       [-0.13636364]])"
            ]
          },
          "metadata": {
            "tags": []
          },
          "execution_count": 46
        }
      ]
    },
    {
      "cell_type": "code",
      "metadata": {
        "id": "8YIHkxbBtwVH",
        "colab_type": "code",
        "outputId": "59c70bd8-a4ed-45c9-eacd-f7a2fb09ca85",
        "colab": {
          "base_uri": "https://localhost:8080/",
          "height": 102
        }
      },
      "source": [
        "XX = np.c_[norm1,norm2]\n",
        "XX[:5]"
      ],
      "execution_count": 0,
      "outputs": [
        {
          "output_type": "execute_result",
          "data": {
            "text/plain": [
              "array([[-0.5836324 , -0.5       ],\n",
              "       [-0.40990977, -0.40909091],\n",
              "       [-0.42110199, -0.31818182],\n",
              "       [-0.1213453 , -0.22727273],\n",
              "       [ 0.08644059, -0.13636364]])"
            ]
          },
          "metadata": {
            "tags": []
          },
          "execution_count": 47
        }
      ]
    },
    {
      "cell_type": "code",
      "metadata": {
        "id": "e4dzsKVvt7RM",
        "colab_type": "code",
        "colab": {}
      },
      "source": [
        "from sklearn import preprocessing\n",
        "from sklearn import utils"
      ],
      "execution_count": 0,
      "outputs": []
    },
    {
      "cell_type": "code",
      "metadata": {
        "id": "7jCnVb4WuAhH",
        "colab_type": "code",
        "outputId": "a08c4195-f825-4d94-f22c-4cdeb0f559d2",
        "colab": {
          "base_uri": "https://localhost:8080/",
          "height": 85
        }
      },
      "source": [
        "lab_enc = preprocessing.LabelEncoder()\n",
        "training_scores_encoded = lab_enc.fit_transform(norm)\n",
        "print(training_scores_encoded)"
      ],
      "execution_count": 0,
      "outputs": [
        {
          "output_type": "stream",
          "text": [
            "[ 8  1 31 10 32 48 53 80 69 50 45 12 11  2 38 17 54 33 63 74 57 61 30  6\n",
            " 27  0 14 18 40 59 70 78 71 60 36 13 15  5 16 19 43 52 72 86 88 76 51 21\n",
            " 22  3 23 25 44 55 87 82 73 66 47 28 20  4 26 29 58 67 83 90 85 79 65 41\n",
            " 24  9 35 34 56 64 84 92 94 89 77 46 39  7 49 42 68 75 93 95 91 81 62 37]\n"
          ],
          "name": "stdout"
        }
      ]
    },
    {
      "cell_type": "code",
      "metadata": {
        "id": "CdDq77h6uFLc",
        "colab_type": "code",
        "outputId": "ce12d3fd-40c2-42d3-f5c4-9e101aca15d4",
        "colab": {
          "base_uri": "https://localhost:8080/",
          "height": 85
        }
      },
      "source": [
        "clf = SVC(gamma='auto')\n",
        "clf.fit(XX,training_scores_encoded) "
      ],
      "execution_count": 0,
      "outputs": [
        {
          "output_type": "execute_result",
          "data": {
            "text/plain": [
              "SVC(C=1.0, cache_size=200, class_weight=None, coef0=0.0,\n",
              "    decision_function_shape='ovr', degree=3, gamma='auto', kernel='rbf',\n",
              "    max_iter=-1, probability=False, random_state=None, shrinking=True,\n",
              "    tol=0.001, verbose=False)"
            ]
          },
          "metadata": {
            "tags": []
          },
          "execution_count": 50
        }
      ]
    },
    {
      "cell_type": "code",
      "metadata": {
        "id": "gKCn7WNWuMWX",
        "colab_type": "code",
        "outputId": "f5207393-2afc-44c4-ab39-3d584b40b675",
        "colab": {
          "base_uri": "https://localhost:8080/",
          "height": 282
        }
      },
      "source": [
        "plt.scatter(XX[:,0],training_scores_encoded,c = clf.predict(XX),s = 5)"
      ],
      "execution_count": 0,
      "outputs": [
        {
          "output_type": "execute_result",
          "data": {
            "text/plain": [
              "<matplotlib.collections.PathCollection at 0x7f3ecef0d7f0>"
            ]
          },
          "metadata": {
            "tags": []
          },
          "execution_count": 51
        },
        {
          "output_type": "display_data",
          "data": {
            "image/png": "[encoded data removed]",
            "text/plain": [
              "<Figure size 432x288 with 1 Axes>"
            ]
          },
          "metadata": {
            "tags": []
          }
        }
      ]
    },
    {
      "cell_type": "code",
      "metadata": {
        "id": "TxyJXaipuWix",
        "colab_type": "code",
        "outputId": "c67efd87-2c65-4670-b229-bd842cd6f65f",
        "colab": {
          "base_uri": "https://localhost:8080/",
          "height": 34
        }
      },
      "source": [
        "#錯誤率\n",
        "y_predict = clf.predict(XX)\n",
        "y_predict\n",
        "res = abs(y_predict-training_scores_encoded).sum()/len(XX)\n",
        "print(res)"
      ],
      "execution_count": 0,
      "outputs": [
        {
          "output_type": "stream",
          "text": [
            "0.13541666666666666\n"
          ],
          "name": "stdout"
        }
      ]
    },
    {
      "cell_type": "code",
      "metadata": {
        "id": "a8kvLpBjudJE",
        "colab_type": "code",
        "outputId": "0df23e73-f259-4c98-ecf8-0354d3d6cb7c",
        "colab": {
          "base_uri": "https://localhost:8080/",
          "height": 34
        }
      },
      "source": [
        "#準確率\n",
        "1-res"
      ],
      "execution_count": 0,
      "outputs": [
        {
          "output_type": "execute_result",
          "data": {
            "text/plain": [
              "0.8645833333333334"
            ]
          },
          "metadata": {
            "tags": []
          },
          "execution_count": 53
        }
      ]
    },
    {
      "cell_type": "code",
      "metadata": {
        "id": "lzIBhxBruhPB",
        "colab_type": "code",
        "outputId": "0f8368e7-7528-4fb5-fdca-2ab9982aba09",
        "colab": {
          "base_uri": "https://localhost:8080/",
          "height": 282
        }
      },
      "source": [
        "plt.scatter(XX[:,0],y_predict)"
      ],
      "execution_count": 0,
      "outputs": [
        {
          "output_type": "execute_result",
          "data": {
            "text/plain": [
              "<matplotlib.collections.PathCollection at 0x7f3eceebaa58>"
            ]
          },
          "metadata": {
            "tags": []
          },
          "execution_count": 59
        },
        {
          "output_type": "display_data",
          "data": {
            "image/png": "[encoded data removed]",
            "text/plain": [
              "<Figure size 432x288 with 1 Axes>"
            ]
          },
          "metadata": {
            "tags": []
          }
        }
      ]
    },
    {
      "cell_type": "code",
      "metadata": {
        "id": "snLu4skMu83l",
        "colab_type": "code",
        "colab": {}
      },
      "source": [
        "from sklearn.svm import SVC\n",
        "from sklearn.feature_selection import RFE"
      ],
      "execution_count": 0,
      "outputs": []
    },
    {
      "cell_type": "code",
      "metadata": {
        "id": "3eof6Btovno_",
        "colab_type": "code",
        "outputId": "18c9db32-9b62-483e-cacf-3c626551200e",
        "colab": {
          "base_uri": "https://localhost:8080/",
          "height": 34
        }
      },
      "source": [
        "svc = SVC(kernel=\"linear\", C=1)\n",
        "\n",
        "rfe = RFE(estimator=svc, n_features_to_select=1, step=1)\n",
        "y = training_scores_encoded\n",
        "print(y.shape)\n",
        "rfe.fit(XX, y)\n",
        "ranking = rfe.ranking_.reshape(-1,1)"
      ],
      "execution_count": 0,
      "outputs": [
        {
          "output_type": "stream",
          "text": [
            "(96,)\n"
          ],
          "name": "stdout"
        }
      ]
    },
    {
      "cell_type": "code",
      "metadata": {
        "id": "MtbkCnq3vrWa",
        "colab_type": "code",
        "outputId": "740f3172-d6ac-4b2d-e686-a4e849aa7920",
        "colab": {
          "base_uri": "https://localhost:8080/",
          "height": 487
        }
      },
      "source": [
        "# Plot pixel ranking\n",
        "plt.matshow(ranking, cmap=plt.cm.Blues)\n",
        "plt.colorbar()\n",
        "plt.title(\"Ranking of feaure with RFE\")\n",
        "plt.show()"
      ],
      "execution_count": 0,
      "outputs": [
        {
          "output_type": "display_data",
          "data": {
            "image/png": "[encoded data removed]",
            "text/plain": [
              "<Figure size 288x576 with 2 Axes>"
            ]
          },
          "metadata": {
            "tags": []
          }
        }
      ]
    },
    {
      "cell_type": "code",
      "metadata": {
        "id": "tDw2kACdvymn",
        "colab_type": "code",
        "colab": {}
      },
      "source": [
        ""
      ],
      "execution_count": 0,
      "outputs": []
    }
  ]
}