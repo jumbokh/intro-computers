{
  "nbformat": 4,
  "nbformat_minor": 0,
  "metadata": {
    "colab": {
      "name": "Normalizing_Sequence.ipynb",
      "provenance": []
    },
    "kernelspec": {
      "name": "python3",
      "display_name": "Python 3"
    }
  },
  "cells": [
    {
      "cell_type": "code",
      "metadata": {
        "id": "RABQc2SQtIbO",
        "colab_type": "code",
        "colab": {}
      },
      "source": [
        "from pandas import Series\n",
        "from sklearn.preprocessing import MinMaxScaler"
      ],
      "execution_count": 0,
      "outputs": []
    },
    {
      "cell_type": "code",
      "metadata": {
        "id": "7PsxD3QstgU7",
        "colab_type": "code",
        "colab": {}
      },
      "source": [
        "#define contrived series\n",
        "data = [10.0, 20.0, 30.0, 40.0, 50.0, 60.0, 70.0, 80.0, 90.0, 100.0]\n",
        "series = Series(data)"
      ],
      "execution_count": 0,
      "outputs": []
    },
    {
      "cell_type": "code",
      "metadata": {
        "id": "6sFGR7tjt1LW",
        "colab_type": "code",
        "outputId": "243060c1-d924-4fb5-e8eb-7c8e6e04dbc9",
        "colab": {
          "base_uri": "https://localhost:8080/",
          "height": 208
        }
      },
      "source": [
        "print(series)"
      ],
      "execution_count": 0,
      "outputs": [
        {
          "output_type": "stream",
          "text": [
            "0     10.0\n",
            "1     20.0\n",
            "2     30.0\n",
            "3     40.0\n",
            "4     50.0\n",
            "5     60.0\n",
            "6     70.0\n",
            "7     80.0\n",
            "8     90.0\n",
            "9    100.0\n",
            "dtype: float64\n"
          ],
          "name": "stdout"
        }
      ]
    },
    {
      "cell_type": "code",
      "metadata": {
        "id": "fAyFH4GWt3Hx",
        "colab_type": "code",
        "colab": {}
      },
      "source": [
        "#prepare data for normalization\n",
        "values = series.values\n",
        "values = values.reshape((len(values), 1))"
      ],
      "execution_count": 0,
      "outputs": []
    },
    {
      "cell_type": "code",
      "metadata": {
        "id": "DUV_2M-IuO9p",
        "colab_type": "code",
        "colab": {}
      },
      "source": [
        "# train the normalization\n",
        "scaler = MinMaxScaler(feature_range=(0,1))"
      ],
      "execution_count": 0,
      "outputs": []
    },
    {
      "cell_type": "code",
      "metadata": {
        "id": "Ds6rsgntujTC",
        "colab_type": "code",
        "outputId": "7967863e-a0d7-44ff-ece5-c5b3995fb3dd",
        "colab": {
          "base_uri": "https://localhost:8080/",
          "height": 35
        }
      },
      "source": [
        "scaler = scaler.fit(values)\n",
        "print('Min: %f, Max: %f' % (scaler.data_min_, scaler.data_max_))"
      ],
      "execution_count": 0,
      "outputs": [
        {
          "output_type": "stream",
          "text": [
            "Min: 10.000000, Max: 100.000000\n"
          ],
          "name": "stdout"
        }
      ]
    },
    {
      "cell_type": "code",
      "metadata": {
        "id": "fePoRQjnu1uw",
        "colab_type": "code",
        "outputId": "bc0211a0-9e12-49fb-afff-9c468db36635",
        "colab": {
          "base_uri": "https://localhost:8080/",
          "height": 191
        }
      },
      "source": [
        "# normalize the dataset and print\n",
        "normalized = scaler.transform(values)\n",
        "print(normalized)"
      ],
      "execution_count": 0,
      "outputs": [
        {
          "output_type": "stream",
          "text": [
            "[[0.        ]\n",
            " [0.11111111]\n",
            " [0.22222222]\n",
            " [0.33333333]\n",
            " [0.44444444]\n",
            " [0.55555556]\n",
            " [0.66666667]\n",
            " [0.77777778]\n",
            " [0.88888889]\n",
            " [1.        ]]\n"
          ],
          "name": "stdout"
        }
      ]
    },
    {
      "cell_type": "code",
      "metadata": {
        "id": "s0rSrAjfv9NI",
        "colab_type": "code",
        "outputId": "c3913403-e0d7-485d-9c51-e452417c05dc",
        "colab": {
          "base_uri": "https://localhost:8080/",
          "height": 191
        }
      },
      "source": [
        "# inverse transform and print\n",
        "inversed = scaler.inverse_transform(normalized)\n",
        "print(inversed)"
      ],
      "execution_count": 0,
      "outputs": [
        {
          "output_type": "stream",
          "text": [
            "[[ 10.]\n",
            " [ 20.]\n",
            " [ 30.]\n",
            " [ 40.]\n",
            " [ 50.]\n",
            " [ 60.]\n",
            " [ 70.]\n",
            " [ 80.]\n",
            " [ 90.]\n",
            " [100.]]\n"
          ],
          "name": "stdout"
        }
      ]
    },
    {
      "cell_type": "code",
      "metadata": {
        "id": "ebsXu85ywINj",
        "colab_type": "code",
        "colab": {}
      },
      "source": [
        ""
      ],
      "execution_count": 0,
      "outputs": []
    }
  ]
}